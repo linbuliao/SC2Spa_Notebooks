{
 "cells": [
  {
   "cell_type": "code",
   "execution_count": 1,
   "id": "f35e624c",
   "metadata": {},
   "outputs": [
    {
     "name": "stdout",
     "output_type": "stream",
     "text": [
      "/mnt/win1\n",
      "/mnt/win1/SC2Spa_Notebook/SVA_BM\n"
     ]
    }
   ],
   "source": [
    "import numpy as np\n",
    "import pandas as pd\n",
    "import anndata as ad\n",
    "import scanpy as sc\n",
    "\n",
    "import NaiveDE\n",
    "import SpatialDE\n",
    "\n",
    "from matplotlib import pyplot as plt\n",
    "\n",
    "import time\n",
    "\n",
    "import random\n",
    "from random import sample\n",
    "\n",
    "from SC2Spa import Vis"
   ]
  },
  {
   "cell_type": "code",
   "execution_count": 8,
   "id": "450b2b6b",
   "metadata": {},
   "outputs": [],
   "source": [
    "def pp(adata):\n",
    "    adata.var_names_make_unique()\n",
    "    adata.raw = adata\n",
    "    sc.pp.normalize_total(adata, target_sum=1e4)\n",
    "    sc.pp.log1p(adata)\n",
    "\n",
    "def SpaDE(adata, Sparse = True, x_name = 'xcoord', y_name = 'ycoord', output='SpatialDE_HC1.csv'):\n",
    "    \n",
    "    if(Sparse):\n",
    "        norm_expr = NaiveDE.stabilize(adata.raw.X.toarray().T).T\n",
    "    else:\n",
    "        norm_expr = NaiveDE.stabilize(adata.raw.X.T).T\n",
    "        \n",
    "    norm_expr = pd.DataFrame(norm_expr, columns = adata.var_names.tolist(),\n",
    "                             index = adata.obs_names.tolist())\n",
    "    \n",
    "    sta = time.time()\n",
    "\n",
    "    X = adata.obs[[x_name, y_name]]\n",
    "    \n",
    "    if(adata.shape[0]>30000):\n",
    "        random.seed(2022)\n",
    "        sample_index = sample(range(adata.shape[0]), 30000)\n",
    "        results = SpatialDE.run(X.iloc[sample_index], norm_expr.iloc[sample_index])\n",
    "    else:\n",
    "        results = SpatialDE.run(X, norm_expr)\n",
    "\n",
    "    end = time.time()\n",
    "    print((end - sta) / 60.0, 'min')\n",
    "    \n",
    "    results.to_csv(output)\n",
    "    \n",
    "    return results"
   ]
  },
  {
   "cell_type": "code",
   "execution_count": 3,
   "id": "9967c92e",
   "metadata": {},
   "outputs": [
    {
     "name": "stderr",
     "output_type": "stream",
     "text": [
      "Variable names are not unique. To make them unique, call `.var_names_make_unique`.\n",
      "/home/linbuliao/anaconda3/lib/python3.9/site-packages/anndata/_core/anndata.py:120: ImplicitModificationWarning: Transforming to str index.\n",
      "  warnings.warn(\"Transforming to str index.\", ImplicitModificationWarning)\n"
     ]
    }
   ],
   "source": [
    "adata_HC1 = ad.read_h5ad('../Dataset/AdataMH1.h5ad')\n",
    "adata_HC2 = ad.read_h5ad('../Dataset/AdataMH2.h5ad')\n",
    "adata_Em1 = ad.read_h5ad('../Dataset/AdataEmbryo1.h5ad')\n",
    "\n",
    "ST = pd.read_csv('../MOB_Visium/MOBRep12_Processed.csv')\n",
    "loc = pd.read_csv('../MOB_Visium/MOBRep12_loc.csv')[['x', 'y']]\n",
    "\n",
    "adata_MOB = ad.AnnData(X=ST.values, obs = loc, var = pd.DataFrame(ST.columns).set_index(0))\n",
    "adata_MOB.var.index.name = None\n",
    "\n",
    "pp(adata_HC1)\n",
    "pp(adata_HC2)\n",
    "pp(adata_Em1)\n",
    "pp(adata_MOB)\n",
    "\n",
    "#HC1\n",
    "Anno = pd.read_csv('../MouseHippocampus_SSV2/ssHippo_RCTD.csv', index_col = 0)\n",
    "Anno['MCT'] = 't'\n",
    "\n",
    "index1 = Anno.index[(Anno['celltype_1'] == Anno['celltype_2'])]\n",
    "Anno['MCT'][index1] = Anno['celltype_1'][index1]\n",
    "index2 = Anno.index[(Anno['celltype_1'] != Anno['celltype_2'])]\n",
    "Anno['MCT'][index2] = (Anno['celltype_1'][index2] + '_' + Anno['celltype_2'][index2]).apply(lambda x: '_'.join(sorted(set(x.split('_')))))\n",
    "\n",
    "adata_HC1.obs = adata_HC1.obs.merge(Anno, left_index = True, right_index = True, how = 'left')\n",
    "adata_HC1_selected = adata_HC1[adata_HC1.obs['spot_class'].apply(lambda x: x in ['doublet_certain', 'singlet'])]\n",
    "\n",
    "#Em1\n",
    "Anno = pd.read_csv('../MouseEmbryo_SSV2/slideSeq_Puck190926_03_RCTD.csv', index_col = 0)\n",
    "Anno['MCT'] = 't'\n",
    "\n",
    "index1 = Anno.index[(Anno['celltype_1'] == Anno['celltype_2'])]\n",
    "Anno['MCT'][index1] = Anno['celltype_1'][index1]\n",
    "index2 = Anno.index[(Anno['celltype_1'] != Anno['celltype_2'])]\n",
    "Anno['MCT'][index2] = (Anno['celltype_1'][index2] + '_' + Anno['celltype_2'][index2]).apply(lambda x: '_'.join(sorted(set(x.split('_')))))\n",
    "\n",
    "adata_Em1.obs = adata_Em1.obs.merge(Anno, left_index = True, right_index = True, how = 'left')\n",
    "adata_Em1_selected = adata_Em1[adata_Em1.obs['spot_class'].apply(lambda x: x in ['doublet_certain', 'singlet'])]"
   ]
  },
  {
   "cell_type": "code",
   "execution_count": null,
   "id": "eec286ab",
   "metadata": {},
   "outputs": [],
   "source": [
    "results_HC1 = SpaDE(adata = adata_HC1, output='SpaDE/SpaDESpatialDE_HC1.csv')"
   ]
  },
  {
   "cell_type": "code",
   "execution_count": 3,
   "id": "f6f0eb72",
   "metadata": {
    "scrolled": true
   },
   "outputs": [
    {
     "name": "stderr",
     "output_type": "stream",
     "text": [
      "/home/linbuliao/anaconda3/lib/python3.9/site-packages/SpatialDE/base.py:26: FutureWarning: Support for multi-dimensional indexing (e.g. `obj[:, None]`) is deprecated and will be removed in a future version.  Convert to a numpy array before indexing instead.\n",
      "  R2 = -2. * np.dot(X, X.T) + (Xsq[:, None] + Xsq[None, :])\n",
      "/home/linbuliao/anaconda3/lib/python3.9/site-packages/SpatialDE/base.py:40: FutureWarning: Support for multi-dimensional indexing (e.g. `obj[:, None]`) is deprecated and will be removed in a future version.  Convert to a numpy array before indexing instead.\n",
      "  R2 = -2. * np.dot(X, X.T) + (Xsq[:, None] + Xsq[None, :])\n"
     ]
    },
    {
     "data": {
      "application/vnd.jupyter.widget-view+json": {
       "model_id": "75f2ace8004c4f2884590413dd8881f0",
       "version_major": 2,
       "version_minor": 0
      },
      "text/plain": [
       "Models:   0%|          | 0/10 [00:00<?, ?it/s]"
      ]
     },
     "metadata": {},
     "output_type": "display_data"
    },
    {
     "data": {
      "application/vnd.jupyter.widget-view+json": {
       "model_id": "",
       "version_major": 2,
       "version_minor": 0
      },
      "text/plain": [
       "  0%|          | 0/19227 [00:00<?, ?it/s]"
      ]
     },
     "metadata": {},
     "output_type": "display_data"
    },
    {
     "data": {
      "application/vnd.jupyter.widget-view+json": {
       "model_id": "",
       "version_major": 2,
       "version_minor": 0
      },
      "text/plain": [
       "  0%|          | 0/19227 [00:00<?, ?it/s]"
      ]
     },
     "metadata": {},
     "output_type": "display_data"
    },
    {
     "name": "stderr",
     "output_type": "stream",
     "text": [
      "/home/linbuliao/anaconda3/lib/python3.9/site-packages/SpatialDE/base.py:178: RuntimeWarning: divide by zero encountered in double_scalars\n",
      "  s2_logdelta = 1. / (derivative(LL_obj, np.log(max_delta), n=2) ** 2)\n"
     ]
    },
    {
     "data": {
      "application/vnd.jupyter.widget-view+json": {
       "model_id": "",
       "version_major": 2,
       "version_minor": 0
      },
      "text/plain": [
       "  0%|          | 0/19227 [00:00<?, ?it/s]"
      ]
     },
     "metadata": {},
     "output_type": "display_data"
    },
    {
     "data": {
      "application/vnd.jupyter.widget-view+json": {
       "model_id": "",
       "version_major": 2,
       "version_minor": 0
      },
      "text/plain": [
       "  0%|          | 0/19227 [00:00<?, ?it/s]"
      ]
     },
     "metadata": {},
     "output_type": "display_data"
    },
    {
     "data": {
      "application/vnd.jupyter.widget-view+json": {
       "model_id": "",
       "version_major": 2,
       "version_minor": 0
      },
      "text/plain": [
       "  0%|          | 0/19227 [00:00<?, ?it/s]"
      ]
     },
     "metadata": {},
     "output_type": "display_data"
    },
    {
     "data": {
      "application/vnd.jupyter.widget-view+json": {
       "model_id": "",
       "version_major": 2,
       "version_minor": 0
      },
      "text/plain": [
       "  0%|          | 0/19227 [00:00<?, ?it/s]"
      ]
     },
     "metadata": {},
     "output_type": "display_data"
    },
    {
     "data": {
      "application/vnd.jupyter.widget-view+json": {
       "model_id": "",
       "version_major": 2,
       "version_minor": 0
      },
      "text/plain": [
       "  0%|          | 0/19227 [00:00<?, ?it/s]"
      ]
     },
     "metadata": {},
     "output_type": "display_data"
    },
    {
     "data": {
      "application/vnd.jupyter.widget-view+json": {
       "model_id": "",
       "version_major": 2,
       "version_minor": 0
      },
      "text/plain": [
       "  0%|          | 0/19227 [00:00<?, ?it/s]"
      ]
     },
     "metadata": {},
     "output_type": "display_data"
    },
    {
     "data": {
      "application/vnd.jupyter.widget-view+json": {
       "model_id": "",
       "version_major": 2,
       "version_minor": 0
      },
      "text/plain": [
       "  0%|          | 0/19227 [00:00<?, ?it/s]"
      ]
     },
     "metadata": {},
     "output_type": "display_data"
    },
    {
     "data": {
      "application/vnd.jupyter.widget-view+json": {
       "model_id": "",
       "version_major": 2,
       "version_minor": 0
      },
      "text/plain": [
       "  0%|          | 0/19227 [00:00<?, ?it/s]"
      ]
     },
     "metadata": {},
     "output_type": "display_data"
    },
    {
     "name": "stdout",
     "output_type": "stream",
     "text": [
      "276.5408626119296 min\n"
     ]
    }
   ],
   "source": [
    "results_HC2 = SpaDE(adata = adata_HC2, output='SpaDE/SpatialDE_HC2.csv')"
   ]
  },
  {
   "cell_type": "code",
   "execution_count": null,
   "id": "77dce0b6",
   "metadata": {
    "scrolled": true
   },
   "outputs": [
    {
     "name": "stderr",
     "output_type": "stream",
     "text": [
      "/home/linbuliao/anaconda3/lib/python3.9/site-packages/SpatialDE/base.py:26: FutureWarning: Support for multi-dimensional indexing (e.g. `obj[:, None]`) is deprecated and will be removed in a future version.  Convert to a numpy array before indexing instead.\n",
      "  R2 = -2. * np.dot(X, X.T) + (Xsq[:, None] + Xsq[None, :])\n",
      "/home/linbuliao/anaconda3/lib/python3.9/site-packages/SpatialDE/base.py:40: FutureWarning: Support for multi-dimensional indexing (e.g. `obj[:, None]`) is deprecated and will be removed in a future version.  Convert to a numpy array before indexing instead.\n",
      "  R2 = -2. * np.dot(X, X.T) + (Xsq[:, None] + Xsq[None, :])\n"
     ]
    },
    {
     "data": {
      "application/vnd.jupyter.widget-view+json": {
       "model_id": "72a4b6e3990747a891e6b2f742bf9c22",
       "version_major": 2,
       "version_minor": 0
      },
      "text/plain": [
       "Models:   0%|          | 0/10 [00:00<?, ?it/s]"
      ]
     },
     "metadata": {},
     "output_type": "display_data"
    },
    {
     "data": {
      "application/vnd.jupyter.widget-view+json": {
       "model_id": "",
       "version_major": 2,
       "version_minor": 0
      },
      "text/plain": [
       "  0%|          | 0/20220 [00:00<?, ?it/s]"
      ]
     },
     "metadata": {},
     "output_type": "display_data"
    },
    {
     "data": {
      "application/vnd.jupyter.widget-view+json": {
       "model_id": "",
       "version_major": 2,
       "version_minor": 0
      },
      "text/plain": [
       "  0%|          | 0/20220 [00:00<?, ?it/s]"
      ]
     },
     "metadata": {},
     "output_type": "display_data"
    },
    {
     "name": "stderr",
     "output_type": "stream",
     "text": [
      "/home/linbuliao/anaconda3/lib/python3.9/site-packages/SpatialDE/base.py:178: RuntimeWarning: divide by zero encountered in double_scalars\n",
      "  s2_logdelta = 1. / (derivative(LL_obj, np.log(max_delta), n=2) ** 2)\n"
     ]
    },
    {
     "data": {
      "application/vnd.jupyter.widget-view+json": {
       "model_id": "",
       "version_major": 2,
       "version_minor": 0
      },
      "text/plain": [
       "  0%|          | 0/20220 [00:00<?, ?it/s]"
      ]
     },
     "metadata": {},
     "output_type": "display_data"
    },
    {
     "name": "stderr",
     "output_type": "stream",
     "text": [
      "/home/linbuliao/anaconda3/lib/python3.9/site-packages/scipy/optimize/_numdiff.py:557: RuntimeWarning: invalid value encountered in subtract\n",
      "  df = fun(x) - f0\n"
     ]
    },
    {
     "data": {
      "application/vnd.jupyter.widget-view+json": {
       "model_id": "",
       "version_major": 2,
       "version_minor": 0
      },
      "text/plain": [
       "  0%|          | 0/20220 [00:00<?, ?it/s]"
      ]
     },
     "metadata": {},
     "output_type": "display_data"
    },
    {
     "data": {
      "application/vnd.jupyter.widget-view+json": {
       "model_id": "",
       "version_major": 2,
       "version_minor": 0
      },
      "text/plain": [
       "  0%|          | 0/20220 [00:00<?, ?it/s]"
      ]
     },
     "metadata": {},
     "output_type": "display_data"
    },
    {
     "data": {
      "application/vnd.jupyter.widget-view+json": {
       "model_id": "",
       "version_major": 2,
       "version_minor": 0
      },
      "text/plain": [
       "  0%|          | 0/20220 [00:00<?, ?it/s]"
      ]
     },
     "metadata": {},
     "output_type": "display_data"
    },
    {
     "data": {
      "application/vnd.jupyter.widget-view+json": {
       "model_id": "",
       "version_major": 2,
       "version_minor": 0
      },
      "text/plain": [
       "  0%|          | 0/20220 [00:00<?, ?it/s]"
      ]
     },
     "metadata": {},
     "output_type": "display_data"
    },
    {
     "data": {
      "application/vnd.jupyter.widget-view+json": {
       "model_id": "229abe953eab4d8a93e302bad0f52daa",
       "version_major": 2,
       "version_minor": 0
      },
      "text/plain": [
       "  0%|          | 0/20220 [00:00<?, ?it/s]"
      ]
     },
     "metadata": {},
     "output_type": "display_data"
    }
   ],
   "source": [
    "results_Em1 = SpaDE(adata_Em1, output='SpaDE/SpatialDE_Em1.csv')"
   ]
  },
  {
   "cell_type": "code",
   "execution_count": 9,
   "id": "c065b57a",
   "metadata": {},
   "outputs": [
    {
     "name": "stderr",
     "output_type": "stream",
     "text": [
      "/home/linbuliao/anaconda3/lib/python3.9/site-packages/SpatialDE/base.py:26: FutureWarning: Support for multi-dimensional indexing (e.g. `obj[:, None]`) is deprecated and will be removed in a future version.  Convert to a numpy array before indexing instead.\n",
      "  R2 = -2. * np.dot(X, X.T) + (Xsq[:, None] + Xsq[None, :])\n",
      "/home/linbuliao/anaconda3/lib/python3.9/site-packages/SpatialDE/base.py:40: FutureWarning: Support for multi-dimensional indexing (e.g. `obj[:, None]`) is deprecated and will be removed in a future version.  Convert to a numpy array before indexing instead.\n",
      "  R2 = -2. * np.dot(X, X.T) + (Xsq[:, None] + Xsq[None, :])\n"
     ]
    },
    {
     "data": {
      "application/vnd.jupyter.widget-view+json": {
       "model_id": "293af125e8a846b1a1171e356ea3c6e0",
       "version_major": 2,
       "version_minor": 0
      },
      "text/plain": [
       "Models:   0%|          | 0/10 [00:00<?, ?it/s]"
      ]
     },
     "metadata": {},
     "output_type": "display_data"
    },
    {
     "data": {
      "application/vnd.jupyter.widget-view+json": {
       "model_id": "",
       "version_major": 2,
       "version_minor": 0
      },
      "text/plain": [
       "  0%|          | 0/14151 [00:00<?, ?it/s]"
      ]
     },
     "metadata": {},
     "output_type": "display_data"
    },
    {
     "name": "stderr",
     "output_type": "stream",
     "text": [
      "/home/linbuliao/anaconda3/lib/python3.9/site-packages/SpatialDE/base.py:178: RuntimeWarning: divide by zero encountered in double_scalars\n",
      "  s2_logdelta = 1. / (derivative(LL_obj, np.log(max_delta), n=2) ** 2)\n"
     ]
    },
    {
     "data": {
      "application/vnd.jupyter.widget-view+json": {
       "model_id": "",
       "version_major": 2,
       "version_minor": 0
      },
      "text/plain": [
       "  0%|          | 0/14151 [00:00<?, ?it/s]"
      ]
     },
     "metadata": {},
     "output_type": "display_data"
    },
    {
     "data": {
      "application/vnd.jupyter.widget-view+json": {
       "model_id": "",
       "version_major": 2,
       "version_minor": 0
      },
      "text/plain": [
       "  0%|          | 0/14151 [00:00<?, ?it/s]"
      ]
     },
     "metadata": {},
     "output_type": "display_data"
    },
    {
     "data": {
      "application/vnd.jupyter.widget-view+json": {
       "model_id": "",
       "version_major": 2,
       "version_minor": 0
      },
      "text/plain": [
       "  0%|          | 0/14151 [00:00<?, ?it/s]"
      ]
     },
     "metadata": {},
     "output_type": "display_data"
    },
    {
     "data": {
      "application/vnd.jupyter.widget-view+json": {
       "model_id": "",
       "version_major": 2,
       "version_minor": 0
      },
      "text/plain": [
       "  0%|          | 0/14151 [00:00<?, ?it/s]"
      ]
     },
     "metadata": {},
     "output_type": "display_data"
    },
    {
     "data": {
      "application/vnd.jupyter.widget-view+json": {
       "model_id": "",
       "version_major": 2,
       "version_minor": 0
      },
      "text/plain": [
       "  0%|          | 0/14151 [00:00<?, ?it/s]"
      ]
     },
     "metadata": {},
     "output_type": "display_data"
    },
    {
     "data": {
      "application/vnd.jupyter.widget-view+json": {
       "model_id": "",
       "version_major": 2,
       "version_minor": 0
      },
      "text/plain": [
       "  0%|          | 0/14151 [00:00<?, ?it/s]"
      ]
     },
     "metadata": {},
     "output_type": "display_data"
    },
    {
     "data": {
      "application/vnd.jupyter.widget-view+json": {
       "model_id": "",
       "version_major": 2,
       "version_minor": 0
      },
      "text/plain": [
       "  0%|          | 0/14151 [00:00<?, ?it/s]"
      ]
     },
     "metadata": {},
     "output_type": "display_data"
    },
    {
     "data": {
      "application/vnd.jupyter.widget-view+json": {
       "model_id": "",
       "version_major": 2,
       "version_minor": 0
      },
      "text/plain": [
       "  0%|          | 0/14151 [00:00<?, ?it/s]"
      ]
     },
     "metadata": {},
     "output_type": "display_data"
    },
    {
     "data": {
      "application/vnd.jupyter.widget-view+json": {
       "model_id": "",
       "version_major": 2,
       "version_minor": 0
      },
      "text/plain": [
       "  0%|          | 0/14151 [00:00<?, ?it/s]"
      ]
     },
     "metadata": {},
     "output_type": "display_data"
    },
    {
     "name": "stdout",
     "output_type": "stream",
     "text": [
      "11.43946571747462 min\n"
     ]
    }
   ],
   "source": [
    "results_MOB = SpaDE(adata_MOB, Sparse = False, x_name = 'x',\n",
    "                    y_name = 'y', output='SpaDE/SpatialDE_MOB.csv')"
   ]
  },
  {
   "cell_type": "markdown",
   "id": "81899c3e",
   "metadata": {},
   "source": [
    "# Cell type specific"
   ]
  },
  {
   "cell_type": "markdown",
   "id": "cadaa07a",
   "metadata": {},
   "source": [
    "## HC1"
   ]
  },
  {
   "cell_type": "code",
   "execution_count": 4,
   "id": "1454d346",
   "metadata": {},
   "outputs": [
    {
     "name": "stdout",
     "output_type": "stream",
     "text": [
      "O        2847\n",
      "A        1700\n",
      "Ec       1252\n",
      "DPc      1055\n",
      "CA1Pc     890\n",
      "CA3Pc     795\n",
      "I         786\n",
      "Name: MCT, dtype: int64\n",
      "O\n"
     ]
    },
    {
     "name": "stderr",
     "output_type": "stream",
     "text": [
      "/home/linbuliao/anaconda3/lib/python3.9/site-packages/SpatialDE/base.py:26: FutureWarning: Support for multi-dimensional indexing (e.g. `obj[:, None]`) is deprecated and will be removed in a future version.  Convert to a numpy array before indexing instead.\n",
      "  R2 = -2. * np.dot(X, X.T) + (Xsq[:, None] + Xsq[None, :])\n",
      "/home/linbuliao/anaconda3/lib/python3.9/site-packages/SpatialDE/base.py:40: FutureWarning: Support for multi-dimensional indexing (e.g. `obj[:, None]`) is deprecated and will be removed in a future version.  Convert to a numpy array before indexing instead.\n",
      "  R2 = -2. * np.dot(X, X.T) + (Xsq[:, None] + Xsq[None, :])\n"
     ]
    },
    {
     "data": {
      "application/vnd.jupyter.widget-view+json": {
       "model_id": "35fcc867695c4ed184f127d7d77ad265",
       "version_major": 2,
       "version_minor": 0
      },
      "text/plain": [
       "Models:   0%|          | 0/10 [00:00<?, ?it/s]"
      ]
     },
     "metadata": {},
     "output_type": "display_data"
    },
    {
     "data": {
      "application/vnd.jupyter.widget-view+json": {
       "model_id": "",
       "version_major": 2,
       "version_minor": 0
      },
      "text/plain": [
       "  0%|          | 0/20527 [00:00<?, ?it/s]"
      ]
     },
     "metadata": {},
     "output_type": "display_data"
    },
    {
     "data": {
      "application/vnd.jupyter.widget-view+json": {
       "model_id": "",
       "version_major": 2,
       "version_minor": 0
      },
      "text/plain": [
       "  0%|          | 0/20527 [00:00<?, ?it/s]"
      ]
     },
     "metadata": {},
     "output_type": "display_data"
    },
    {
     "name": "stderr",
     "output_type": "stream",
     "text": [
      "/home/linbuliao/anaconda3/lib/python3.9/site-packages/SpatialDE/base.py:178: RuntimeWarning: divide by zero encountered in double_scalars\n",
      "  s2_logdelta = 1. / (derivative(LL_obj, np.log(max_delta), n=2) ** 2)\n"
     ]
    },
    {
     "data": {
      "application/vnd.jupyter.widget-view+json": {
       "model_id": "",
       "version_major": 2,
       "version_minor": 0
      },
      "text/plain": [
       "  0%|          | 0/20527 [00:00<?, ?it/s]"
      ]
     },
     "metadata": {},
     "output_type": "display_data"
    },
    {
     "data": {
      "application/vnd.jupyter.widget-view+json": {
       "model_id": "",
       "version_major": 2,
       "version_minor": 0
      },
      "text/plain": [
       "  0%|          | 0/20527 [00:00<?, ?it/s]"
      ]
     },
     "metadata": {},
     "output_type": "display_data"
    },
    {
     "data": {
      "application/vnd.jupyter.widget-view+json": {
       "model_id": "",
       "version_major": 2,
       "version_minor": 0
      },
      "text/plain": [
       "  0%|          | 0/20527 [00:00<?, ?it/s]"
      ]
     },
     "metadata": {},
     "output_type": "display_data"
    },
    {
     "data": {
      "application/vnd.jupyter.widget-view+json": {
       "model_id": "",
       "version_major": 2,
       "version_minor": 0
      },
      "text/plain": [
       "  0%|          | 0/20527 [00:00<?, ?it/s]"
      ]
     },
     "metadata": {},
     "output_type": "display_data"
    },
    {
     "data": {
      "application/vnd.jupyter.widget-view+json": {
       "model_id": "",
       "version_major": 2,
       "version_minor": 0
      },
      "text/plain": [
       "  0%|          | 0/20527 [00:00<?, ?it/s]"
      ]
     },
     "metadata": {},
     "output_type": "display_data"
    },
    {
     "data": {
      "application/vnd.jupyter.widget-view+json": {
       "model_id": "",
       "version_major": 2,
       "version_minor": 0
      },
      "text/plain": [
       "  0%|          | 0/20527 [00:00<?, ?it/s]"
      ]
     },
     "metadata": {},
     "output_type": "display_data"
    },
    {
     "data": {
      "application/vnd.jupyter.widget-view+json": {
       "model_id": "",
       "version_major": 2,
       "version_minor": 0
      },
      "text/plain": [
       "  0%|          | 0/20527 [00:00<?, ?it/s]"
      ]
     },
     "metadata": {},
     "output_type": "display_data"
    },
    {
     "data": {
      "application/vnd.jupyter.widget-view+json": {
       "model_id": "",
       "version_major": 2,
       "version_minor": 0
      },
      "text/plain": [
       "  0%|          | 0/20527 [00:00<?, ?it/s]"
      ]
     },
     "metadata": {},
     "output_type": "display_data"
    },
    {
     "name": "stdout",
     "output_type": "stream",
     "text": [
      "19.36113237142563 min\n",
      "A\n"
     ]
    },
    {
     "data": {
      "application/vnd.jupyter.widget-view+json": {
       "model_id": "e4c0e60749984669861945b096006efb",
       "version_major": 2,
       "version_minor": 0
      },
      "text/plain": [
       "Models:   0%|          | 0/10 [00:00<?, ?it/s]"
      ]
     },
     "metadata": {},
     "output_type": "display_data"
    },
    {
     "data": {
      "application/vnd.jupyter.widget-view+json": {
       "model_id": "",
       "version_major": 2,
       "version_minor": 0
      },
      "text/plain": [
       "  0%|          | 0/20527 [00:00<?, ?it/s]"
      ]
     },
     "metadata": {},
     "output_type": "display_data"
    },
    {
     "data": {
      "application/vnd.jupyter.widget-view+json": {
       "model_id": "",
       "version_major": 2,
       "version_minor": 0
      },
      "text/plain": [
       "  0%|          | 0/20527 [00:00<?, ?it/s]"
      ]
     },
     "metadata": {},
     "output_type": "display_data"
    },
    {
     "data": {
      "application/vnd.jupyter.widget-view+json": {
       "model_id": "",
       "version_major": 2,
       "version_minor": 0
      },
      "text/plain": [
       "  0%|          | 0/20527 [00:00<?, ?it/s]"
      ]
     },
     "metadata": {},
     "output_type": "display_data"
    },
    {
     "data": {
      "application/vnd.jupyter.widget-view+json": {
       "model_id": "",
       "version_major": 2,
       "version_minor": 0
      },
      "text/plain": [
       "  0%|          | 0/20527 [00:00<?, ?it/s]"
      ]
     },
     "metadata": {},
     "output_type": "display_data"
    },
    {
     "data": {
      "application/vnd.jupyter.widget-view+json": {
       "model_id": "",
       "version_major": 2,
       "version_minor": 0
      },
      "text/plain": [
       "  0%|          | 0/20527 [00:00<?, ?it/s]"
      ]
     },
     "metadata": {},
     "output_type": "display_data"
    },
    {
     "data": {
      "application/vnd.jupyter.widget-view+json": {
       "model_id": "",
       "version_major": 2,
       "version_minor": 0
      },
      "text/plain": [
       "  0%|          | 0/20527 [00:00<?, ?it/s]"
      ]
     },
     "metadata": {},
     "output_type": "display_data"
    },
    {
     "data": {
      "application/vnd.jupyter.widget-view+json": {
       "model_id": "",
       "version_major": 2,
       "version_minor": 0
      },
      "text/plain": [
       "  0%|          | 0/20527 [00:00<?, ?it/s]"
      ]
     },
     "metadata": {},
     "output_type": "display_data"
    },
    {
     "data": {
      "application/vnd.jupyter.widget-view+json": {
       "model_id": "",
       "version_major": 2,
       "version_minor": 0
      },
      "text/plain": [
       "  0%|          | 0/20527 [00:00<?, ?it/s]"
      ]
     },
     "metadata": {},
     "output_type": "display_data"
    },
    {
     "data": {
      "application/vnd.jupyter.widget-view+json": {
       "model_id": "",
       "version_major": 2,
       "version_minor": 0
      },
      "text/plain": [
       "  0%|          | 0/20527 [00:00<?, ?it/s]"
      ]
     },
     "metadata": {},
     "output_type": "display_data"
    },
    {
     "data": {
      "application/vnd.jupyter.widget-view+json": {
       "model_id": "",
       "version_major": 2,
       "version_minor": 0
      },
      "text/plain": [
       "  0%|          | 0/20527 [00:00<?, ?it/s]"
      ]
     },
     "metadata": {},
     "output_type": "display_data"
    },
    {
     "name": "stdout",
     "output_type": "stream",
     "text": [
      "12.157715618610382 min\n",
      "Ec\n"
     ]
    },
    {
     "data": {
      "application/vnd.jupyter.widget-view+json": {
       "model_id": "9ba371cc1ec94d859218fe5cc185cad5",
       "version_major": 2,
       "version_minor": 0
      },
      "text/plain": [
       "Models:   0%|          | 0/10 [00:00<?, ?it/s]"
      ]
     },
     "metadata": {},
     "output_type": "display_data"
    },
    {
     "data": {
      "application/vnd.jupyter.widget-view+json": {
       "model_id": "",
       "version_major": 2,
       "version_minor": 0
      },
      "text/plain": [
       "  0%|          | 0/20527 [00:00<?, ?it/s]"
      ]
     },
     "metadata": {},
     "output_type": "display_data"
    },
    {
     "data": {
      "application/vnd.jupyter.widget-view+json": {
       "model_id": "",
       "version_major": 2,
       "version_minor": 0
      },
      "text/plain": [
       "  0%|          | 0/20527 [00:00<?, ?it/s]"
      ]
     },
     "metadata": {},
     "output_type": "display_data"
    },
    {
     "data": {
      "application/vnd.jupyter.widget-view+json": {
       "model_id": "",
       "version_major": 2,
       "version_minor": 0
      },
      "text/plain": [
       "  0%|          | 0/20527 [00:00<?, ?it/s]"
      ]
     },
     "metadata": {},
     "output_type": "display_data"
    },
    {
     "data": {
      "application/vnd.jupyter.widget-view+json": {
       "model_id": "",
       "version_major": 2,
       "version_minor": 0
      },
      "text/plain": [
       "  0%|          | 0/20527 [00:00<?, ?it/s]"
      ]
     },
     "metadata": {},
     "output_type": "display_data"
    },
    {
     "data": {
      "application/vnd.jupyter.widget-view+json": {
       "model_id": "",
       "version_major": 2,
       "version_minor": 0
      },
      "text/plain": [
       "  0%|          | 0/20527 [00:00<?, ?it/s]"
      ]
     },
     "metadata": {},
     "output_type": "display_data"
    },
    {
     "data": {
      "application/vnd.jupyter.widget-view+json": {
       "model_id": "",
       "version_major": 2,
       "version_minor": 0
      },
      "text/plain": [
       "  0%|          | 0/20527 [00:00<?, ?it/s]"
      ]
     },
     "metadata": {},
     "output_type": "display_data"
    },
    {
     "data": {
      "application/vnd.jupyter.widget-view+json": {
       "model_id": "",
       "version_major": 2,
       "version_minor": 0
      },
      "text/plain": [
       "  0%|          | 0/20527 [00:00<?, ?it/s]"
      ]
     },
     "metadata": {},
     "output_type": "display_data"
    },
    {
     "data": {
      "application/vnd.jupyter.widget-view+json": {
       "model_id": "",
       "version_major": 2,
       "version_minor": 0
      },
      "text/plain": [
       "  0%|          | 0/20527 [00:00<?, ?it/s]"
      ]
     },
     "metadata": {},
     "output_type": "display_data"
    },
    {
     "data": {
      "application/vnd.jupyter.widget-view+json": {
       "model_id": "",
       "version_major": 2,
       "version_minor": 0
      },
      "text/plain": [
       "  0%|          | 0/20527 [00:00<?, ?it/s]"
      ]
     },
     "metadata": {},
     "output_type": "display_data"
    },
    {
     "data": {
      "application/vnd.jupyter.widget-view+json": {
       "model_id": "",
       "version_major": 2,
       "version_minor": 0
      },
      "text/plain": [
       "  0%|          | 0/20527 [00:00<?, ?it/s]"
      ]
     },
     "metadata": {},
     "output_type": "display_data"
    },
    {
     "name": "stdout",
     "output_type": "stream",
     "text": [
      "15.78214529355367 min\n",
      "DPc\n"
     ]
    },
    {
     "data": {
      "application/vnd.jupyter.widget-view+json": {
       "model_id": "248b65f363fe47cfb3ba66100424a35d",
       "version_major": 2,
       "version_minor": 0
      },
      "text/plain": [
       "Models:   0%|          | 0/10 [00:00<?, ?it/s]"
      ]
     },
     "metadata": {},
     "output_type": "display_data"
    },
    {
     "data": {
      "application/vnd.jupyter.widget-view+json": {
       "model_id": "",
       "version_major": 2,
       "version_minor": 0
      },
      "text/plain": [
       "  0%|          | 0/20527 [00:00<?, ?it/s]"
      ]
     },
     "metadata": {},
     "output_type": "display_data"
    },
    {
     "data": {
      "application/vnd.jupyter.widget-view+json": {
       "model_id": "",
       "version_major": 2,
       "version_minor": 0
      },
      "text/plain": [
       "  0%|          | 0/20527 [00:00<?, ?it/s]"
      ]
     },
     "metadata": {},
     "output_type": "display_data"
    },
    {
     "data": {
      "application/vnd.jupyter.widget-view+json": {
       "model_id": "",
       "version_major": 2,
       "version_minor": 0
      },
      "text/plain": [
       "  0%|          | 0/20527 [00:00<?, ?it/s]"
      ]
     },
     "metadata": {},
     "output_type": "display_data"
    },
    {
     "data": {
      "application/vnd.jupyter.widget-view+json": {
       "model_id": "",
       "version_major": 2,
       "version_minor": 0
      },
      "text/plain": [
       "  0%|          | 0/20527 [00:00<?, ?it/s]"
      ]
     },
     "metadata": {},
     "output_type": "display_data"
    },
    {
     "data": {
      "application/vnd.jupyter.widget-view+json": {
       "model_id": "",
       "version_major": 2,
       "version_minor": 0
      },
      "text/plain": [
       "  0%|          | 0/20527 [00:00<?, ?it/s]"
      ]
     },
     "metadata": {},
     "output_type": "display_data"
    },
    {
     "data": {
      "application/vnd.jupyter.widget-view+json": {
       "model_id": "",
       "version_major": 2,
       "version_minor": 0
      },
      "text/plain": [
       "  0%|          | 0/20527 [00:00<?, ?it/s]"
      ]
     },
     "metadata": {},
     "output_type": "display_data"
    },
    {
     "data": {
      "application/vnd.jupyter.widget-view+json": {
       "model_id": "",
       "version_major": 2,
       "version_minor": 0
      },
      "text/plain": [
       "  0%|          | 0/20527 [00:00<?, ?it/s]"
      ]
     },
     "metadata": {},
     "output_type": "display_data"
    },
    {
     "data": {
      "application/vnd.jupyter.widget-view+json": {
       "model_id": "",
       "version_major": 2,
       "version_minor": 0
      },
      "text/plain": [
       "  0%|          | 0/20527 [00:00<?, ?it/s]"
      ]
     },
     "metadata": {},
     "output_type": "display_data"
    },
    {
     "data": {
      "application/vnd.jupyter.widget-view+json": {
       "model_id": "",
       "version_major": 2,
       "version_minor": 0
      },
      "text/plain": [
       "  0%|          | 0/20527 [00:00<?, ?it/s]"
      ]
     },
     "metadata": {},
     "output_type": "display_data"
    },
    {
     "data": {
      "application/vnd.jupyter.widget-view+json": {
       "model_id": "",
       "version_major": 2,
       "version_minor": 0
      },
      "text/plain": [
       "  0%|          | 0/20527 [00:00<?, ?it/s]"
      ]
     },
     "metadata": {},
     "output_type": "display_data"
    },
    {
     "name": "stdout",
     "output_type": "stream",
     "text": [
      "14.914390397071838 min\n",
      "CA1Pc\n"
     ]
    },
    {
     "data": {
      "application/vnd.jupyter.widget-view+json": {
       "model_id": "8e93f3bf67b346c8a9279370634eb540",
       "version_major": 2,
       "version_minor": 0
      },
      "text/plain": [
       "Models:   0%|          | 0/10 [00:00<?, ?it/s]"
      ]
     },
     "metadata": {},
     "output_type": "display_data"
    },
    {
     "data": {
      "application/vnd.jupyter.widget-view+json": {
       "model_id": "",
       "version_major": 2,
       "version_minor": 0
      },
      "text/plain": [
       "  0%|          | 0/20527 [00:00<?, ?it/s]"
      ]
     },
     "metadata": {},
     "output_type": "display_data"
    },
    {
     "data": {
      "application/vnd.jupyter.widget-view+json": {
       "model_id": "",
       "version_major": 2,
       "version_minor": 0
      },
      "text/plain": [
       "  0%|          | 0/20527 [00:00<?, ?it/s]"
      ]
     },
     "metadata": {},
     "output_type": "display_data"
    },
    {
     "data": {
      "application/vnd.jupyter.widget-view+json": {
       "model_id": "",
       "version_major": 2,
       "version_minor": 0
      },
      "text/plain": [
       "  0%|          | 0/20527 [00:00<?, ?it/s]"
      ]
     },
     "metadata": {},
     "output_type": "display_data"
    },
    {
     "data": {
      "application/vnd.jupyter.widget-view+json": {
       "model_id": "",
       "version_major": 2,
       "version_minor": 0
      },
      "text/plain": [
       "  0%|          | 0/20527 [00:00<?, ?it/s]"
      ]
     },
     "metadata": {},
     "output_type": "display_data"
    },
    {
     "data": {
      "application/vnd.jupyter.widget-view+json": {
       "model_id": "",
       "version_major": 2,
       "version_minor": 0
      },
      "text/plain": [
       "  0%|          | 0/20527 [00:00<?, ?it/s]"
      ]
     },
     "metadata": {},
     "output_type": "display_data"
    },
    {
     "data": {
      "application/vnd.jupyter.widget-view+json": {
       "model_id": "",
       "version_major": 2,
       "version_minor": 0
      },
      "text/plain": [
       "  0%|          | 0/20527 [00:00<?, ?it/s]"
      ]
     },
     "metadata": {},
     "output_type": "display_data"
    },
    {
     "data": {
      "application/vnd.jupyter.widget-view+json": {
       "model_id": "",
       "version_major": 2,
       "version_minor": 0
      },
      "text/plain": [
       "  0%|          | 0/20527 [00:00<?, ?it/s]"
      ]
     },
     "metadata": {},
     "output_type": "display_data"
    },
    {
     "data": {
      "application/vnd.jupyter.widget-view+json": {
       "model_id": "",
       "version_major": 2,
       "version_minor": 0
      },
      "text/plain": [
       "  0%|          | 0/20527 [00:00<?, ?it/s]"
      ]
     },
     "metadata": {},
     "output_type": "display_data"
    },
    {
     "data": {
      "application/vnd.jupyter.widget-view+json": {
       "model_id": "",
       "version_major": 2,
       "version_minor": 0
      },
      "text/plain": [
       "  0%|          | 0/20527 [00:00<?, ?it/s]"
      ]
     },
     "metadata": {},
     "output_type": "display_data"
    },
    {
     "data": {
      "application/vnd.jupyter.widget-view+json": {
       "model_id": "",
       "version_major": 2,
       "version_minor": 0
      },
      "text/plain": [
       "  0%|          | 0/20527 [00:00<?, ?it/s]"
      ]
     },
     "metadata": {},
     "output_type": "display_data"
    },
    {
     "name": "stdout",
     "output_type": "stream",
     "text": [
      "15.987781949838002 min\n",
      "CA3Pc\n"
     ]
    },
    {
     "data": {
      "application/vnd.jupyter.widget-view+json": {
       "model_id": "c42739dd7bf44779b4122e49092a646f",
       "version_major": 2,
       "version_minor": 0
      },
      "text/plain": [
       "Models:   0%|          | 0/10 [00:00<?, ?it/s]"
      ]
     },
     "metadata": {},
     "output_type": "display_data"
    },
    {
     "data": {
      "application/vnd.jupyter.widget-view+json": {
       "model_id": "",
       "version_major": 2,
       "version_minor": 0
      },
      "text/plain": [
       "  0%|          | 0/20527 [00:00<?, ?it/s]"
      ]
     },
     "metadata": {},
     "output_type": "display_data"
    },
    {
     "data": {
      "application/vnd.jupyter.widget-view+json": {
       "model_id": "",
       "version_major": 2,
       "version_minor": 0
      },
      "text/plain": [
       "  0%|          | 0/20527 [00:00<?, ?it/s]"
      ]
     },
     "metadata": {},
     "output_type": "display_data"
    },
    {
     "data": {
      "application/vnd.jupyter.widget-view+json": {
       "model_id": "",
       "version_major": 2,
       "version_minor": 0
      },
      "text/plain": [
       "  0%|          | 0/20527 [00:00<?, ?it/s]"
      ]
     },
     "metadata": {},
     "output_type": "display_data"
    },
    {
     "data": {
      "application/vnd.jupyter.widget-view+json": {
       "model_id": "",
       "version_major": 2,
       "version_minor": 0
      },
      "text/plain": [
       "  0%|          | 0/20527 [00:00<?, ?it/s]"
      ]
     },
     "metadata": {},
     "output_type": "display_data"
    },
    {
     "data": {
      "application/vnd.jupyter.widget-view+json": {
       "model_id": "",
       "version_major": 2,
       "version_minor": 0
      },
      "text/plain": [
       "  0%|          | 0/20527 [00:00<?, ?it/s]"
      ]
     },
     "metadata": {},
     "output_type": "display_data"
    },
    {
     "data": {
      "application/vnd.jupyter.widget-view+json": {
       "model_id": "",
       "version_major": 2,
       "version_minor": 0
      },
      "text/plain": [
       "  0%|          | 0/20527 [00:00<?, ?it/s]"
      ]
     },
     "metadata": {},
     "output_type": "display_data"
    },
    {
     "data": {
      "application/vnd.jupyter.widget-view+json": {
       "model_id": "",
       "version_major": 2,
       "version_minor": 0
      },
      "text/plain": [
       "  0%|          | 0/20527 [00:00<?, ?it/s]"
      ]
     },
     "metadata": {},
     "output_type": "display_data"
    },
    {
     "data": {
      "application/vnd.jupyter.widget-view+json": {
       "model_id": "",
       "version_major": 2,
       "version_minor": 0
      },
      "text/plain": [
       "  0%|          | 0/20527 [00:00<?, ?it/s]"
      ]
     },
     "metadata": {},
     "output_type": "display_data"
    },
    {
     "data": {
      "application/vnd.jupyter.widget-view+json": {
       "model_id": "",
       "version_major": 2,
       "version_minor": 0
      },
      "text/plain": [
       "  0%|          | 0/20527 [00:00<?, ?it/s]"
      ]
     },
     "metadata": {},
     "output_type": "display_data"
    },
    {
     "data": {
      "application/vnd.jupyter.widget-view+json": {
       "model_id": "",
       "version_major": 2,
       "version_minor": 0
      },
      "text/plain": [
       "  0%|          | 0/20527 [00:00<?, ?it/s]"
      ]
     },
     "metadata": {},
     "output_type": "display_data"
    },
    {
     "name": "stdout",
     "output_type": "stream",
     "text": [
      "12.656315032641093 min\n",
      "I\n"
     ]
    },
    {
     "data": {
      "application/vnd.jupyter.widget-view+json": {
       "model_id": "3ee366867c394ae2adb397dbde9f0220",
       "version_major": 2,
       "version_minor": 0
      },
      "text/plain": [
       "Models:   0%|          | 0/10 [00:00<?, ?it/s]"
      ]
     },
     "metadata": {},
     "output_type": "display_data"
    },
    {
     "data": {
      "application/vnd.jupyter.widget-view+json": {
       "model_id": "",
       "version_major": 2,
       "version_minor": 0
      },
      "text/plain": [
       "  0%|          | 0/20527 [00:00<?, ?it/s]"
      ]
     },
     "metadata": {},
     "output_type": "display_data"
    },
    {
     "name": "stderr",
     "output_type": "stream",
     "text": [
      "/home/linbuliao/anaconda3/lib/python3.9/site-packages/scipy/optimize/_numdiff.py:557: RuntimeWarning: invalid value encountered in subtract\n",
      "  df = fun(x) - f0\n"
     ]
    },
    {
     "data": {
      "application/vnd.jupyter.widget-view+json": {
       "model_id": "",
       "version_major": 2,
       "version_minor": 0
      },
      "text/plain": [
       "  0%|          | 0/20527 [00:00<?, ?it/s]"
      ]
     },
     "metadata": {},
     "output_type": "display_data"
    },
    {
     "name": "stderr",
     "output_type": "stream",
     "text": [
      "/home/linbuliao/anaconda3/lib/python3.9/site-packages/scipy/misc/common.py:144: RuntimeWarning: invalid value encountered in double_scalars\n",
      "  val += weights[k]*func(x0+(k-ho)*dx,*args)\n"
     ]
    },
    {
     "data": {
      "application/vnd.jupyter.widget-view+json": {
       "model_id": "",
       "version_major": 2,
       "version_minor": 0
      },
      "text/plain": [
       "  0%|          | 0/20527 [00:00<?, ?it/s]"
      ]
     },
     "metadata": {},
     "output_type": "display_data"
    },
    {
     "data": {
      "application/vnd.jupyter.widget-view+json": {
       "model_id": "",
       "version_major": 2,
       "version_minor": 0
      },
      "text/plain": [
       "  0%|          | 0/20527 [00:00<?, ?it/s]"
      ]
     },
     "metadata": {},
     "output_type": "display_data"
    },
    {
     "data": {
      "application/vnd.jupyter.widget-view+json": {
       "model_id": "",
       "version_major": 2,
       "version_minor": 0
      },
      "text/plain": [
       "  0%|          | 0/20527 [00:00<?, ?it/s]"
      ]
     },
     "metadata": {},
     "output_type": "display_data"
    },
    {
     "data": {
      "application/vnd.jupyter.widget-view+json": {
       "model_id": "",
       "version_major": 2,
       "version_minor": 0
      },
      "text/plain": [
       "  0%|          | 0/20527 [00:00<?, ?it/s]"
      ]
     },
     "metadata": {},
     "output_type": "display_data"
    },
    {
     "data": {
      "application/vnd.jupyter.widget-view+json": {
       "model_id": "",
       "version_major": 2,
       "version_minor": 0
      },
      "text/plain": [
       "  0%|          | 0/20527 [00:00<?, ?it/s]"
      ]
     },
     "metadata": {},
     "output_type": "display_data"
    },
    {
     "data": {
      "application/vnd.jupyter.widget-view+json": {
       "model_id": "",
       "version_major": 2,
       "version_minor": 0
      },
      "text/plain": [
       "  0%|          | 0/20527 [00:00<?, ?it/s]"
      ]
     },
     "metadata": {},
     "output_type": "display_data"
    },
    {
     "data": {
      "application/vnd.jupyter.widget-view+json": {
       "model_id": "",
       "version_major": 2,
       "version_minor": 0
      },
      "text/plain": [
       "  0%|          | 0/20527 [00:00<?, ?it/s]"
      ]
     },
     "metadata": {},
     "output_type": "display_data"
    },
    {
     "data": {
      "application/vnd.jupyter.widget-view+json": {
       "model_id": "",
       "version_major": 2,
       "version_minor": 0
      },
      "text/plain": [
       "  0%|          | 0/20527 [00:00<?, ?it/s]"
      ]
     },
     "metadata": {},
     "output_type": "display_data"
    },
    {
     "name": "stdout",
     "output_type": "stream",
     "text": [
      "18.501903239885966 min\n"
     ]
    }
   ],
   "source": [
    "CTs = adata_HC1_selected.obs['MCT'].value_counts()\n",
    "is_doub = CTs.index.str.contains('_')\n",
    "\n",
    "SCTs = CTs[~is_doub]\n",
    "SCTs_selected = SCTs[SCTs > 500].index.tolist()\n",
    "print(SCTs[SCTs > 500])\n",
    "\n",
    "result_HC1_CTS = []\n",
    "for CT in SCTs_selected:\n",
    "    print(CT)\n",
    "    t = SpaDE(adata = adata_HC1_selected[adata_HC1_selected.obs['MCT'] == CT],\n",
    "                        output='SpaDE/SpatialDE_HC1_' + CT + '.csv')\n",
    "    result_HC1_CTS.append(t)"
   ]
  },
  {
   "cell_type": "markdown",
   "id": "6bd099ad",
   "metadata": {},
   "source": [
    "## Em1"
   ]
  },
  {
   "cell_type": "code",
   "execution_count": 5,
   "id": "50836657",
   "metadata": {},
   "outputs": [
    {
     "name": "stdout",
     "output_type": "stream",
     "text": [
      "Sc     4655\n",
      "My     1368\n",
      "Ept     693\n",
      "Name: MCT, dtype: int64\n",
      "Sc\n"
     ]
    },
    {
     "data": {
      "application/vnd.jupyter.widget-view+json": {
       "model_id": "207db20348d74ce78f9b8a3de0a8395f",
       "version_major": 2,
       "version_minor": 0
      },
      "text/plain": [
       "Models:   0%|          | 0/10 [00:00<?, ?it/s]"
      ]
     },
     "metadata": {},
     "output_type": "display_data"
    },
    {
     "data": {
      "application/vnd.jupyter.widget-view+json": {
       "model_id": "",
       "version_major": 2,
       "version_minor": 0
      },
      "text/plain": [
       "  0%|          | 0/20220 [00:00<?, ?it/s]"
      ]
     },
     "metadata": {},
     "output_type": "display_data"
    },
    {
     "data": {
      "application/vnd.jupyter.widget-view+json": {
       "model_id": "",
       "version_major": 2,
       "version_minor": 0
      },
      "text/plain": [
       "  0%|          | 0/20220 [00:00<?, ?it/s]"
      ]
     },
     "metadata": {},
     "output_type": "display_data"
    },
    {
     "data": {
      "application/vnd.jupyter.widget-view+json": {
       "model_id": "",
       "version_major": 2,
       "version_minor": 0
      },
      "text/plain": [
       "  0%|          | 0/20220 [00:00<?, ?it/s]"
      ]
     },
     "metadata": {},
     "output_type": "display_data"
    },
    {
     "data": {
      "application/vnd.jupyter.widget-view+json": {
       "model_id": "",
       "version_major": 2,
       "version_minor": 0
      },
      "text/plain": [
       "  0%|          | 0/20220 [00:00<?, ?it/s]"
      ]
     },
     "metadata": {},
     "output_type": "display_data"
    },
    {
     "data": {
      "application/vnd.jupyter.widget-view+json": {
       "model_id": "",
       "version_major": 2,
       "version_minor": 0
      },
      "text/plain": [
       "  0%|          | 0/20220 [00:00<?, ?it/s]"
      ]
     },
     "metadata": {},
     "output_type": "display_data"
    },
    {
     "data": {
      "application/vnd.jupyter.widget-view+json": {
       "model_id": "",
       "version_major": 2,
       "version_minor": 0
      },
      "text/plain": [
       "  0%|          | 0/20220 [00:00<?, ?it/s]"
      ]
     },
     "metadata": {},
     "output_type": "display_data"
    },
    {
     "data": {
      "application/vnd.jupyter.widget-view+json": {
       "model_id": "",
       "version_major": 2,
       "version_minor": 0
      },
      "text/plain": [
       "  0%|          | 0/20220 [00:00<?, ?it/s]"
      ]
     },
     "metadata": {},
     "output_type": "display_data"
    },
    {
     "data": {
      "application/vnd.jupyter.widget-view+json": {
       "model_id": "",
       "version_major": 2,
       "version_minor": 0
      },
      "text/plain": [
       "  0%|          | 0/20220 [00:00<?, ?it/s]"
      ]
     },
     "metadata": {},
     "output_type": "display_data"
    },
    {
     "data": {
      "application/vnd.jupyter.widget-view+json": {
       "model_id": "",
       "version_major": 2,
       "version_minor": 0
      },
      "text/plain": [
       "  0%|          | 0/20220 [00:00<?, ?it/s]"
      ]
     },
     "metadata": {},
     "output_type": "display_data"
    },
    {
     "data": {
      "application/vnd.jupyter.widget-view+json": {
       "model_id": "",
       "version_major": 2,
       "version_minor": 0
      },
      "text/plain": [
       "  0%|          | 0/20220 [00:00<?, ?it/s]"
      ]
     },
     "metadata": {},
     "output_type": "display_data"
    },
    {
     "name": "stdout",
     "output_type": "stream",
     "text": [
      "41.78558915456136 min\n",
      "My\n"
     ]
    },
    {
     "data": {
      "application/vnd.jupyter.widget-view+json": {
       "model_id": "d05e36bae639423c8e2439021161baf4",
       "version_major": 2,
       "version_minor": 0
      },
      "text/plain": [
       "Models:   0%|          | 0/10 [00:00<?, ?it/s]"
      ]
     },
     "metadata": {},
     "output_type": "display_data"
    },
    {
     "data": {
      "application/vnd.jupyter.widget-view+json": {
       "model_id": "",
       "version_major": 2,
       "version_minor": 0
      },
      "text/plain": [
       "  0%|          | 0/20220 [00:00<?, ?it/s]"
      ]
     },
     "metadata": {},
     "output_type": "display_data"
    },
    {
     "data": {
      "application/vnd.jupyter.widget-view+json": {
       "model_id": "",
       "version_major": 2,
       "version_minor": 0
      },
      "text/plain": [
       "  0%|          | 0/20220 [00:00<?, ?it/s]"
      ]
     },
     "metadata": {},
     "output_type": "display_data"
    },
    {
     "data": {
      "application/vnd.jupyter.widget-view+json": {
       "model_id": "",
       "version_major": 2,
       "version_minor": 0
      },
      "text/plain": [
       "  0%|          | 0/20220 [00:00<?, ?it/s]"
      ]
     },
     "metadata": {},
     "output_type": "display_data"
    },
    {
     "data": {
      "application/vnd.jupyter.widget-view+json": {
       "model_id": "",
       "version_major": 2,
       "version_minor": 0
      },
      "text/plain": [
       "  0%|          | 0/20220 [00:00<?, ?it/s]"
      ]
     },
     "metadata": {},
     "output_type": "display_data"
    },
    {
     "data": {
      "application/vnd.jupyter.widget-view+json": {
       "model_id": "",
       "version_major": 2,
       "version_minor": 0
      },
      "text/plain": [
       "  0%|          | 0/20220 [00:00<?, ?it/s]"
      ]
     },
     "metadata": {},
     "output_type": "display_data"
    },
    {
     "data": {
      "application/vnd.jupyter.widget-view+json": {
       "model_id": "",
       "version_major": 2,
       "version_minor": 0
      },
      "text/plain": [
       "  0%|          | 0/20220 [00:00<?, ?it/s]"
      ]
     },
     "metadata": {},
     "output_type": "display_data"
    },
    {
     "data": {
      "application/vnd.jupyter.widget-view+json": {
       "model_id": "",
       "version_major": 2,
       "version_minor": 0
      },
      "text/plain": [
       "  0%|          | 0/20220 [00:00<?, ?it/s]"
      ]
     },
     "metadata": {},
     "output_type": "display_data"
    },
    {
     "data": {
      "application/vnd.jupyter.widget-view+json": {
       "model_id": "",
       "version_major": 2,
       "version_minor": 0
      },
      "text/plain": [
       "  0%|          | 0/20220 [00:00<?, ?it/s]"
      ]
     },
     "metadata": {},
     "output_type": "display_data"
    },
    {
     "data": {
      "application/vnd.jupyter.widget-view+json": {
       "model_id": "",
       "version_major": 2,
       "version_minor": 0
      },
      "text/plain": [
       "  0%|          | 0/20220 [00:00<?, ?it/s]"
      ]
     },
     "metadata": {},
     "output_type": "display_data"
    },
    {
     "data": {
      "application/vnd.jupyter.widget-view+json": {
       "model_id": "",
       "version_major": 2,
       "version_minor": 0
      },
      "text/plain": [
       "  0%|          | 0/20220 [00:00<?, ?it/s]"
      ]
     },
     "metadata": {},
     "output_type": "display_data"
    },
    {
     "name": "stdout",
     "output_type": "stream",
     "text": [
      "31.95531893968582 min\n",
      "Ept\n"
     ]
    },
    {
     "data": {
      "application/vnd.jupyter.widget-view+json": {
       "model_id": "d887df05cf4f44c49469a06f4eb622c1",
       "version_major": 2,
       "version_minor": 0
      },
      "text/plain": [
       "Models:   0%|          | 0/10 [00:00<?, ?it/s]"
      ]
     },
     "metadata": {},
     "output_type": "display_data"
    },
    {
     "data": {
      "application/vnd.jupyter.widget-view+json": {
       "model_id": "",
       "version_major": 2,
       "version_minor": 0
      },
      "text/plain": [
       "  0%|          | 0/20220 [00:00<?, ?it/s]"
      ]
     },
     "metadata": {},
     "output_type": "display_data"
    },
    {
     "data": {
      "application/vnd.jupyter.widget-view+json": {
       "model_id": "",
       "version_major": 2,
       "version_minor": 0
      },
      "text/plain": [
       "  0%|          | 0/20220 [00:00<?, ?it/s]"
      ]
     },
     "metadata": {},
     "output_type": "display_data"
    },
    {
     "data": {
      "application/vnd.jupyter.widget-view+json": {
       "model_id": "",
       "version_major": 2,
       "version_minor": 0
      },
      "text/plain": [
       "  0%|          | 0/20220 [00:00<?, ?it/s]"
      ]
     },
     "metadata": {},
     "output_type": "display_data"
    },
    {
     "data": {
      "application/vnd.jupyter.widget-view+json": {
       "model_id": "",
       "version_major": 2,
       "version_minor": 0
      },
      "text/plain": [
       "  0%|          | 0/20220 [00:00<?, ?it/s]"
      ]
     },
     "metadata": {},
     "output_type": "display_data"
    },
    {
     "data": {
      "application/vnd.jupyter.widget-view+json": {
       "model_id": "",
       "version_major": 2,
       "version_minor": 0
      },
      "text/plain": [
       "  0%|          | 0/20220 [00:00<?, ?it/s]"
      ]
     },
     "metadata": {},
     "output_type": "display_data"
    },
    {
     "data": {
      "application/vnd.jupyter.widget-view+json": {
       "model_id": "",
       "version_major": 2,
       "version_minor": 0
      },
      "text/plain": [
       "  0%|          | 0/20220 [00:00<?, ?it/s]"
      ]
     },
     "metadata": {},
     "output_type": "display_data"
    },
    {
     "data": {
      "application/vnd.jupyter.widget-view+json": {
       "model_id": "",
       "version_major": 2,
       "version_minor": 0
      },
      "text/plain": [
       "  0%|          | 0/20220 [00:00<?, ?it/s]"
      ]
     },
     "metadata": {},
     "output_type": "display_data"
    },
    {
     "data": {
      "application/vnd.jupyter.widget-view+json": {
       "model_id": "",
       "version_major": 2,
       "version_minor": 0
      },
      "text/plain": [
       "  0%|          | 0/20220 [00:00<?, ?it/s]"
      ]
     },
     "metadata": {},
     "output_type": "display_data"
    },
    {
     "data": {
      "application/vnd.jupyter.widget-view+json": {
       "model_id": "",
       "version_major": 2,
       "version_minor": 0
      },
      "text/plain": [
       "  0%|          | 0/20220 [00:00<?, ?it/s]"
      ]
     },
     "metadata": {},
     "output_type": "display_data"
    },
    {
     "data": {
      "application/vnd.jupyter.widget-view+json": {
       "model_id": "",
       "version_major": 2,
       "version_minor": 0
      },
      "text/plain": [
       "  0%|          | 0/20220 [00:00<?, ?it/s]"
      ]
     },
     "metadata": {},
     "output_type": "display_data"
    },
    {
     "name": "stdout",
     "output_type": "stream",
     "text": [
      "17.17993579308192 min\n"
     ]
    }
   ],
   "source": [
    "CTs = adata_Em1_selected.obs['MCT'].value_counts()\n",
    "is_doub = CTs.index.str.contains('_')\n",
    "\n",
    "SCTs = CTs[~is_doub]\n",
    "SCTs_selected = SCTs[SCTs > 500].index.tolist()\n",
    "print(SCTs[SCTs > 500])\n",
    "\n",
    "result_Em1_CTS = []\n",
    "for CT in SCTs_selected:\n",
    "    print(CT)\n",
    "    t = SpaDE(adata = adata_Em1_selected[adata_Em1_selected.obs['MCT'] == CT],\n",
    "                        output='SpaDE/SpatialDE_Em1_' + CT + '.csv')\n",
    "    result_Em1_CTS.append(t)"
   ]
  },
  {
   "cell_type": "markdown",
   "id": "1a28e5e3",
   "metadata": {},
   "source": [
    "# Result Analysis"
   ]
  },
  {
   "cell_type": "code",
   "execution_count": 30,
   "id": "d5cace4e",
   "metadata": {},
   "outputs": [
    {
     "name": "stderr",
     "output_type": "stream",
     "text": [
      "Variable names are not unique. To make them unique, call `.var_names_make_unique`.\n"
     ]
    }
   ],
   "source": [
    "\n",
    "\n",
    "adata_HC1.var_names_make_unique()\n",
    "adata_HC2.var_names_make_unique()\n",
    "adata_Em1.var_names_make_unique()\n",
    "\n",
    "Result_HC1 = pd.read_csv('SpatialDE_HC1.csv')\n",
    "Result_HC2 = pd.read_csv('SpatialDE_HC2.csv')\n",
    "Result_Em1 = pd.read_csv('SpatialDE_Em1.csv')\n",
    "\n",
    "'''\n",
    "for g in Result_HC1[Result_HC1['LLR'] == np.inf]['g'].tolist():\n",
    "    print(g)\n",
    "    print(pd.value_counts(adata_HC1[:,g].X.toarray().flatten()))\n",
    "    \n",
    "GM15401\n",
    "0.0    35347\n",
    "1.0        2\n",
    "dtype: int64\n",
    "GM15401\n",
    "0.0    35347\n",
    "1.0        2\n",
    "dtype: int64\n",
    "GM15915\n",
    "0.0    35346\n",
    "1.0        3\n",
    "dtype: int64\n",
    "GM15915\n",
    "0.0    35346\n",
    "1.0        3\n",
    "dtype: int64\n",
    "SPTA1\n",
    "0.0    35346\n",
    "1.0        3\n",
    "dtype: int64\n",
    "SPTA1\n",
    "0.0    35346\n",
    "1.0        3\n",
    "dtype: int64\n",
    "'''\n",
    "\n",
    "Result_HC1 = Result_HC1[Result_HC1['LLR'] != np.inf]\n",
    "Result_HC2 = Result_HC2[Result_HC2['LLR'] != np.inf]\n",
    "Result_Em1 = Result_Em1[Result_Em1['LLR'] != np.inf]"
   ]
  },
  {
   "cell_type": "code",
   "execution_count": 35,
   "id": "898f3b3c",
   "metadata": {},
   "outputs": [
    {
     "data": {
      "text/plain": [
       "<AxesSubplot:ylabel='Density'>"
      ]
     },
     "execution_count": 35,
     "metadata": {},
     "output_type": "execute_result"
    },
    {
     "data": {
      "image/png": "[encoded data removed]",
      "text/plain": [
       "<Figure size 432x288 with 1 Axes>"
      ]
     },
     "metadata": {
      "needs_background": "light"
     },
     "output_type": "display_data"
    }
   ],
   "source": [
    "Result_HC1.LLR.plot.density()"
   ]
  },
  {
   "cell_type": "code",
   "execution_count": 71,
   "id": "92508853",
   "metadata": {},
   "outputs": [
    {
     "data": {
      "text/plain": [
       "<matplotlib.legend.Legend at 0x7f21fadb7280>"
      ]
     },
     "execution_count": 71,
     "metadata": {},
     "output_type": "execute_result"
    },
    {
     "data": {
      "image/png": "[encoded data removed]",
      "text/plain": [
       "<Figure size 432x288 with 1 Axes>"
      ]
     },
     "metadata": {
      "needs_background": "light"
     },
     "output_type": "display_data"
    }
   ],
   "source": [
    "cum = False\n",
    "bins = 50\n",
    "loc = 'best'\n",
    "n, bins, patches = plt.hist(Result_HC1['LLR'], bins, density = True,\n",
    "                            histtype = 'step', cumulative = cum, label = 'LLR_HC1')\n",
    "plt.legend(loc = loc)"
   ]
  },
  {
   "cell_type": "code",
   "execution_count": 72,
   "id": "402712fe",
   "metadata": {},
   "outputs": [
    {
     "data": {
      "text/plain": [
       "<matplotlib.legend.Legend at 0x7f21fad32e20>"
      ]
     },
     "execution_count": 72,
     "metadata": {},
     "output_type": "execute_result"
    },
    {
     "data": {
      "image/png": "[encoded data removed]",
      "text/plain": [
       "<Figure size 432x288 with 1 Axes>"
      ]
     },
     "metadata": {
      "needs_background": "light"
     },
     "output_type": "display_data"
    }
   ],
   "source": [
    "n, bins, patches = plt.hist(Result_HC2['LLR'], bins, density = True,\n",
    "                            histtype = 'step', cumulative = cum, label = 'LLR_HC2')\n",
    "plt.legend(loc = loc)"
   ]
  },
  {
   "cell_type": "code",
   "execution_count": 73,
   "id": "051a699a",
   "metadata": {
    "scrolled": true
   },
   "outputs": [
    {
     "data": {
      "text/plain": [
       "<matplotlib.legend.Legend at 0x7f21fac9b340>"
      ]
     },
     "execution_count": 73,
     "metadata": {},
     "output_type": "execute_result"
    },
    {
     "data": {
      "image/png": "[encoded data removed]",
      "text/plain": [
       "<Figure size 432x288 with 1 Axes>"
      ]
     },
     "metadata": {
      "needs_background": "light"
     },
     "output_type": "display_data"
    }
   ],
   "source": [
    "n, bins, patches = plt.hist(Result_Em1['LLR'], bins, density = True,\n",
    "                            histtype = 'step', cumulative = cum, label = 'LLR_Em1')\n",
    "plt.legend(loc = loc)"
   ]
  },
  {
   "cell_type": "code",
   "execution_count": 36,
   "id": "7b7288eb",
   "metadata": {},
   "outputs": [
    {
     "name": "stdout",
     "output_type": "stream",
     "text": [
      "Help on function kde in module pandas.plotting._core:\n",
      "\n",
      "kde(self, bw_method=None, ind=None, **kwargs)\n",
      "    Generate Kernel Density Estimate plot using Gaussian kernels.\n",
      "    \n",
      "    In statistics, `kernel density estimation`_ (KDE) is a non-parametric\n",
      "    way to estimate the probability density function (PDF) of a random\n",
      "    variable. This function uses Gaussian kernels and includes automatic\n",
      "    bandwidth determination.\n",
      "    \n",
      "    .. _kernel density estimation:\n",
      "        https://en.wikipedia.org/wiki/Kernel_density_estimation\n",
      "    \n",
      "    Parameters\n",
      "    ----------\n",
      "    bw_method : str, scalar or callable, optional\n",
      "        The method used to calculate the estimator bandwidth. This can be\n",
      "        'scott', 'silverman', a scalar constant or a callable.\n",
      "        If None (default), 'scott' is used.\n",
      "        See :class:`scipy.stats.gaussian_kde` for more information.\n",
      "    ind : NumPy array or int, optional\n",
      "        Evaluation points for the estimated PDF. If None (default),\n",
      "        1000 equally spaced points are used. If `ind` is a NumPy array, the\n",
      "        KDE is evaluated at the points passed. If `ind` is an integer,\n",
      "        `ind` number of equally spaced points are used.\n",
      "    **kwargs\n",
      "        Additional keyword arguments are documented in\n",
      "        :meth:`pandas.%(this-datatype)s.plot`.\n",
      "    \n",
      "    Returns\n",
      "    -------\n",
      "    matplotlib.axes.Axes or numpy.ndarray of them\n",
      "    \n",
      "    See Also\n",
      "    --------\n",
      "    scipy.stats.gaussian_kde : Representation of a kernel-density\n",
      "        estimate using Gaussian kernels. This is the function used\n",
      "        internally to estimate the PDF.\n",
      "    \n",
      "    Examples\n",
      "    --------\n",
      "    Given a Series of points randomly sampled from an unknown\n",
      "    distribution, estimate its PDF using KDE with automatic\n",
      "    bandwidth determination and plot the results, evaluating them at\n",
      "    1000 equally spaced points (default):\n",
      "    \n",
      "    .. plot::\n",
      "        :context: close-figs\n",
      "    \n",
      "        >>> s = pd.Series([1, 2, 2.5, 3, 3.5, 4, 5])\n",
      "        >>> ax = s.plot.kde()\n",
      "    \n",
      "    A scalar bandwidth can be specified. Using a small bandwidth value can\n",
      "    lead to over-fitting, while using a large bandwidth value may result\n",
      "    in under-fitting:\n",
      "    \n",
      "    .. plot::\n",
      "        :context: close-figs\n",
      "    \n",
      "        >>> ax = s.plot.kde(bw_method=0.3)\n",
      "    \n",
      "    .. plot::\n",
      "        :context: close-figs\n",
      "    \n",
      "        >>> ax = s.plot.kde(bw_method=3)\n",
      "    \n",
      "    Finally, the `ind` parameter determines the evaluation points for the\n",
      "    plot of the estimated PDF:\n",
      "    \n",
      "    .. plot::\n",
      "        :context: close-figs\n",
      "    \n",
      "        >>> ax = s.plot.kde(ind=[1, 2, 3, 4, 5])\n",
      "    \n",
      "    For DataFrame, it works in the same way:\n",
      "    \n",
      "    .. plot::\n",
      "        :context: close-figs\n",
      "    \n",
      "        >>> df = pd.DataFrame({\n",
      "        ...     'x': [1, 2, 2.5, 3, 3.5, 4, 5],\n",
      "        ...     'y': [4, 4, 4.5, 5, 5.5, 6, 6],\n",
      "        ... })\n",
      "        >>> ax = df.plot.kde()\n",
      "    \n",
      "    A scalar bandwidth can be specified. Using a small bandwidth value can\n",
      "    lead to over-fitting, while using a large bandwidth value may result\n",
      "    in under-fitting:\n",
      "    \n",
      "    .. plot::\n",
      "        :context: close-figs\n",
      "    \n",
      "        >>> ax = df.plot.kde(bw_method=0.3)\n",
      "    \n",
      "    .. plot::\n",
      "        :context: close-figs\n",
      "    \n",
      "        >>> ax = df.plot.kde(bw_method=3)\n",
      "    \n",
      "    Finally, the `ind` parameter determines the evaluation points for the\n",
      "    plot of the estimated PDF:\n",
      "    \n",
      "    .. plot::\n",
      "        :context: close-figs\n",
      "    \n",
      "        >>> ax = df.plot.kde(ind=[1, 2, 3, 4, 5, 6])\n",
      "\n"
     ]
    }
   ],
   "source": [
    "help(pd.Series.plot.density)"
   ]
  },
  {
   "cell_type": "code",
   "execution_count": 31,
   "id": "eeef141a",
   "metadata": {},
   "outputs": [
    {
     "data": {
      "text/html": [
       "<div>\n",
       "<style scoped>\n",
       "    .dataframe tbody tr th:only-of-type {\n",
       "        vertical-align: middle;\n",
       "    }\n",
       "\n",
       "    .dataframe tbody tr th {\n",
       "        vertical-align: top;\n",
       "    }\n",
       "\n",
       "    .dataframe thead th {\n",
       "        text-align: right;\n",
       "    }\n",
       "</style>\n",
       "<table border=\"1\" class=\"dataframe\">\n",
       "  <thead>\n",
       "    <tr style=\"text-align: right;\">\n",
       "      <th></th>\n",
       "      <th>Unnamed: 0</th>\n",
       "      <th>FSV</th>\n",
       "      <th>M</th>\n",
       "      <th>g</th>\n",
       "      <th>l</th>\n",
       "      <th>max_delta</th>\n",
       "      <th>max_ll</th>\n",
       "      <th>max_mu_hat</th>\n",
       "      <th>max_s2_t_hat</th>\n",
       "      <th>model</th>\n",
       "      <th>n</th>\n",
       "      <th>s2_FSV</th>\n",
       "      <th>s2_logdelta</th>\n",
       "      <th>time</th>\n",
       "      <th>BIC</th>\n",
       "      <th>max_ll_null</th>\n",
       "      <th>LLR</th>\n",
       "      <th>pval</th>\n",
       "      <th>qval</th>\n",
       "    </tr>\n",
       "  </thead>\n",
       "  <tbody>\n",
       "    <tr>\n",
       "      <th>8377</th>\n",
       "      <td>8377</td>\n",
       "      <td>0.999955</td>\n",
       "      <td>4</td>\n",
       "      <td>GM13872</td>\n",
       "      <td>17.911729</td>\n",
       "      <td>0.000045</td>\n",
       "      <td>95248.867500</td>\n",
       "      <td>-1.302872</td>\n",
       "      <td>0.453396</td>\n",
       "      <td>SE</td>\n",
       "      <td>30000</td>\n",
       "      <td>1.234295e-10</td>\n",
       "      <td>0.043362</td>\n",
       "      <td>0.007323</td>\n",
       "      <td>-190456.499189</td>\n",
       "      <td>83108.900758</td>\n",
       "      <td>12139.966742</td>\n",
       "      <td>0.0</td>\n",
       "      <td>0.0</td>\n",
       "    </tr>\n",
       "    <tr>\n",
       "      <th>15745</th>\n",
       "      <td>15745</td>\n",
       "      <td>0.328099</td>\n",
       "      <td>4</td>\n",
       "      <td>TTR</td>\n",
       "      <td>146.014866</td>\n",
       "      <td>2.032490</td>\n",
       "      <td>-38370.450940</td>\n",
       "      <td>-0.628883</td>\n",
       "      <td>0.353131</td>\n",
       "      <td>SE</td>\n",
       "      <td>30000</td>\n",
       "      <td>7.313035e-07</td>\n",
       "      <td>0.000017</td>\n",
       "      <td>0.010845</td>\n",
       "      <td>76782.137691</td>\n",
       "      <td>-48541.820781</td>\n",
       "      <td>10171.369841</td>\n",
       "      <td>0.0</td>\n",
       "      <td>0.0</td>\n",
       "    </tr>\n",
       "    <tr>\n",
       "      <th>8380</th>\n",
       "      <td>8380</td>\n",
       "      <td>0.999955</td>\n",
       "      <td>4</td>\n",
       "      <td>GM26724</td>\n",
       "      <td>17.911729</td>\n",
       "      <td>0.000045</td>\n",
       "      <td>98710.903022</td>\n",
       "      <td>-1.302987</td>\n",
       "      <td>0.453425</td>\n",
       "      <td>SE</td>\n",
       "      <td>30000</td>\n",
       "      <td>1.335022e-10</td>\n",
       "      <td>0.046901</td>\n",
       "      <td>0.007100</td>\n",
       "      <td>-197380.570233</td>\n",
       "      <td>88646.069356</td>\n",
       "      <td>10064.833666</td>\n",
       "      <td>0.0</td>\n",
       "      <td>0.0</td>\n",
       "    </tr>\n",
       "    <tr>\n",
       "      <th>8420</th>\n",
       "      <td>8420</td>\n",
       "      <td>0.436851</td>\n",
       "      <td>4</td>\n",
       "      <td>1500015O10RIK</td>\n",
       "      <td>146.014866</td>\n",
       "      <td>1.279434</td>\n",
       "      <td>-775.045032</td>\n",
       "      <td>-1.261308</td>\n",
       "      <td>0.053007</td>\n",
       "      <td>SE</td>\n",
       "      <td>30000</td>\n",
       "      <td>1.839807e-06</td>\n",
       "      <td>0.000035</td>\n",
       "      <td>0.010671</td>\n",
       "      <td>1591.325875</td>\n",
       "      <td>-10385.127175</td>\n",
       "      <td>9610.082143</td>\n",
       "      <td>0.0</td>\n",
       "      <td>0.0</td>\n",
       "    </tr>\n",
       "    <tr>\n",
       "      <th>11641</th>\n",
       "      <td>11641</td>\n",
       "      <td>0.488568</td>\n",
       "      <td>4</td>\n",
       "      <td>HPCA</td>\n",
       "      <td>146.014866</td>\n",
       "      <td>1.038940</td>\n",
       "      <td>-41252.626978</td>\n",
       "      <td>-0.396123</td>\n",
       "      <td>0.820418</td>\n",
       "      <td>SE</td>\n",
       "      <td>30000</td>\n",
       "      <td>1.162417e-06</td>\n",
       "      <td>0.000022</td>\n",
       "      <td>0.009713</td>\n",
       "      <td>82546.489768</td>\n",
       "      <td>-50544.659932</td>\n",
       "      <td>9292.032954</td>\n",
       "      <td>0.0</td>\n",
       "      <td>0.0</td>\n",
       "    </tr>\n",
       "  </tbody>\n",
       "</table>\n",
       "</div>"
      ],
      "text/plain": [
       "       Unnamed: 0       FSV  M              g           l  max_delta  \\\n",
       "8377         8377  0.999955  4        GM13872   17.911729   0.000045   \n",
       "15745       15745  0.328099  4            TTR  146.014866   2.032490   \n",
       "8380         8380  0.999955  4        GM26724   17.911729   0.000045   \n",
       "8420         8420  0.436851  4  1500015O10RIK  146.014866   1.279434   \n",
       "11641       11641  0.488568  4           HPCA  146.014866   1.038940   \n",
       "\n",
       "             max_ll  max_mu_hat  max_s2_t_hat model      n        s2_FSV  \\\n",
       "8377   95248.867500   -1.302872      0.453396    SE  30000  1.234295e-10   \n",
       "15745 -38370.450940   -0.628883      0.353131    SE  30000  7.313035e-07   \n",
       "8380   98710.903022   -1.302987      0.453425    SE  30000  1.335022e-10   \n",
       "8420    -775.045032   -1.261308      0.053007    SE  30000  1.839807e-06   \n",
       "11641 -41252.626978   -0.396123      0.820418    SE  30000  1.162417e-06   \n",
       "\n",
       "       s2_logdelta      time            BIC   max_ll_null           LLR  pval  \\\n",
       "8377      0.043362  0.007323 -190456.499189  83108.900758  12139.966742   0.0   \n",
       "15745     0.000017  0.010845   76782.137691 -48541.820781  10171.369841   0.0   \n",
       "8380      0.046901  0.007100 -197380.570233  88646.069356  10064.833666   0.0   \n",
       "8420      0.000035  0.010671    1591.325875 -10385.127175   9610.082143   0.0   \n",
       "11641     0.000022  0.009713   82546.489768 -50544.659932   9292.032954   0.0   \n",
       "\n",
       "       qval  \n",
       "8377    0.0  \n",
       "15745   0.0  \n",
       "8380    0.0  \n",
       "8420    0.0  \n",
       "11641   0.0  "
      ]
     },
     "execution_count": 31,
     "metadata": {},
     "output_type": "execute_result"
    }
   ],
   "source": [
    "Result_HC1.sort_values('LLR', ascending = False).head()"
   ]
  },
  {
   "cell_type": "code",
   "execution_count": 32,
   "id": "5140e4bd",
   "metadata": {},
   "outputs": [
    {
     "data": {
      "text/html": [
       "<div>\n",
       "<style scoped>\n",
       "    .dataframe tbody tr th:only-of-type {\n",
       "        vertical-align: middle;\n",
       "    }\n",
       "\n",
       "    .dataframe tbody tr th {\n",
       "        vertical-align: top;\n",
       "    }\n",
       "\n",
       "    .dataframe thead th {\n",
       "        text-align: right;\n",
       "    }\n",
       "</style>\n",
       "<table border=\"1\" class=\"dataframe\">\n",
       "  <thead>\n",
       "    <tr style=\"text-align: right;\">\n",
       "      <th></th>\n",
       "      <th>Unnamed: 0</th>\n",
       "      <th>FSV</th>\n",
       "      <th>M</th>\n",
       "      <th>g</th>\n",
       "      <th>l</th>\n",
       "      <th>max_delta</th>\n",
       "      <th>max_ll</th>\n",
       "      <th>max_mu_hat</th>\n",
       "      <th>max_s2_t_hat</th>\n",
       "      <th>model</th>\n",
       "      <th>n</th>\n",
       "      <th>s2_FSV</th>\n",
       "      <th>s2_logdelta</th>\n",
       "      <th>time</th>\n",
       "      <th>BIC</th>\n",
       "      <th>max_ll_null</th>\n",
       "      <th>LLR</th>\n",
       "      <th>pval</th>\n",
       "      <th>qval</th>\n",
       "    </tr>\n",
       "  </thead>\n",
       "  <tbody>\n",
       "    <tr>\n",
       "      <th>12883</th>\n",
       "      <td>12883</td>\n",
       "      <td>0.449610</td>\n",
       "      <td>4</td>\n",
       "      <td>HPCA</td>\n",
       "      <td>150.226295</td>\n",
       "      <td>1.214453</td>\n",
       "      <td>-20346.466071</td>\n",
       "      <td>-0.372457</td>\n",
       "      <td>0.525630</td>\n",
       "      <td>SE</td>\n",
       "      <td>16373</td>\n",
       "      <td>1.731864e-06</td>\n",
       "      <td>0.000033</td>\n",
       "      <td>0.006975</td>\n",
       "      <td>40731.745697</td>\n",
       "      <td>-24994.809647</td>\n",
       "      <td>4648.343576</td>\n",
       "      <td>0.0</td>\n",
       "      <td>0.0</td>\n",
       "    </tr>\n",
       "    <tr>\n",
       "      <th>10714</th>\n",
       "      <td>10714</td>\n",
       "      <td>0.999955</td>\n",
       "      <td>4</td>\n",
       "      <td>TERT</td>\n",
       "      <td>18.353642</td>\n",
       "      <td>0.000045</td>\n",
       "      <td>56221.435072</td>\n",
       "      <td>-0.988058</td>\n",
       "      <td>0.377218</td>\n",
       "      <td>SE</td>\n",
       "      <td>16373</td>\n",
       "      <td>1.450127e-09</td>\n",
       "      <td>0.509425</td>\n",
       "      <td>0.005110</td>\n",
       "      <td>-112404.056588</td>\n",
       "      <td>51850.419033</td>\n",
       "      <td>4371.016038</td>\n",
       "      <td>0.0</td>\n",
       "      <td>0.0</td>\n",
       "    </tr>\n",
       "    <tr>\n",
       "      <th>10651</th>\n",
       "      <td>10651</td>\n",
       "      <td>0.999955</td>\n",
       "      <td>4</td>\n",
       "      <td>GM19684</td>\n",
       "      <td>18.353642</td>\n",
       "      <td>0.000045</td>\n",
       "      <td>49790.294202</td>\n",
       "      <td>-0.987918</td>\n",
       "      <td>0.377243</td>\n",
       "      <td>SE</td>\n",
       "      <td>16373</td>\n",
       "      <td>1.484133e-09</td>\n",
       "      <td>0.521371</td>\n",
       "      <td>0.004781</td>\n",
       "      <td>-99541.774848</td>\n",
       "      <td>46176.553346</td>\n",
       "      <td>3613.740856</td>\n",
       "      <td>0.0</td>\n",
       "      <td>0.0</td>\n",
       "    </tr>\n",
       "    <tr>\n",
       "      <th>13838</th>\n",
       "      <td>13838</td>\n",
       "      <td>0.355102</td>\n",
       "      <td>4</td>\n",
       "      <td>NRGN</td>\n",
       "      <td>150.226295</td>\n",
       "      <td>1.801707</td>\n",
       "      <td>-19964.904248</td>\n",
       "      <td>-0.456825</td>\n",
       "      <td>0.344079</td>\n",
       "      <td>SE</td>\n",
       "      <td>16373</td>\n",
       "      <td>1.856653e-06</td>\n",
       "      <td>0.000040</td>\n",
       "      <td>0.007882</td>\n",
       "      <td>39968.622051</td>\n",
       "      <td>-23449.583053</td>\n",
       "      <td>3484.678805</td>\n",
       "      <td>0.0</td>\n",
       "      <td>0.0</td>\n",
       "    </tr>\n",
       "    <tr>\n",
       "      <th>10647</th>\n",
       "      <td>10647</td>\n",
       "      <td>0.999955</td>\n",
       "      <td>4</td>\n",
       "      <td>GM10640</td>\n",
       "      <td>18.353642</td>\n",
       "      <td>0.000045</td>\n",
       "      <td>41953.858084</td>\n",
       "      <td>-0.987476</td>\n",
       "      <td>0.377293</td>\n",
       "      <td>SE</td>\n",
       "      <td>16373</td>\n",
       "      <td>2.483108e-09</td>\n",
       "      <td>0.872307</td>\n",
       "      <td>0.005257</td>\n",
       "      <td>-83868.902612</td>\n",
       "      <td>38676.888626</td>\n",
       "      <td>3276.969458</td>\n",
       "      <td>0.0</td>\n",
       "      <td>0.0</td>\n",
       "    </tr>\n",
       "  </tbody>\n",
       "</table>\n",
       "</div>"
      ],
      "text/plain": [
       "       Unnamed: 0       FSV  M        g           l  max_delta        max_ll  \\\n",
       "12883       12883  0.449610  4     HPCA  150.226295   1.214453 -20346.466071   \n",
       "10714       10714  0.999955  4     TERT   18.353642   0.000045  56221.435072   \n",
       "10651       10651  0.999955  4  GM19684   18.353642   0.000045  49790.294202   \n",
       "13838       13838  0.355102  4     NRGN  150.226295   1.801707 -19964.904248   \n",
       "10647       10647  0.999955  4  GM10640   18.353642   0.000045  41953.858084   \n",
       "\n",
       "       max_mu_hat  max_s2_t_hat model      n        s2_FSV  s2_logdelta  \\\n",
       "12883   -0.372457      0.525630    SE  16373  1.731864e-06     0.000033   \n",
       "10714   -0.988058      0.377218    SE  16373  1.450127e-09     0.509425   \n",
       "10651   -0.987918      0.377243    SE  16373  1.484133e-09     0.521371   \n",
       "13838   -0.456825      0.344079    SE  16373  1.856653e-06     0.000040   \n",
       "10647   -0.987476      0.377293    SE  16373  2.483108e-09     0.872307   \n",
       "\n",
       "           time            BIC   max_ll_null          LLR  pval  qval  \n",
       "12883  0.006975   40731.745697 -24994.809647  4648.343576   0.0   0.0  \n",
       "10714  0.005110 -112404.056588  51850.419033  4371.016038   0.0   0.0  \n",
       "10651  0.004781  -99541.774848  46176.553346  3613.740856   0.0   0.0  \n",
       "13838  0.007882   39968.622051 -23449.583053  3484.678805   0.0   0.0  \n",
       "10647  0.005257  -83868.902612  38676.888626  3276.969458   0.0   0.0  "
      ]
     },
     "execution_count": 32,
     "metadata": {},
     "output_type": "execute_result"
    }
   ],
   "source": [
    "Result_HC2.sort_values('LLR', ascending = False).head()"
   ]
  },
  {
   "cell_type": "code",
   "execution_count": 33,
   "id": "83159548",
   "metadata": {},
   "outputs": [
    {
     "data": {
      "text/html": [
       "<div>\n",
       "<style scoped>\n",
       "    .dataframe tbody tr th:only-of-type {\n",
       "        vertical-align: middle;\n",
       "    }\n",
       "\n",
       "    .dataframe tbody tr th {\n",
       "        vertical-align: top;\n",
       "    }\n",
       "\n",
       "    .dataframe thead th {\n",
       "        text-align: right;\n",
       "    }\n",
       "</style>\n",
       "<table border=\"1\" class=\"dataframe\">\n",
       "  <thead>\n",
       "    <tr style=\"text-align: right;\">\n",
       "      <th></th>\n",
       "      <th>Unnamed: 0</th>\n",
       "      <th>FSV</th>\n",
       "      <th>M</th>\n",
       "      <th>g</th>\n",
       "      <th>l</th>\n",
       "      <th>max_delta</th>\n",
       "      <th>max_ll</th>\n",
       "      <th>max_mu_hat</th>\n",
       "      <th>max_s2_t_hat</th>\n",
       "      <th>model</th>\n",
       "      <th>n</th>\n",
       "      <th>s2_FSV</th>\n",
       "      <th>s2_logdelta</th>\n",
       "      <th>time</th>\n",
       "      <th>BIC</th>\n",
       "      <th>max_ll_null</th>\n",
       "      <th>LLR</th>\n",
       "      <th>pval</th>\n",
       "      <th>qval</th>\n",
       "    </tr>\n",
       "  </thead>\n",
       "  <tbody>\n",
       "    <tr>\n",
       "      <th>7022</th>\n",
       "      <td>7022</td>\n",
       "      <td>0.501833</td>\n",
       "      <td>4</td>\n",
       "      <td>CYP2J5</td>\n",
       "      <td>0.03323</td>\n",
       "      <td>0.992693</td>\n",
       "      <td>1.038741e+06</td>\n",
       "      <td>-1.351177</td>\n",
       "      <td>0.916186</td>\n",
       "      <td>SE</td>\n",
       "      <td>30000</td>\n",
       "      <td>5.127773e-12</td>\n",
       "      <td>9.604921e-11</td>\n",
       "      <td>0.020643</td>\n",
       "      <td>-2.077442e+06</td>\n",
       "      <td>201490.301622</td>\n",
       "      <td>837251.144055</td>\n",
       "      <td>0.0</td>\n",
       "      <td>0.0</td>\n",
       "    </tr>\n",
       "    <tr>\n",
       "      <th>7021</th>\n",
       "      <td>7021</td>\n",
       "      <td>0.501833</td>\n",
       "      <td>4</td>\n",
       "      <td>CYP2C29</td>\n",
       "      <td>0.03323</td>\n",
       "      <td>0.992693</td>\n",
       "      <td>1.038741e+06</td>\n",
       "      <td>-1.351177</td>\n",
       "      <td>0.916186</td>\n",
       "      <td>SE</td>\n",
       "      <td>30000</td>\n",
       "      <td>5.127773e-12</td>\n",
       "      <td>9.604921e-11</td>\n",
       "      <td>0.020883</td>\n",
       "      <td>-2.077442e+06</td>\n",
       "      <td>201490.301622</td>\n",
       "      <td>837251.144055</td>\n",
       "      <td>0.0</td>\n",
       "      <td>0.0</td>\n",
       "    </tr>\n",
       "    <tr>\n",
       "      <th>7027</th>\n",
       "      <td>7027</td>\n",
       "      <td>0.501833</td>\n",
       "      <td>4</td>\n",
       "      <td>DTHD1</td>\n",
       "      <td>0.03323</td>\n",
       "      <td>0.992693</td>\n",
       "      <td>1.038741e+06</td>\n",
       "      <td>-1.351177</td>\n",
       "      <td>0.916186</td>\n",
       "      <td>SE</td>\n",
       "      <td>30000</td>\n",
       "      <td>5.127773e-12</td>\n",
       "      <td>9.604921e-11</td>\n",
       "      <td>0.021561</td>\n",
       "      <td>-2.077442e+06</td>\n",
       "      <td>201490.301622</td>\n",
       "      <td>837251.144055</td>\n",
       "      <td>0.0</td>\n",
       "      <td>0.0</td>\n",
       "    </tr>\n",
       "    <tr>\n",
       "      <th>7017</th>\n",
       "      <td>7017</td>\n",
       "      <td>0.501833</td>\n",
       "      <td>4</td>\n",
       "      <td>ADGRF1</td>\n",
       "      <td>0.03323</td>\n",
       "      <td>0.992693</td>\n",
       "      <td>1.038741e+06</td>\n",
       "      <td>-1.351177</td>\n",
       "      <td>0.916186</td>\n",
       "      <td>SE</td>\n",
       "      <td>30000</td>\n",
       "      <td>5.127773e-12</td>\n",
       "      <td>9.604921e-11</td>\n",
       "      <td>0.020309</td>\n",
       "      <td>-2.077442e+06</td>\n",
       "      <td>201490.301622</td>\n",
       "      <td>837251.144055</td>\n",
       "      <td>0.0</td>\n",
       "      <td>0.0</td>\n",
       "    </tr>\n",
       "    <tr>\n",
       "      <th>7016</th>\n",
       "      <td>7016</td>\n",
       "      <td>0.501833</td>\n",
       "      <td>4</td>\n",
       "      <td>A130030D18RIK</td>\n",
       "      <td>0.03323</td>\n",
       "      <td>0.992693</td>\n",
       "      <td>1.038741e+06</td>\n",
       "      <td>-1.351177</td>\n",
       "      <td>0.916186</td>\n",
       "      <td>SE</td>\n",
       "      <td>30000</td>\n",
       "      <td>5.127773e-12</td>\n",
       "      <td>9.604921e-11</td>\n",
       "      <td>0.020970</td>\n",
       "      <td>-2.077442e+06</td>\n",
       "      <td>201490.301622</td>\n",
       "      <td>837251.144055</td>\n",
       "      <td>0.0</td>\n",
       "      <td>0.0</td>\n",
       "    </tr>\n",
       "  </tbody>\n",
       "</table>\n",
       "</div>"
      ],
      "text/plain": [
       "      Unnamed: 0       FSV  M              g        l  max_delta  \\\n",
       "7022        7022  0.501833  4         CYP2J5  0.03323   0.992693   \n",
       "7021        7021  0.501833  4        CYP2C29  0.03323   0.992693   \n",
       "7027        7027  0.501833  4          DTHD1  0.03323   0.992693   \n",
       "7017        7017  0.501833  4         ADGRF1  0.03323   0.992693   \n",
       "7016        7016  0.501833  4  A130030D18RIK  0.03323   0.992693   \n",
       "\n",
       "            max_ll  max_mu_hat  max_s2_t_hat model      n        s2_FSV  \\\n",
       "7022  1.038741e+06   -1.351177      0.916186    SE  30000  5.127773e-12   \n",
       "7021  1.038741e+06   -1.351177      0.916186    SE  30000  5.127773e-12   \n",
       "7027  1.038741e+06   -1.351177      0.916186    SE  30000  5.127773e-12   \n",
       "7017  1.038741e+06   -1.351177      0.916186    SE  30000  5.127773e-12   \n",
       "7016  1.038741e+06   -1.351177      0.916186    SE  30000  5.127773e-12   \n",
       "\n",
       "       s2_logdelta      time           BIC    max_ll_null            LLR  \\\n",
       "7022  9.604921e-11  0.020643 -2.077442e+06  201490.301622  837251.144055   \n",
       "7021  9.604921e-11  0.020883 -2.077442e+06  201490.301622  837251.144055   \n",
       "7027  9.604921e-11  0.021561 -2.077442e+06  201490.301622  837251.144055   \n",
       "7017  9.604921e-11  0.020309 -2.077442e+06  201490.301622  837251.144055   \n",
       "7016  9.604921e-11  0.020970 -2.077442e+06  201490.301622  837251.144055   \n",
       "\n",
       "      pval  qval  \n",
       "7022   0.0   0.0  \n",
       "7021   0.0   0.0  \n",
       "7027   0.0   0.0  \n",
       "7017   0.0   0.0  \n",
       "7016   0.0   0.0  "
      ]
     },
     "execution_count": 33,
     "metadata": {},
     "output_type": "execute_result"
    }
   ],
   "source": [
    "Result_Em1.sort_values('LLR', ascending = False).head()"
   ]
  },
  {
   "cell_type": "code",
   "execution_count": 16,
   "id": "13a6072b",
   "metadata": {},
   "outputs": [
    {
     "data": {
      "text/html": [
       "<div>\n",
       "<style scoped>\n",
       "    .dataframe tbody tr th:only-of-type {\n",
       "        vertical-align: middle;\n",
       "    }\n",
       "\n",
       "    .dataframe tbody tr th {\n",
       "        vertical-align: top;\n",
       "    }\n",
       "\n",
       "    .dataframe thead th {\n",
       "        text-align: right;\n",
       "    }\n",
       "</style>\n",
       "<table border=\"1\" class=\"dataframe\">\n",
       "  <thead>\n",
       "    <tr style=\"text-align: right;\">\n",
       "      <th></th>\n",
       "      <th>Unnamed: 0</th>\n",
       "      <th>FSV</th>\n",
       "      <th>M</th>\n",
       "      <th>g</th>\n",
       "      <th>l</th>\n",
       "      <th>max_delta</th>\n",
       "      <th>max_ll</th>\n",
       "      <th>max_mu_hat</th>\n",
       "      <th>max_s2_t_hat</th>\n",
       "      <th>model</th>\n",
       "      <th>n</th>\n",
       "      <th>s2_FSV</th>\n",
       "      <th>s2_logdelta</th>\n",
       "      <th>time</th>\n",
       "      <th>BIC</th>\n",
       "      <th>max_ll_null</th>\n",
       "      <th>LLR</th>\n",
       "      <th>pval</th>\n",
       "      <th>qval</th>\n",
       "    </tr>\n",
       "  </thead>\n",
       "  <tbody>\n",
       "    <tr>\n",
       "      <th>0</th>\n",
       "      <td>0</td>\n",
       "      <td>0.384173</td>\n",
       "      <td>4</td>\n",
       "      <td>0610007P14RIK</td>\n",
       "      <td>0.000061</td>\n",
       "      <td>1.540456</td>\n",
       "      <td>-7252.210078</td>\n",
       "      <td>-1.290332</td>\n",
       "      <td>0.707115</td>\n",
       "      <td>SE</td>\n",
       "      <td>30000</td>\n",
       "      <td>3.137040e-05</td>\n",
       "      <td>0.000641</td>\n",
       "      <td>0.013607</td>\n",
       "      <td>14545.655967</td>\n",
       "      <td>-7285.564019</td>\n",
       "      <td>33.353940</td>\n",
       "      <td>7.682201e-09</td>\n",
       "      <td>8.092490e-11</td>\n",
       "    </tr>\n",
       "    <tr>\n",
       "      <th>1</th>\n",
       "      <td>1</td>\n",
       "      <td>0.999953</td>\n",
       "      <td>4</td>\n",
       "      <td>0610009E02RIK</td>\n",
       "      <td>0.000061</td>\n",
       "      <td>0.000045</td>\n",
       "      <td>41294.629498</td>\n",
       "      <td>-1.348990</td>\n",
       "      <td>2.109537</td>\n",
       "      <td>SE</td>\n",
       "      <td>30000</td>\n",
       "      <td>2.318702e-07</td>\n",
       "      <td>75.244068</td>\n",
       "      <td>0.009184</td>\n",
       "      <td>-82548.023185</td>\n",
       "      <td>40271.685439</td>\n",
       "      <td>1022.944059</td>\n",
       "      <td>0.000000e+00</td>\n",
       "      <td>0.000000e+00</td>\n",
       "    </tr>\n",
       "    <tr>\n",
       "      <th>2</th>\n",
       "      <td>2</td>\n",
       "      <td>0.999953</td>\n",
       "      <td>4</td>\n",
       "      <td>0610010K14RIK</td>\n",
       "      <td>0.000061</td>\n",
       "      <td>0.000045</td>\n",
       "      <td>57759.971384</td>\n",
       "      <td>-1.350448</td>\n",
       "      <td>2.111428</td>\n",
       "      <td>SE</td>\n",
       "      <td>30000</td>\n",
       "      <td>2.298604e-07</td>\n",
       "      <td>74.591842</td>\n",
       "      <td>0.008885</td>\n",
       "      <td>-115478.706957</td>\n",
       "      <td>56734.210912</td>\n",
       "      <td>1025.760472</td>\n",
       "      <td>0.000000e+00</td>\n",
       "      <td>0.000000e+00</td>\n",
       "    </tr>\n",
       "    <tr>\n",
       "      <th>3</th>\n",
       "      <td>3</td>\n",
       "      <td>0.999953</td>\n",
       "      <td>4</td>\n",
       "      <td>0610025J13RIK</td>\n",
       "      <td>0.000061</td>\n",
       "      <td>0.000045</td>\n",
       "      <td>51143.641421</td>\n",
       "      <td>-1.350066</td>\n",
       "      <td>2.110975</td>\n",
       "      <td>SE</td>\n",
       "      <td>30000</td>\n",
       "      <td>2.303521e-07</td>\n",
       "      <td>74.751423</td>\n",
       "      <td>0.008696</td>\n",
       "      <td>-102246.047031</td>\n",
       "      <td>50118.758135</td>\n",
       "      <td>1024.883286</td>\n",
       "      <td>0.000000e+00</td>\n",
       "      <td>0.000000e+00</td>\n",
       "    </tr>\n",
       "    <tr>\n",
       "      <th>4</th>\n",
       "      <td>4</td>\n",
       "      <td>0.999953</td>\n",
       "      <td>4</td>\n",
       "      <td>0610039K10RIK</td>\n",
       "      <td>0.000061</td>\n",
       "      <td>0.000045</td>\n",
       "      <td>78549.199176</td>\n",
       "      <td>-1.350994</td>\n",
       "      <td>2.112137</td>\n",
       "      <td>SE</td>\n",
       "      <td>30000</td>\n",
       "      <td>2.291143e-07</td>\n",
       "      <td>74.349748</td>\n",
       "      <td>0.009227</td>\n",
       "      <td>-157057.162541</td>\n",
       "      <td>77519.726246</td>\n",
       "      <td>1029.472930</td>\n",
       "      <td>0.000000e+00</td>\n",
       "      <td>0.000000e+00</td>\n",
       "    </tr>\n",
       "    <tr>\n",
       "      <th>...</th>\n",
       "      <td>...</td>\n",
       "      <td>...</td>\n",
       "      <td>...</td>\n",
       "      <td>...</td>\n",
       "      <td>...</td>\n",
       "      <td>...</td>\n",
       "      <td>...</td>\n",
       "      <td>...</td>\n",
       "      <td>...</td>\n",
       "      <td>...</td>\n",
       "      <td>...</td>\n",
       "      <td>...</td>\n",
       "      <td>...</td>\n",
       "      <td>...</td>\n",
       "      <td>...</td>\n",
       "      <td>...</td>\n",
       "      <td>...</td>\n",
       "      <td>...</td>\n",
       "      <td>...</td>\n",
       "    </tr>\n",
       "    <tr>\n",
       "      <th>20230</th>\n",
       "      <td>20230</td>\n",
       "      <td>0.014514</td>\n",
       "      <td>4</td>\n",
       "      <td>PARP9</td>\n",
       "      <td>9849.534474</td>\n",
       "      <td>1.869450</td>\n",
       "      <td>25888.975429</td>\n",
       "      <td>-1.312543</td>\n",
       "      <td>0.005660</td>\n",
       "      <td>SE</td>\n",
       "      <td>30000</td>\n",
       "      <td>1.605650e-04</td>\n",
       "      <td>0.586027</td>\n",
       "      <td>0.008163</td>\n",
       "      <td>-51736.715047</td>\n",
       "      <td>25863.191082</td>\n",
       "      <td>25.784346</td>\n",
       "      <td>3.817722e-07</td>\n",
       "      <td>3.752685e-09</td>\n",
       "    </tr>\n",
       "    <tr>\n",
       "      <th>20231</th>\n",
       "      <td>20231</td>\n",
       "      <td>0.004787</td>\n",
       "      <td>4</td>\n",
       "      <td>RAB39B</td>\n",
       "      <td>9849.534474</td>\n",
       "      <td>5.724658</td>\n",
       "      <td>20471.170266</td>\n",
       "      <td>-1.330970</td>\n",
       "      <td>0.002687</td>\n",
       "      <td>SE</td>\n",
       "      <td>30000</td>\n",
       "      <td>3.134707e-04</td>\n",
       "      <td>10.105613</td>\n",
       "      <td>0.007681</td>\n",
       "      <td>-40901.104721</td>\n",
       "      <td>20468.111263</td>\n",
       "      <td>3.059003</td>\n",
       "      <td>8.029092e-02</td>\n",
       "      <td>5.705909e-04</td>\n",
       "    </tr>\n",
       "    <tr>\n",
       "      <th>20232</th>\n",
       "      <td>20232</td>\n",
       "      <td>0.030052</td>\n",
       "      <td>4</td>\n",
       "      <td>RABEP1</td>\n",
       "      <td>9849.534474</td>\n",
       "      <td>0.888674</td>\n",
       "      <td>-19148.197086</td>\n",
       "      <td>-0.733852</td>\n",
       "      <td>0.235963</td>\n",
       "      <td>SE</td>\n",
       "      <td>30000</td>\n",
       "      <td>5.667641e-04</td>\n",
       "      <td>0.514061</td>\n",
       "      <td>0.008197</td>\n",
       "      <td>38337.629983</td>\n",
       "      <td>-19152.901583</td>\n",
       "      <td>4.704497</td>\n",
       "      <td>3.008380e-02</td>\n",
       "      <td>2.254507e-04</td>\n",
       "    </tr>\n",
       "    <tr>\n",
       "      <th>20233</th>\n",
       "      <td>20233</td>\n",
       "      <td>0.036031</td>\n",
       "      <td>4</td>\n",
       "      <td>RTCA</td>\n",
       "      <td>9849.534474</td>\n",
       "      <td>0.736640</td>\n",
       "      <td>-12955.476501</td>\n",
       "      <td>-0.830148</td>\n",
       "      <td>0.188389</td>\n",
       "      <td>SE</td>\n",
       "      <td>30000</td>\n",
       "      <td>8.069187e-04</td>\n",
       "      <td>0.521555</td>\n",
       "      <td>0.008071</td>\n",
       "      <td>25952.188812</td>\n",
       "      <td>-12956.600758</td>\n",
       "      <td>1.124258</td>\n",
       "      <td>2.890035e-01</td>\n",
       "      <td>1.847712e-03</td>\n",
       "    </tr>\n",
       "    <tr>\n",
       "      <th>20234</th>\n",
       "      <td>20234</td>\n",
       "      <td>0.025656</td>\n",
       "      <td>4</td>\n",
       "      <td>WDFY4</td>\n",
       "      <td>9849.534474</td>\n",
       "      <td>1.045644</td>\n",
       "      <td>35550.060155</td>\n",
       "      <td>-1.329765</td>\n",
       "      <td>0.005329</td>\n",
       "      <td>SE</td>\n",
       "      <td>30000</td>\n",
       "      <td>4.056343e-04</td>\n",
       "      <td>0.495874</td>\n",
       "      <td>0.008561</td>\n",
       "      <td>-71058.884500</td>\n",
       "      <td>35531.615138</td>\n",
       "      <td>18.445017</td>\n",
       "      <td>1.748775e-05</td>\n",
       "      <td>1.589918e-07</td>\n",
       "    </tr>\n",
       "  </tbody>\n",
       "</table>\n",
       "<p>20235 rows × 19 columns</p>\n",
       "</div>"
      ],
      "text/plain": [
       "       Unnamed: 0       FSV  M              g            l  max_delta  \\\n",
       "0               0  0.384173  4  0610007P14RIK     0.000061   1.540456   \n",
       "1               1  0.999953  4  0610009E02RIK     0.000061   0.000045   \n",
       "2               2  0.999953  4  0610010K14RIK     0.000061   0.000045   \n",
       "3               3  0.999953  4  0610025J13RIK     0.000061   0.000045   \n",
       "4               4  0.999953  4  0610039K10RIK     0.000061   0.000045   \n",
       "...           ...       ... ..            ...          ...        ...   \n",
       "20230       20230  0.014514  4          PARP9  9849.534474   1.869450   \n",
       "20231       20231  0.004787  4         RAB39B  9849.534474   5.724658   \n",
       "20232       20232  0.030052  4         RABEP1  9849.534474   0.888674   \n",
       "20233       20233  0.036031  4           RTCA  9849.534474   0.736640   \n",
       "20234       20234  0.025656  4          WDFY4  9849.534474   1.045644   \n",
       "\n",
       "             max_ll  max_mu_hat  max_s2_t_hat model      n        s2_FSV  \\\n",
       "0      -7252.210078   -1.290332      0.707115    SE  30000  3.137040e-05   \n",
       "1      41294.629498   -1.348990      2.109537    SE  30000  2.318702e-07   \n",
       "2      57759.971384   -1.350448      2.111428    SE  30000  2.298604e-07   \n",
       "3      51143.641421   -1.350066      2.110975    SE  30000  2.303521e-07   \n",
       "4      78549.199176   -1.350994      2.112137    SE  30000  2.291143e-07   \n",
       "...             ...         ...           ...   ...    ...           ...   \n",
       "20230  25888.975429   -1.312543      0.005660    SE  30000  1.605650e-04   \n",
       "20231  20471.170266   -1.330970      0.002687    SE  30000  3.134707e-04   \n",
       "20232 -19148.197086   -0.733852      0.235963    SE  30000  5.667641e-04   \n",
       "20233 -12955.476501   -0.830148      0.188389    SE  30000  8.069187e-04   \n",
       "20234  35550.060155   -1.329765      0.005329    SE  30000  4.056343e-04   \n",
       "\n",
       "       s2_logdelta      time            BIC   max_ll_null          LLR  \\\n",
       "0         0.000641  0.013607   14545.655967  -7285.564019    33.353940   \n",
       "1        75.244068  0.009184  -82548.023185  40271.685439  1022.944059   \n",
       "2        74.591842  0.008885 -115478.706957  56734.210912  1025.760472   \n",
       "3        74.751423  0.008696 -102246.047031  50118.758135  1024.883286   \n",
       "4        74.349748  0.009227 -157057.162541  77519.726246  1029.472930   \n",
       "...            ...       ...            ...           ...          ...   \n",
       "20230     0.586027  0.008163  -51736.715047  25863.191082    25.784346   \n",
       "20231    10.105613  0.007681  -40901.104721  20468.111263     3.059003   \n",
       "20232     0.514061  0.008197   38337.629983 -19152.901583     4.704497   \n",
       "20233     0.521555  0.008071   25952.188812 -12956.600758     1.124258   \n",
       "20234     0.495874  0.008561  -71058.884500  35531.615138    18.445017   \n",
       "\n",
       "               pval          qval  \n",
       "0      7.682201e-09  8.092490e-11  \n",
       "1      0.000000e+00  0.000000e+00  \n",
       "2      0.000000e+00  0.000000e+00  \n",
       "3      0.000000e+00  0.000000e+00  \n",
       "4      0.000000e+00  0.000000e+00  \n",
       "...             ...           ...  \n",
       "20230  3.817722e-07  3.752685e-09  \n",
       "20231  8.029092e-02  5.705909e-04  \n",
       "20232  3.008380e-02  2.254507e-04  \n",
       "20233  2.890035e-01  1.847712e-03  \n",
       "20234  1.748775e-05  1.589918e-07  \n",
       "\n",
       "[20235 rows x 19 columns]"
      ]
     },
     "execution_count": 16,
     "metadata": {},
     "output_type": "execute_result"
    }
   ],
   "source": [
    "Result_Em1"
   ]
  },
  {
   "cell_type": "code",
   "execution_count": null,
   "id": "2e08aff3",
   "metadata": {},
   "outputs": [],
   "source": []
  }
 ],
 "metadata": {
  "kernelspec": {
   "display_name": "Python 3 (ipykernel)",
   "language": "python",
   "name": "python3"
  },
  "language_info": {
   "codemirror_mode": {
    "name": "ipython",
    "version": 3
   },
   "file_extension": ".py",
   "mimetype": "text/x-python",
   "name": "python",
   "nbconvert_exporter": "python",
   "pygments_lexer": "ipython3",
   "version": "3.9.7"
  }
 },
 "nbformat": 4,
 "nbformat_minor": 5
}
