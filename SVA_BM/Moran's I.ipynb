{
 "cells": [
  {
   "cell_type": "code",
   "execution_count": 2,
   "id": "cdce1cd9",
   "metadata": {},
   "outputs": [],
   "source": [
    "import anndata as ad\n",
    "import scanpy as sc\n",
    "\n",
    "import pandas as pd\n",
    "import matplotlib.pyplot as plt\n",
    "\n",
    "import squidpy as sq\n",
    "\n",
    "%matplotlib inline"
   ]
  },
  {
   "cell_type": "code",
   "execution_count": 3,
   "id": "45e97333",
   "metadata": {},
   "outputs": [],
   "source": [
    "def pp(adata):\n",
    "    adata.var_names_make_unique()\n",
    "    adata.raw = adata\n",
    "    sc.pp.normalize_total(adata, target_sum=1e4)\n",
    "    sc.pp.log1p(adata)"
   ]
  },
  {
   "cell_type": "code",
   "execution_count": 5,
   "id": "4545e325",
   "metadata": {},
   "outputs": [
    {
     "name": "stderr",
     "output_type": "stream",
     "text": [
      "Variable names are not unique. To make them unique, call `.var_names_make_unique`.\n",
      "/home/linbuliao/anaconda3/lib/python3.9/site-packages/anndata/_core/anndata.py:120: ImplicitModificationWarning: Transforming to str index.\n",
      "  warnings.warn(\"Transforming to str index.\", ImplicitModificationWarning)\n"
     ]
    }
   ],
   "source": [
    "adata_HC1 = ad.read_h5ad('../Dataset/AdataMH1.h5ad')\n",
    "adata_HC2 = ad.read_h5ad('../Dataset/AdataMH2.h5ad')\n",
    "adata_Em1 = ad.read_h5ad('../Dataset/AdataEmbryo1.h5ad')\n",
    "\n",
    "ST = pd.read_csv('../MOB_Visium/MOBRep12_Processed.csv')\n",
    "loc = pd.read_csv('../MOB_Visium/MOBRep12_loc.csv')[['x', 'y']]\n",
    "\n",
    "adata_MOB = ad.AnnData(X=ST.values, obs = loc, var = pd.DataFrame(ST.columns).set_index(0))\n",
    "adata_MOB.var.index.name = None\n",
    "\n",
    "adata_MOB.obsm['spatial'] = adata_MOB.obs[['x', 'y']].values\n",
    "adata_HC1.obsm['spatial'] = adata_HC1.obs[['xcoord', 'ycoord']].values\n",
    "adata_HC2.obsm['spatial'] = adata_HC2.obs[['xcoord', 'ycoord']].values\n",
    "adata_Em1.obsm['spatial'] = adata_Em1.obs[['xcoord', 'ycoord']].values\n",
    "\n",
    "pp(adata_HC1)\n",
    "pp(adata_HC2)\n",
    "pp(adata_Em1)\n",
    "pp(adata_MOB)\n",
    "\n",
    "#HC1\n",
    "Anno = pd.read_csv('../MouseHippocampus_SSV2/ssHippo_RCTD.csv', index_col = 0)\n",
    "Anno['MCT'] = 't'\n",
    "\n",
    "index1 = Anno.index[(Anno['celltype_1'] == Anno['celltype_2'])]\n",
    "Anno['MCT'][index1] = Anno['celltype_1'][index1]\n",
    "index2 = Anno.index[(Anno['celltype_1'] != Anno['celltype_2'])]\n",
    "Anno['MCT'][index2] = (Anno['celltype_1'][index2] + '_' + Anno['celltype_2'][index2]).apply(lambda x: '_'.join(sorted(set(x.split('_')))))\n",
    "\n",
    "adata_HC1.obs = adata_HC1.obs.merge(Anno, left_index = True, right_index = True, how = 'left')\n",
    "adata_HC1_selected = adata_HC1[adata_HC1.obs['spot_class'].apply(lambda x: x in ['doublet_certain', 'singlet'])]\n",
    "\n",
    "#Em1\n",
    "Anno = pd.read_csv('../MouseEmbryo_SSV2/slideSeq_Puck190926_03_RCTD.csv', index_col = 0)\n",
    "Anno['MCT'] = 't'\n",
    "\n",
    "index1 = Anno.index[(Anno['celltype_1'] == Anno['celltype_2'])]\n",
    "Anno['MCT'][index1] = Anno['celltype_1'][index1]\n",
    "index2 = Anno.index[(Anno['celltype_1'] != Anno['celltype_2'])]\n",
    "Anno['MCT'][index2] = (Anno['celltype_1'][index2] + '_' + Anno['celltype_2'][index2]).apply(lambda x: '_'.join(sorted(set(x.split('_')))))\n",
    "\n",
    "adata_Em1.obs = adata_Em1.obs.merge(Anno, left_index = True, right_index = True, how = 'left')\n",
    "adata_Em1_selected = adata_Em1[adata_Em1.obs['spot_class'].apply(lambda x: x in ['doublet_certain', 'singlet'])]"
   ]
  },
  {
   "cell_type": "code",
   "execution_count": 11,
   "id": "6cc57571",
   "metadata": {},
   "outputs": [
    {
     "data": {
      "application/vnd.jupyter.widget-view+json": {
       "model_id": "012f76e68a6b4862b770986b5f2c0be8",
       "version_major": 2,
       "version_minor": 0
      },
      "text/plain": [
       "  0%|          | 0/100 [00:00<?, ?/s]"
      ]
     },
     "metadata": {},
     "output_type": "display_data"
    }
   ],
   "source": [
    "sq.gr.spatial_neighbors(adata_HC1)\n",
    "sq.gr.spatial_autocorr(\n",
    "    adata_HC1,\n",
    "    mode=\"moran\",\n",
    "    n_perms=100,\n",
    "    n_jobs=16,\n",
    ")\n",
    "adata_HC1.uns[\"moranI\"].to_csv('MoransI/MI_HC1.csv')"
   ]
  },
  {
   "cell_type": "code",
   "execution_count": 12,
   "id": "c45f3bf8",
   "metadata": {},
   "outputs": [
    {
     "name": "stderr",
     "output_type": "stream",
     "text": [
      "/home/linbuliao/anaconda3/lib/python3.9/site-packages/scanpy/metrics/_gearys_c.py:293: UserWarning: 1 variables were constant, will return nan for these.\n",
      "  warnings.warn(\n"
     ]
    },
    {
     "data": {
      "application/vnd.jupyter.widget-view+json": {
       "model_id": "1febd44b21f949bba2b83caf7077a8ff",
       "version_major": 2,
       "version_minor": 0
      },
      "text/plain": [
       "  0%|          | 0/100 [00:00<?, ?/s]"
      ]
     },
     "metadata": {},
     "output_type": "display_data"
    },
    {
     "name": "stderr",
     "output_type": "stream",
     "text": [
      "/home/linbuliao/anaconda3/lib/python3.9/site-packages/scanpy/metrics/_gearys_c.py:293: UserWarning: 1 variables were constant, will return nan for these.\n",
      "  warnings.warn(\n",
      "/home/linbuliao/anaconda3/lib/python3.9/site-packages/scanpy/metrics/_gearys_c.py:293: UserWarning: 1 variables were constant, will return nan for these.\n",
      "  warnings.warn(\n",
      "/home/linbuliao/anaconda3/lib/python3.9/site-packages/scanpy/metrics/_gearys_c.py:293: UserWarning: 1 variables were constant, will return nan for these.\n",
      "  warnings.warn(\n",
      "/home/linbuliao/anaconda3/lib/python3.9/site-packages/scanpy/metrics/_gearys_c.py:293: UserWarning: 1 variables were constant, will return nan for these.\n",
      "  warnings.warn(\n",
      "/home/linbuliao/anaconda3/lib/python3.9/site-packages/scanpy/metrics/_gearys_c.py:293: UserWarning: 1 variables were constant, will return nan for these.\n",
      "  warnings.warn(\n",
      "/home/linbuliao/anaconda3/lib/python3.9/site-packages/scanpy/metrics/_gearys_c.py:293: UserWarning: 1 variables were constant, will return nan for these.\n",
      "  warnings.warn(\n",
      "/home/linbuliao/anaconda3/lib/python3.9/site-packages/scanpy/metrics/_gearys_c.py:293: UserWarning: 1 variables were constant, will return nan for these.\n",
      "  warnings.warn(\n",
      "/home/linbuliao/anaconda3/lib/python3.9/site-packages/scanpy/metrics/_gearys_c.py:293: UserWarning: 1 variables were constant, will return nan for these.\n",
      "  warnings.warn(\n",
      "/home/linbuliao/anaconda3/lib/python3.9/site-packages/scanpy/metrics/_gearys_c.py:293: UserWarning: 1 variables were constant, will return nan for these.\n",
      "  warnings.warn(\n",
      "/home/linbuliao/anaconda3/lib/python3.9/site-packages/scanpy/metrics/_gearys_c.py:293: UserWarning: 1 variables were constant, will return nan for these.\n",
      "  warnings.warn(\n",
      "/home/linbuliao/anaconda3/lib/python3.9/site-packages/scanpy/metrics/_gearys_c.py:293: UserWarning: 1 variables were constant, will return nan for these.\n",
      "  warnings.warn(\n",
      "/home/linbuliao/anaconda3/lib/python3.9/site-packages/scanpy/metrics/_gearys_c.py:293: UserWarning: 1 variables were constant, will return nan for these.\n",
      "  warnings.warn(\n",
      "/home/linbuliao/anaconda3/lib/python3.9/site-packages/scanpy/metrics/_gearys_c.py:293: UserWarning: 1 variables were constant, will return nan for these.\n",
      "  warnings.warn(\n",
      "/home/linbuliao/anaconda3/lib/python3.9/site-packages/scanpy/metrics/_gearys_c.py:293: UserWarning: 1 variables were constant, will return nan for these.\n",
      "  warnings.warn(\n",
      "/home/linbuliao/anaconda3/lib/python3.9/site-packages/scanpy/metrics/_gearys_c.py:293: UserWarning: 1 variables were constant, will return nan for these.\n",
      "  warnings.warn(\n"
     ]
    }
   ],
   "source": [
    "sq.gr.spatial_neighbors(adata_HC2)\n",
    "sq.gr.spatial_autocorr(\n",
    "    adata_HC2,\n",
    "    mode=\"moran\",\n",
    "    n_perms=100,\n",
    "    n_jobs=16,\n",
    ")\n",
    "adata_HC2.uns[\"moranI\"].to_csv('MoransI/MI_HC2.csv')"
   ]
  },
  {
   "cell_type": "code",
   "execution_count": 13,
   "id": "b162e94e",
   "metadata": {},
   "outputs": [
    {
     "data": {
      "application/vnd.jupyter.widget-view+json": {
       "model_id": "3b9405db02564273aea54f7d71195b13",
       "version_major": 2,
       "version_minor": 0
      },
      "text/plain": [
       "  0%|          | 0/100 [00:00<?, ?/s]"
      ]
     },
     "metadata": {},
     "output_type": "display_data"
    }
   ],
   "source": [
    "sq.gr.spatial_neighbors(adata_Em1)\n",
    "sq.gr.spatial_autocorr(\n",
    "    adata_Em1,\n",
    "    mode=\"moran\",\n",
    "    n_perms=100,\n",
    "    n_jobs=16,\n",
    ")\n",
    "adata_Em1.uns[\"moranI\"].to_csv('MoransI/MI_Em1.csv')"
   ]
  },
  {
   "cell_type": "code",
   "execution_count": 6,
   "id": "52cf7846",
   "metadata": {},
   "outputs": [
    {
     "data": {
      "application/vnd.jupyter.widget-view+json": {
       "model_id": "a70c9f565c884a6680983938ac9251e1",
       "version_major": 2,
       "version_minor": 0
      },
      "text/plain": [
       "  0%|          | 0/100 [00:00<?, ?/s]"
      ]
     },
     "metadata": {},
     "output_type": "display_data"
    }
   ],
   "source": [
    "sq.gr.spatial_neighbors(adata_MOB)\n",
    "sq.gr.spatial_autocorr(\n",
    "    adata_MOB,\n",
    "    mode=\"moran\",\n",
    "    n_perms=100,\n",
    "    n_jobs=16,\n",
    ")\n",
    "adata_MOB.uns[\"moranI\"].to_csv('MoransI/MI_MOB.csv')"
   ]
  },
  {
   "cell_type": "markdown",
   "id": "bbc578e1",
   "metadata": {},
   "source": [
    "## Cell type specific"
   ]
  },
  {
   "cell_type": "code",
   "execution_count": 14,
   "id": "d3044465",
   "metadata": {},
   "outputs": [
    {
     "name": "stdout",
     "output_type": "stream",
     "text": [
      "O        2847\n",
      "A        1700\n",
      "Ec       1252\n",
      "DPc      1055\n",
      "CA1Pc     890\n",
      "CA3Pc     795\n",
      "I         786\n",
      "Name: MCT, dtype: int64\n",
      "O\n"
     ]
    },
    {
     "name": "stderr",
     "output_type": "stream",
     "text": [
      "/home/linbuliao/anaconda3/lib/python3.9/site-packages/scanpy/metrics/_gearys_c.py:293: UserWarning: 131 variables were constant, will return nan for these.\n",
      "  warnings.warn(\n"
     ]
    },
    {
     "data": {
      "application/vnd.jupyter.widget-view+json": {
       "model_id": "d626e7201a3249c4a53e5bdc60d6c093",
       "version_major": 2,
       "version_minor": 0
      },
      "text/plain": [
       "  0%|          | 0/100 [00:00<?, ?/s]"
      ]
     },
     "metadata": {},
     "output_type": "display_data"
    },
    {
     "name": "stderr",
     "output_type": "stream",
     "text": [
      "/home/linbuliao/anaconda3/lib/python3.9/site-packages/scanpy/metrics/_gearys_c.py:293: UserWarning: 131 variables were constant, will return nan for these.\n",
      "  warnings.warn(\n",
      "/home/linbuliao/anaconda3/lib/python3.9/site-packages/scanpy/metrics/_gearys_c.py:293: UserWarning: 131 variables were constant, will return nan for these.\n",
      "  warnings.warn(\n",
      "/home/linbuliao/anaconda3/lib/python3.9/site-packages/scanpy/metrics/_gearys_c.py:293: UserWarning: 131 variables were constant, will return nan for these.\n",
      "  warnings.warn(\n",
      "/home/linbuliao/anaconda3/lib/python3.9/site-packages/scanpy/metrics/_gearys_c.py:293: UserWarning: 131 variables were constant, will return nan for these.\n",
      "  warnings.warn(\n",
      "/home/linbuliao/anaconda3/lib/python3.9/site-packages/scanpy/metrics/_gearys_c.py:293: UserWarning: 131 variables were constant, will return nan for these.\n",
      "  warnings.warn(\n",
      "/home/linbuliao/anaconda3/lib/python3.9/site-packages/scanpy/metrics/_gearys_c.py:293: UserWarning: 131 variables were constant, will return nan for these.\n",
      "  warnings.warn(\n",
      "/home/linbuliao/anaconda3/lib/python3.9/site-packages/scanpy/metrics/_gearys_c.py:293: UserWarning: 131 variables were constant, will return nan for these.\n",
      "  warnings.warn(\n",
      "/home/linbuliao/anaconda3/lib/python3.9/site-packages/scanpy/metrics/_gearys_c.py:293: UserWarning: 131 variables were constant, will return nan for these.\n",
      "  warnings.warn(\n",
      "/home/linbuliao/anaconda3/lib/python3.9/site-packages/scanpy/metrics/_gearys_c.py:293: UserWarning: 131 variables were constant, will return nan for these.\n",
      "  warnings.warn(\n",
      "/home/linbuliao/anaconda3/lib/python3.9/site-packages/scanpy/metrics/_gearys_c.py:293: UserWarning: 131 variables were constant, will return nan for these.\n",
      "  warnings.warn(\n",
      "/home/linbuliao/anaconda3/lib/python3.9/site-packages/scanpy/metrics/_gearys_c.py:293: UserWarning: 131 variables were constant, will return nan for these.\n",
      "  warnings.warn(\n",
      "/home/linbuliao/anaconda3/lib/python3.9/site-packages/scanpy/metrics/_gearys_c.py:293: UserWarning: 131 variables were constant, will return nan for these.\n",
      "  warnings.warn(\n",
      "/home/linbuliao/anaconda3/lib/python3.9/site-packages/scanpy/metrics/_gearys_c.py:293: UserWarning: 131 variables were constant, will return nan for these.\n",
      "  warnings.warn(\n",
      "/home/linbuliao/anaconda3/lib/python3.9/site-packages/scanpy/metrics/_gearys_c.py:293: UserWarning: 131 variables were constant, will return nan for these.\n",
      "  warnings.warn(\n",
      "/home/linbuliao/anaconda3/lib/python3.9/site-packages/scanpy/metrics/_gearys_c.py:293: UserWarning: 131 variables were constant, will return nan for these.\n",
      "  warnings.warn(\n"
     ]
    },
    {
     "name": "stdout",
     "output_type": "stream",
     "text": [
      "A\n"
     ]
    },
    {
     "name": "stderr",
     "output_type": "stream",
     "text": [
      "/home/linbuliao/anaconda3/lib/python3.9/site-packages/scanpy/metrics/_gearys_c.py:293: UserWarning: 131 variables were constant, will return nan for these.\n",
      "  warnings.warn(\n"
     ]
    },
    {
     "data": {
      "application/vnd.jupyter.widget-view+json": {
       "model_id": "4d9334a8664a47e6b9948a0f7dc7e5ff",
       "version_major": 2,
       "version_minor": 0
      },
      "text/plain": [
       "  0%|          | 0/100 [00:00<?, ?/s]"
      ]
     },
     "metadata": {},
     "output_type": "display_data"
    },
    {
     "name": "stderr",
     "output_type": "stream",
     "text": [
      "/home/linbuliao/anaconda3/lib/python3.9/site-packages/scanpy/metrics/_gearys_c.py:293: UserWarning: 131 variables were constant, will return nan for these.\n",
      "  warnings.warn(\n",
      "/home/linbuliao/anaconda3/lib/python3.9/site-packages/scanpy/metrics/_gearys_c.py:293: UserWarning: 131 variables were constant, will return nan for these.\n",
      "  warnings.warn(\n",
      "/home/linbuliao/anaconda3/lib/python3.9/site-packages/scanpy/metrics/_gearys_c.py:293: UserWarning: 131 variables were constant, will return nan for these.\n",
      "  warnings.warn(\n",
      "/home/linbuliao/anaconda3/lib/python3.9/site-packages/scanpy/metrics/_gearys_c.py:293: UserWarning: 131 variables were constant, will return nan for these.\n",
      "  warnings.warn(\n",
      "/home/linbuliao/anaconda3/lib/python3.9/site-packages/scanpy/metrics/_gearys_c.py:293: UserWarning: 131 variables were constant, will return nan for these.\n",
      "  warnings.warn(\n",
      "/home/linbuliao/anaconda3/lib/python3.9/site-packages/scanpy/metrics/_gearys_c.py:293: UserWarning: 131 variables were constant, will return nan for these.\n",
      "  warnings.warn(\n"
     ]
    },
    {
     "name": "stdout",
     "output_type": "stream",
     "text": [
      "Ec\n"
     ]
    },
    {
     "name": "stderr",
     "output_type": "stream",
     "text": [
      "/home/linbuliao/anaconda3/lib/python3.9/site-packages/scanpy/metrics/_gearys_c.py:293: UserWarning: 131 variables were constant, will return nan for these.\n",
      "  warnings.warn(\n"
     ]
    },
    {
     "data": {
      "application/vnd.jupyter.widget-view+json": {
       "model_id": "01e7ce256d5645188192605d9e356372",
       "version_major": 2,
       "version_minor": 0
      },
      "text/plain": [
       "  0%|          | 0/100 [00:00<?, ?/s]"
      ]
     },
     "metadata": {},
     "output_type": "display_data"
    },
    {
     "name": "stderr",
     "output_type": "stream",
     "text": [
      "/home/linbuliao/anaconda3/lib/python3.9/site-packages/scanpy/metrics/_gearys_c.py:293: UserWarning: 131 variables were constant, will return nan for these.\n",
      "  warnings.warn(\n",
      "/home/linbuliao/anaconda3/lib/python3.9/site-packages/scanpy/metrics/_gearys_c.py:293: UserWarning: 131 variables were constant, will return nan for these.\n",
      "  warnings.warn(\n",
      "/home/linbuliao/anaconda3/lib/python3.9/site-packages/scanpy/metrics/_gearys_c.py:293: UserWarning: 131 variables were constant, will return nan for these.\n",
      "  warnings.warn(\n",
      "/home/linbuliao/anaconda3/lib/python3.9/site-packages/scanpy/metrics/_gearys_c.py:293: UserWarning: 131 variables were constant, will return nan for these.\n",
      "  warnings.warn(\n"
     ]
    },
    {
     "name": "stdout",
     "output_type": "stream",
     "text": [
      "DPc\n"
     ]
    },
    {
     "name": "stderr",
     "output_type": "stream",
     "text": [
      "/home/linbuliao/anaconda3/lib/python3.9/site-packages/scanpy/metrics/_gearys_c.py:293: UserWarning: 131 variables were constant, will return nan for these.\n",
      "  warnings.warn(\n"
     ]
    },
    {
     "data": {
      "application/vnd.jupyter.widget-view+json": {
       "model_id": "8daa491e3f7e43a0bf4dfa760aa02d6a",
       "version_major": 2,
       "version_minor": 0
      },
      "text/plain": [
       "  0%|          | 0/100 [00:00<?, ?/s]"
      ]
     },
     "metadata": {},
     "output_type": "display_data"
    },
    {
     "name": "stderr",
     "output_type": "stream",
     "text": [
      "/home/linbuliao/anaconda3/lib/python3.9/site-packages/scanpy/metrics/_gearys_c.py:293: UserWarning: 131 variables were constant, will return nan for these.\n",
      "  warnings.warn(\n",
      "/home/linbuliao/anaconda3/lib/python3.9/site-packages/scanpy/metrics/_gearys_c.py:293: UserWarning: 131 variables were constant, will return nan for these.\n",
      "  warnings.warn(\n",
      "/home/linbuliao/anaconda3/lib/python3.9/site-packages/scanpy/metrics/_gearys_c.py:293: UserWarning: 131 variables were constant, will return nan for these.\n",
      "  warnings.warn(\n",
      "/home/linbuliao/anaconda3/lib/python3.9/site-packages/scanpy/metrics/_gearys_c.py:293: UserWarning: 131 variables were constant, will return nan for these.\n",
      "  warnings.warn(\n",
      "/home/linbuliao/anaconda3/lib/python3.9/site-packages/scanpy/metrics/_gearys_c.py:293: UserWarning: 131 variables were constant, will return nan for these.\n",
      "  warnings.warn(\n",
      "/home/linbuliao/anaconda3/lib/python3.9/site-packages/scanpy/metrics/_gearys_c.py:293: UserWarning: 131 variables were constant, will return nan for these.\n",
      "  warnings.warn(\n",
      "/home/linbuliao/anaconda3/lib/python3.9/site-packages/scanpy/metrics/_gearys_c.py:293: UserWarning: 131 variables were constant, will return nan for these.\n",
      "  warnings.warn(\n",
      "/home/linbuliao/anaconda3/lib/python3.9/site-packages/scanpy/metrics/_gearys_c.py:293: UserWarning: 131 variables were constant, will return nan for these.\n",
      "  warnings.warn(\n"
     ]
    },
    {
     "name": "stdout",
     "output_type": "stream",
     "text": [
      "CA1Pc\n"
     ]
    },
    {
     "name": "stderr",
     "output_type": "stream",
     "text": [
      "/home/linbuliao/anaconda3/lib/python3.9/site-packages/scanpy/metrics/_gearys_c.py:293: UserWarning: 131 variables were constant, will return nan for these.\n",
      "  warnings.warn(\n"
     ]
    },
    {
     "data": {
      "application/vnd.jupyter.widget-view+json": {
       "model_id": "34ad82ba313d4753aeaf96d9a3602a60",
       "version_major": 2,
       "version_minor": 0
      },
      "text/plain": [
       "  0%|          | 0/100 [00:00<?, ?/s]"
      ]
     },
     "metadata": {},
     "output_type": "display_data"
    },
    {
     "name": "stderr",
     "output_type": "stream",
     "text": [
      "/home/linbuliao/anaconda3/lib/python3.9/site-packages/scanpy/metrics/_gearys_c.py:293: UserWarning: 131 variables were constant, will return nan for these.\n",
      "  warnings.warn(\n",
      "/home/linbuliao/anaconda3/lib/python3.9/site-packages/scanpy/metrics/_gearys_c.py:293: UserWarning: 131 variables were constant, will return nan for these.\n",
      "  warnings.warn(\n",
      "/home/linbuliao/anaconda3/lib/python3.9/site-packages/scanpy/metrics/_gearys_c.py:293: UserWarning: 131 variables were constant, will return nan for these.\n",
      "  warnings.warn(\n"
     ]
    },
    {
     "name": "stdout",
     "output_type": "stream",
     "text": [
      "CA3Pc\n"
     ]
    },
    {
     "name": "stderr",
     "output_type": "stream",
     "text": [
      "/home/linbuliao/anaconda3/lib/python3.9/site-packages/scanpy/metrics/_gearys_c.py:293: UserWarning: 131 variables were constant, will return nan for these.\n",
      "  warnings.warn(\n"
     ]
    },
    {
     "data": {
      "application/vnd.jupyter.widget-view+json": {
       "model_id": "31484f55c3504d9c8dd2e07cfedc0fc6",
       "version_major": 2,
       "version_minor": 0
      },
      "text/plain": [
       "  0%|          | 0/100 [00:00<?, ?/s]"
      ]
     },
     "metadata": {},
     "output_type": "display_data"
    },
    {
     "name": "stderr",
     "output_type": "stream",
     "text": [
      "/home/linbuliao/anaconda3/lib/python3.9/site-packages/scanpy/metrics/_gearys_c.py:293: UserWarning: 131 variables were constant, will return nan for these.\n",
      "  warnings.warn(\n",
      "/home/linbuliao/anaconda3/lib/python3.9/site-packages/scanpy/metrics/_gearys_c.py:293: UserWarning: 131 variables were constant, will return nan for these.\n",
      "  warnings.warn(\n",
      "/home/linbuliao/anaconda3/lib/python3.9/site-packages/scanpy/metrics/_gearys_c.py:293: UserWarning: 131 variables were constant, will return nan for these.\n",
      "  warnings.warn(\n",
      "/home/linbuliao/anaconda3/lib/python3.9/site-packages/scanpy/metrics/_gearys_c.py:293: UserWarning: 131 variables were constant, will return nan for these.\n",
      "  warnings.warn(\n",
      "/home/linbuliao/anaconda3/lib/python3.9/site-packages/scanpy/metrics/_gearys_c.py:293: UserWarning: 131 variables were constant, will return nan for these.\n",
      "  warnings.warn(\n",
      "/home/linbuliao/anaconda3/lib/python3.9/site-packages/scanpy/metrics/_gearys_c.py:293: UserWarning: 131 variables were constant, will return nan for these.\n",
      "  warnings.warn(\n"
     ]
    },
    {
     "name": "stdout",
     "output_type": "stream",
     "text": [
      "I\n"
     ]
    },
    {
     "name": "stderr",
     "output_type": "stream",
     "text": [
      "/home/linbuliao/anaconda3/lib/python3.9/site-packages/scanpy/metrics/_gearys_c.py:293: UserWarning: 131 variables were constant, will return nan for these.\n",
      "  warnings.warn(\n"
     ]
    },
    {
     "data": {
      "application/vnd.jupyter.widget-view+json": {
       "model_id": "26d22567cada4f2a9e5e866cd8ddc489",
       "version_major": 2,
       "version_minor": 0
      },
      "text/plain": [
       "  0%|          | 0/100 [00:00<?, ?/s]"
      ]
     },
     "metadata": {},
     "output_type": "display_data"
    },
    {
     "name": "stderr",
     "output_type": "stream",
     "text": [
      "/home/linbuliao/anaconda3/lib/python3.9/site-packages/scanpy/metrics/_gearys_c.py:293: UserWarning: 131 variables were constant, will return nan for these.\n",
      "  warnings.warn(\n",
      "/home/linbuliao/anaconda3/lib/python3.9/site-packages/scanpy/metrics/_gearys_c.py:293: UserWarning: 131 variables were constant, will return nan for these.\n",
      "  warnings.warn(\n",
      "/home/linbuliao/anaconda3/lib/python3.9/site-packages/scanpy/metrics/_gearys_c.py:293: UserWarning: 131 variables were constant, will return nan for these.\n",
      "  warnings.warn(\n",
      "/home/linbuliao/anaconda3/lib/python3.9/site-packages/scanpy/metrics/_gearys_c.py:293: UserWarning: 131 variables were constant, will return nan for these.\n",
      "  warnings.warn(\n",
      "/home/linbuliao/anaconda3/lib/python3.9/site-packages/scanpy/metrics/_gearys_c.py:293: UserWarning: 131 variables were constant, will return nan for these.\n",
      "  warnings.warn(\n",
      "/home/linbuliao/anaconda3/lib/python3.9/site-packages/scanpy/metrics/_gearys_c.py:293: UserWarning: 131 variables were constant, will return nan for these.\n",
      "  warnings.warn(\n"
     ]
    }
   ],
   "source": [
    "CTs = adata_HC1_selected.obs['MCT'].value_counts()\n",
    "is_doub = CTs.index.str.contains('_')\n",
    "\n",
    "SCTs = CTs[~is_doub]\n",
    "SCTs_selected = SCTs[SCTs > 500].index.tolist()\n",
    "print(SCTs[SCTs > 500])\n",
    "\n",
    "result_HC1_CTS = []\n",
    "for CT in SCTs_selected:\n",
    "    print(CT)\n",
    "    sq.gr.spatial_neighbors(adata_HC1_selected)\n",
    "    sq.gr.spatial_autocorr(\n",
    "        adata_HC1_selected,\n",
    "        mode=\"moran\",\n",
    "        n_perms=100,\n",
    "        n_jobs=16,\n",
    "    )\n",
    "    adata_HC1_selected.uns[\"moranI\"].to_csv('MoransI/MI_HC1_' + CT + '.csv')\n",
    "    result_HC1_CTS.append(adata_HC1_selected.uns[\"moranI\"])"
   ]
  },
  {
   "cell_type": "code",
   "execution_count": 15,
   "id": "adb41ce7",
   "metadata": {},
   "outputs": [
    {
     "name": "stdout",
     "output_type": "stream",
     "text": [
      "Sc     4655\n",
      "My     1368\n",
      "Ept     693\n",
      "Name: MCT, dtype: int64\n",
      "Sc\n"
     ]
    },
    {
     "name": "stderr",
     "output_type": "stream",
     "text": [
      "/home/linbuliao/anaconda3/lib/python3.9/site-packages/scanpy/metrics/_gearys_c.py:293: UserWarning: 380 variables were constant, will return nan for these.\n",
      "  warnings.warn(\n"
     ]
    },
    {
     "data": {
      "application/vnd.jupyter.widget-view+json": {
       "model_id": "9fba3f0509bd418397e53e00535f555b",
       "version_major": 2,
       "version_minor": 0
      },
      "text/plain": [
       "  0%|          | 0/100 [00:00<?, ?/s]"
      ]
     },
     "metadata": {},
     "output_type": "display_data"
    },
    {
     "name": "stderr",
     "output_type": "stream",
     "text": [
      "/home/linbuliao/anaconda3/lib/python3.9/site-packages/scanpy/metrics/_gearys_c.py:293: UserWarning: 380 variables were constant, will return nan for these.\n",
      "  warnings.warn(\n",
      "/home/linbuliao/anaconda3/lib/python3.9/site-packages/scanpy/metrics/_gearys_c.py:293: UserWarning: 380 variables were constant, will return nan for these.\n",
      "  warnings.warn(\n",
      "/home/linbuliao/anaconda3/lib/python3.9/site-packages/scanpy/metrics/_gearys_c.py:293: UserWarning: 380 variables were constant, will return nan for these.\n",
      "  warnings.warn(\n",
      "/home/linbuliao/anaconda3/lib/python3.9/site-packages/scanpy/metrics/_gearys_c.py:293: UserWarning: 380 variables were constant, will return nan for these.\n",
      "  warnings.warn(\n",
      "/home/linbuliao/anaconda3/lib/python3.9/site-packages/scanpy/metrics/_gearys_c.py:293: UserWarning: 380 variables were constant, will return nan for these.\n",
      "  warnings.warn(\n",
      "/home/linbuliao/anaconda3/lib/python3.9/site-packages/scanpy/metrics/_gearys_c.py:293: UserWarning: 380 variables were constant, will return nan for these.\n",
      "  warnings.warn(\n",
      "/home/linbuliao/anaconda3/lib/python3.9/site-packages/scanpy/metrics/_gearys_c.py:293: UserWarning: 380 variables were constant, will return nan for these.\n",
      "  warnings.warn(\n",
      "/home/linbuliao/anaconda3/lib/python3.9/site-packages/scanpy/metrics/_gearys_c.py:293: UserWarning: 380 variables were constant, will return nan for these.\n",
      "  warnings.warn(\n",
      "/home/linbuliao/anaconda3/lib/python3.9/site-packages/scanpy/metrics/_gearys_c.py:293: UserWarning: 380 variables were constant, will return nan for these.\n",
      "  warnings.warn(\n",
      "/home/linbuliao/anaconda3/lib/python3.9/site-packages/scanpy/metrics/_gearys_c.py:293: UserWarning: 380 variables were constant, will return nan for these.\n",
      "  warnings.warn(\n",
      "/home/linbuliao/anaconda3/lib/python3.9/site-packages/scanpy/metrics/_gearys_c.py:293: UserWarning: 380 variables were constant, will return nan for these.\n",
      "  warnings.warn(\n",
      "/home/linbuliao/anaconda3/lib/python3.9/site-packages/scanpy/metrics/_gearys_c.py:293: UserWarning: 380 variables were constant, will return nan for these.\n",
      "  warnings.warn(\n",
      "/home/linbuliao/anaconda3/lib/python3.9/site-packages/scanpy/metrics/_gearys_c.py:293: UserWarning: 380 variables were constant, will return nan for these.\n",
      "  warnings.warn(\n",
      "/home/linbuliao/anaconda3/lib/python3.9/site-packages/scanpy/metrics/_gearys_c.py:293: UserWarning: 380 variables were constant, will return nan for these.\n",
      "  warnings.warn(\n",
      "/home/linbuliao/anaconda3/lib/python3.9/site-packages/scanpy/metrics/_gearys_c.py:293: UserWarning: 380 variables were constant, will return nan for these.\n",
      "  warnings.warn(\n"
     ]
    },
    {
     "name": "stdout",
     "output_type": "stream",
     "text": [
      "My\n"
     ]
    },
    {
     "name": "stderr",
     "output_type": "stream",
     "text": [
      "/home/linbuliao/anaconda3/lib/python3.9/site-packages/scanpy/metrics/_gearys_c.py:293: UserWarning: 380 variables were constant, will return nan for these.\n",
      "  warnings.warn(\n"
     ]
    },
    {
     "data": {
      "application/vnd.jupyter.widget-view+json": {
       "model_id": "614eacff87944b4e9548dee420b931fc",
       "version_major": 2,
       "version_minor": 0
      },
      "text/plain": [
       "  0%|          | 0/100 [00:00<?, ?/s]"
      ]
     },
     "metadata": {},
     "output_type": "display_data"
    },
    {
     "name": "stderr",
     "output_type": "stream",
     "text": [
      "/home/linbuliao/anaconda3/lib/python3.9/site-packages/scanpy/metrics/_gearys_c.py:293: UserWarning: 380 variables were constant, will return nan for these.\n",
      "  warnings.warn(\n",
      "/home/linbuliao/anaconda3/lib/python3.9/site-packages/scanpy/metrics/_gearys_c.py:293: UserWarning: 380 variables were constant, will return nan for these.\n",
      "  warnings.warn(\n",
      "/home/linbuliao/anaconda3/lib/python3.9/site-packages/scanpy/metrics/_gearys_c.py:293: UserWarning: 380 variables were constant, will return nan for these.\n",
      "  warnings.warn(\n",
      "/home/linbuliao/anaconda3/lib/python3.9/site-packages/scanpy/metrics/_gearys_c.py:293: UserWarning: 380 variables were constant, will return nan for these.\n",
      "  warnings.warn(\n"
     ]
    },
    {
     "name": "stdout",
     "output_type": "stream",
     "text": [
      "Ept\n"
     ]
    },
    {
     "name": "stderr",
     "output_type": "stream",
     "text": [
      "/home/linbuliao/anaconda3/lib/python3.9/site-packages/scanpy/metrics/_gearys_c.py:293: UserWarning: 380 variables were constant, will return nan for these.\n",
      "  warnings.warn(\n"
     ]
    },
    {
     "data": {
      "application/vnd.jupyter.widget-view+json": {
       "model_id": "0f261ad3733b4c64bcc572572d9b7a02",
       "version_major": 2,
       "version_minor": 0
      },
      "text/plain": [
       "  0%|          | 0/100 [00:00<?, ?/s]"
      ]
     },
     "metadata": {},
     "output_type": "display_data"
    },
    {
     "name": "stderr",
     "output_type": "stream",
     "text": [
      "/home/linbuliao/anaconda3/lib/python3.9/site-packages/scanpy/metrics/_gearys_c.py:293: UserWarning: 380 variables were constant, will return nan for these.\n",
      "  warnings.warn(\n",
      "/home/linbuliao/anaconda3/lib/python3.9/site-packages/scanpy/metrics/_gearys_c.py:293: UserWarning: 380 variables were constant, will return nan for these.\n",
      "  warnings.warn(\n",
      "/home/linbuliao/anaconda3/lib/python3.9/site-packages/scanpy/metrics/_gearys_c.py:293: UserWarning: 380 variables were constant, will return nan for these.\n",
      "  warnings.warn(\n",
      "/home/linbuliao/anaconda3/lib/python3.9/site-packages/scanpy/metrics/_gearys_c.py:293: UserWarning: 380 variables were constant, will return nan for these.\n",
      "  warnings.warn(\n"
     ]
    }
   ],
   "source": [
    "CTs = adata_Em1_selected.obs['MCT'].value_counts()\n",
    "is_doub = CTs.index.str.contains('_')\n",
    "\n",
    "SCTs = CTs[~is_doub]\n",
    "SCTs_selected = SCTs[SCTs > 500].index.tolist()\n",
    "print(SCTs[SCTs > 500])\n",
    "\n",
    "result_Em1_CTS = []\n",
    "for CT in SCTs_selected:\n",
    "    print(CT)\n",
    "    sq.gr.spatial_neighbors(adata_Em1_selected)\n",
    "    sq.gr.spatial_autocorr(\n",
    "        adata_Em1_selected,\n",
    "        mode=\"moran\",\n",
    "        n_perms=100,\n",
    "        n_jobs=16,\n",
    "    )\n",
    "    adata_Em1_selected.uns[\"moranI\"].to_csv('MoransI/MI_Em1_' + CT + '.csv')\n",
    "    result_Em1_CTS.append(adata_Em1_selected.uns[\"moranI\"])"
   ]
  },
  {
   "cell_type": "code",
   "execution_count": null,
   "id": "ba0c2448",
   "metadata": {},
   "outputs": [],
   "source": []
  },
  {
   "cell_type": "code",
   "execution_count": null,
   "id": "0f985fe3",
   "metadata": {},
   "outputs": [],
   "source": []
  }
 ],
 "metadata": {
  "kernelspec": {
   "display_name": "Python 3 (ipykernel)",
   "language": "python",
   "name": "python3"
  },
  "language_info": {
   "codemirror_mode": {
    "name": "ipython",
    "version": 3
   },
   "file_extension": ".py",
   "mimetype": "text/x-python",
   "name": "python",
   "nbconvert_exporter": "python",
   "pygments_lexer": "ipython3",
   "version": "3.9.7"
  }
 },
 "nbformat": 4,
 "nbformat_minor": 5
}
