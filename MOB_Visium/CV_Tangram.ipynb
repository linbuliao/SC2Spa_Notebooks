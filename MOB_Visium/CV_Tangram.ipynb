{
 "cells": [
  {
   "cell_type": "code",
   "execution_count": 1,
   "id": "c4ff954c",
   "metadata": {},
   "outputs": [
    {
     "name": "stderr",
     "output_type": "stream",
     "text": [
      "/home/linbuliao/anaconda3/envs/tangram-env/lib/python3.8/site-packages/tqdm/auto.py:22: TqdmWarning: IProgress not found. Please update jupyter and ipywidgets. See https://ipywidgets.readthedocs.io/en/stable/user_install.html\n",
      "  from .autonotebook import tqdm as notebook_tqdm\n"
     ]
    },
    {
     "name": "stdout",
     "output_type": "stream",
     "text": [
      "/mnt/win1\n",
      "/mnt/win1/SC2Spa_Notebook/MOB_Visium\n"
     ]
    }
   ],
   "source": [
    "import numpy as np\n",
    "import pandas as pd\n",
    "\n",
    "import torch\n",
    "import tangram as tg\n",
    "\n",
    "import anndata as ad\n",
    "import scanpy as sc\n",
    "\n",
    "from sklearn.model_selection import KFold\n",
    "\n",
    "import os\n",
    "import time\n",
    "\n",
    "from SC2Spa import PP"
   ]
  },
  {
   "cell_type": "code",
   "execution_count": 2,
   "id": "44da10fa",
   "metadata": {},
   "outputs": [],
   "source": [
    "ST = pd.read_csv('MOBRep12_Processed.csv')\n",
    "loc = pd.read_csv('MOBRep12_loc.csv')[['x', 'y']]\n",
    "\n",
    "loc_Norm = PP.MinMaxNorm(loc, Y_ref = loc)\n",
    "\n",
    "adata = ad.AnnData(X=ST.values, var = pd.DataFrame(ST.columns).set_index(0))\n",
    "sc.pp.normalize_total(adata, target_sum=1e4)\n",
    "sc.pp.log1p(adata)\n",
    "adata.obs[['x_coord', 'y_coord']] = loc.values\n",
    "\n",
    "X = adata.X\n",
    "Y = loc_Norm.values"
   ]
  },
  {
   "cell_type": "code",
   "execution_count": 3,
   "id": "93fcd1cf",
   "metadata": {},
   "outputs": [],
   "source": [
    "'''\n",
    "root = 'CV_groups/'\n",
    "if not os.path.exists(root):\n",
    "    os.makedirs(root)\n",
    "    \n",
    "kf = KFold(n_splits=5, random_state = 2022, shuffle = True)\n",
    "cv_index = kf.split(X)\n",
    "\n",
    "i = 0\n",
    "for cv_train, cv_test in cv_index:\n",
    "    i+=1\n",
    "    pd.DataFrame(cv_train).to_csv(root + 'index_train_' + str(i) + '.csv', header = None)\n",
    "    pd.DataFrame(cv_test).to_csv(root + 'index_test_' + str(i) + '.csv', header = None)\n",
    "\n",
    "'''\n",
    "\n",
    "train_indices, test_indices = PP.LoadIndices()"
   ]
  },
  {
   "cell_type": "code",
   "execution_count": 4,
   "id": "a6bd42c3",
   "metadata": {},
   "outputs": [
    {
     "name": "stderr",
     "output_type": "stream",
     "text": [
      "INFO:root:13354 training genes are saved in `uns``training_genes` of both single cell and spatial Anndatas.\n",
      "INFO:root:13354 overlapped genes are saved in `uns``overlap_genes` of both single cell and spatial Anndatas.\n",
      "INFO:root:uniform based density prior is calculated and saved in `obs``uniform_density` of the spatial Anndata.\n",
      "INFO:root:rna count based density prior is calculated and saved in `obs``rna_count_based_density` of the spatial Anndata.\n",
      "INFO:root:Allocate tensors for mapping.\n",
      "INFO:root:Begin training with 13354 genes and rna_count_based density_prior in cells mode...\n"
     ]
    },
    {
     "name": "stdout",
     "output_type": "stream",
     "text": [
      "0\n"
     ]
    },
    {
     "name": "stderr",
     "output_type": "stream",
     "text": [
      "INFO:root:Printing scores every 100 epochs.\n"
     ]
    },
    {
     "name": "stdout",
     "output_type": "stream",
     "text": [
      "Score: 0.473, KL reg: 0.013\n",
      "Score: 0.513, KL reg: 0.000\n",
      "Score: 0.513, KL reg: 0.000\n",
      "Score: 0.513, KL reg: 0.000\n",
      "Score: 0.513, KL reg: 0.000\n",
      "Score: 0.513, KL reg: 0.000\n",
      "Score: 0.513, KL reg: 0.000\n",
      "Score: 0.513, KL reg: 0.000\n",
      "Score: 0.513, KL reg: 0.000\n",
      "Score: 0.513, KL reg: 0.000\n"
     ]
    },
    {
     "name": "stderr",
     "output_type": "stream",
     "text": [
      "INFO:root:Saving results..\n",
      "INFO:root:13402 training genes are saved in `uns``training_genes` of both single cell and spatial Anndatas.\n",
      "INFO:root:13402 overlapped genes are saved in `uns``overlap_genes` of both single cell and spatial Anndatas.\n",
      "INFO:root:uniform based density prior is calculated and saved in `obs``uniform_density` of the spatial Anndata.\n",
      "INFO:root:rna count based density prior is calculated and saved in `obs``rna_count_based_density` of the spatial Anndata.\n",
      "INFO:root:Allocate tensors for mapping.\n",
      "INFO:root:Begin training with 13402 genes and rna_count_based density_prior in cells mode...\n",
      "INFO:root:Printing scores every 100 epochs.\n"
     ]
    },
    {
     "name": "stdout",
     "output_type": "stream",
     "text": [
      "1\n",
      "Score: 0.468, KL reg: 0.016\n",
      "Score: 0.511, KL reg: 0.000\n",
      "Score: 0.511, KL reg: 0.000\n",
      "Score: 0.511, KL reg: 0.000\n",
      "Score: 0.511, KL reg: 0.000\n",
      "Score: 0.511, KL reg: 0.000\n",
      "Score: 0.511, KL reg: 0.000\n",
      "Score: 0.511, KL reg: 0.000\n",
      "Score: 0.511, KL reg: 0.000\n",
      "Score: 0.511, KL reg: 0.000\n"
     ]
    },
    {
     "name": "stderr",
     "output_type": "stream",
     "text": [
      "INFO:root:Saving results..\n",
      "INFO:root:13512 training genes are saved in `uns``training_genes` of both single cell and spatial Anndatas.\n",
      "INFO:root:13512 overlapped genes are saved in `uns``overlap_genes` of both single cell and spatial Anndatas.\n",
      "INFO:root:uniform based density prior is calculated and saved in `obs``uniform_density` of the spatial Anndata.\n",
      "INFO:root:rna count based density prior is calculated and saved in `obs``rna_count_based_density` of the spatial Anndata.\n",
      "INFO:root:Allocate tensors for mapping.\n",
      "INFO:root:Begin training with 13512 genes and rna_count_based density_prior in cells mode...\n",
      "INFO:root:Printing scores every 100 epochs.\n"
     ]
    },
    {
     "name": "stdout",
     "output_type": "stream",
     "text": [
      "2\n",
      "Score: 0.465, KL reg: 0.016\n",
      "Score: 0.507, KL reg: 0.000\n",
      "Score: 0.507, KL reg: 0.000\n",
      "Score: 0.507, KL reg: 0.000\n",
      "Score: 0.507, KL reg: 0.000\n",
      "Score: 0.507, KL reg: 0.000\n",
      "Score: 0.507, KL reg: 0.000\n",
      "Score: 0.507, KL reg: 0.000\n",
      "Score: 0.507, KL reg: 0.000\n",
      "Score: 0.507, KL reg: 0.000\n"
     ]
    },
    {
     "name": "stderr",
     "output_type": "stream",
     "text": [
      "INFO:root:Saving results..\n",
      "INFO:root:13492 training genes are saved in `uns``training_genes` of both single cell and spatial Anndatas.\n",
      "INFO:root:13492 overlapped genes are saved in `uns``overlap_genes` of both single cell and spatial Anndatas.\n",
      "INFO:root:uniform based density prior is calculated and saved in `obs``uniform_density` of the spatial Anndata.\n",
      "INFO:root:rna count based density prior is calculated and saved in `obs``rna_count_based_density` of the spatial Anndata.\n",
      "INFO:root:Allocate tensors for mapping.\n",
      "INFO:root:Begin training with 13492 genes and rna_count_based density_prior in cells mode...\n",
      "INFO:root:Printing scores every 100 epochs.\n"
     ]
    },
    {
     "name": "stdout",
     "output_type": "stream",
     "text": [
      "3\n",
      "Score: 0.465, KL reg: 0.015\n",
      "Score: 0.505, KL reg: 0.000\n",
      "Score: 0.505, KL reg: 0.000\n",
      "Score: 0.505, KL reg: 0.000\n",
      "Score: 0.505, KL reg: 0.000\n",
      "Score: 0.505, KL reg: 0.000\n",
      "Score: 0.505, KL reg: 0.000\n",
      "Score: 0.505, KL reg: 0.000\n",
      "Score: 0.505, KL reg: 0.000\n",
      "Score: 0.505, KL reg: 0.000\n"
     ]
    },
    {
     "name": "stderr",
     "output_type": "stream",
     "text": [
      "INFO:root:Saving results..\n",
      "INFO:root:13368 training genes are saved in `uns``training_genes` of both single cell and spatial Anndatas.\n",
      "INFO:root:13368 overlapped genes are saved in `uns``overlap_genes` of both single cell and spatial Anndatas.\n",
      "INFO:root:uniform based density prior is calculated and saved in `obs``uniform_density` of the spatial Anndata.\n",
      "INFO:root:rna count based density prior is calculated and saved in `obs``rna_count_based_density` of the spatial Anndata.\n",
      "INFO:root:Allocate tensors for mapping.\n",
      "INFO:root:Begin training with 13368 genes and rna_count_based density_prior in cells mode...\n",
      "INFO:root:Printing scores every 100 epochs.\n"
     ]
    },
    {
     "name": "stdout",
     "output_type": "stream",
     "text": [
      "4\n",
      "Score: 0.470, KL reg: 0.015\n",
      "Score: 0.512, KL reg: 0.000\n",
      "Score: 0.512, KL reg: 0.000\n",
      "Score: 0.512, KL reg: 0.000\n",
      "Score: 0.512, KL reg: 0.000\n",
      "Score: 0.512, KL reg: 0.000\n",
      "Score: 0.512, KL reg: 0.000\n",
      "Score: 0.512, KL reg: 0.000\n",
      "Score: 0.512, KL reg: 0.000\n",
      "Score: 0.512, KL reg: 0.000\n"
     ]
    },
    {
     "name": "stderr",
     "output_type": "stream",
     "text": [
      "INFO:root:Saving results..\n"
     ]
    },
    {
     "name": "stdout",
     "output_type": "stream",
     "text": [
      "0.6538567503293355 mins consumed\n"
     ]
    }
   ],
   "source": [
    "root = 'SI_Benchmarking/Tangram/'\n",
    "if not os.path.exists(root):\n",
    "    os.makedirs(root)\n",
    "\n",
    "sta = time.time()\n",
    "\n",
    "for i in range(5):\n",
    "\n",
    "    print(i)\n",
    "    ad_sp = adata[train_indices[i]]\n",
    "    ad_sc = adata[test_indices[i]]\n",
    "    tg.pp_adatas(ad_sc, ad_sp, genes=None)\n",
    "\n",
    "    ad_map = tg.map_cells_to_space(ad_sc, ad_sp, device = 'cuda')\n",
    "   \n",
    "    torch.cuda.empty_cache()\n",
    "    Y_pred = PP.ReMMNorm(loc.values, np.matmul(ad_map.X, Y[train_indices[i]]))\n",
    "    pd.DataFrame(Y_pred).to_csv('SI_Benchmarking/Tangram/pred_' + str(i) + '.csv', header = None)\n",
    "\n",
    "end = time.time()\n",
    "print((end - sta)/60.0, 'mins consumed')"
   ]
  },
  {
   "cell_type": "code",
   "execution_count": null,
   "id": "ca7198f4",
   "metadata": {},
   "outputs": [],
   "source": []
  }
 ],
 "metadata": {
  "kernelspec": {
   "display_name": "Python 3 (ipykernel)",
   "language": "python",
   "name": "python3"
  },
  "language_info": {
   "codemirror_mode": {
    "name": "ipython",
    "version": 3
   },
   "file_extension": ".py",
   "mimetype": "text/x-python",
   "name": "python",
   "nbconvert_exporter": "python",
   "pygments_lexer": "ipython3",
   "version": "3.9.7"
  }
 },
 "nbformat": 4,
 "nbformat_minor": 5
}
