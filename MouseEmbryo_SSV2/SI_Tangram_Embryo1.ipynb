{
 "cells": [
  {
   "cell_type": "code",
   "execution_count": 1,
   "id": "9c2b17a0",
   "metadata": {},
   "outputs": [
    {
     "name": "stderr",
     "output_type": "stream",
     "text": [
      "/home/linbuliao/anaconda3/envs/tangram-env/lib/python3.8/site-packages/tqdm/auto.py:22: TqdmWarning: IProgress not found. Please update jupyter and ipywidgets. See https://ipywidgets.readthedocs.io/en/stable/user_install.html\n",
      "  from .autonotebook import tqdm as notebook_tqdm\n"
     ]
    }
   ],
   "source": [
    "import tangram as tg\n",
    "import pandas as pd\n",
    "import scanpy as sc\n",
    "import anndata as ad\n",
    "import numpy as np\n",
    "import torch\n",
    "from scipy import stats\n",
    "from sklearn.metrics import r2_score\n",
    "\n",
    "from time import time"
   ]
  },
  {
   "cell_type": "code",
   "execution_count": 2,
   "id": "10089656",
   "metadata": {},
   "outputs": [],
   "source": [
    "pct_offset = 0\n",
    "\n",
    "def MinMaxNorm(Y):\n",
    "    return (Y-Y.min(axis = 0))/(Y.max(axis = 0)-Y.min(axis = 0))/(1+pct_offset)\n",
    "\n",
    "def ReMMNorm(Y, Y_pred):\n",
    "    return (Y_pred*(Y.max(axis=0)-Y.min(axis=0)*(1+pct_offset))+Y.min(axis = 0))\n",
    "\n",
    "def PolarTrans(Y):\n",
    "    \n",
    "    R = np.sqrt(np.square(Y[:,0]) + np.square(Y[:,1]))\n",
    "    Theta = np.arctan(Y[:,1]/Y[:,0])\n",
    "    RTheta = np.concatenate([R.reshape(-1,1), Theta.reshape(-1,1)], axis = 1)\n",
    "    \n",
    "    return RTheta\n",
    "\n",
    "def RePolarTrans(RTheta):\n",
    "    x = RTheta[:,0] * np.cos(RTheta[:,1])\n",
    "    y = RTheta[:,0] * np.sin(RTheta[:,1])\n",
    "    Y = np.concatenate([x.reshape(-1,1), y.reshape(-1,1)], axis = 1)\n",
    "    return Y"
   ]
  },
  {
   "cell_type": "code",
   "execution_count": 3,
   "id": "a1573aee",
   "metadata": {},
   "outputs": [],
   "source": [
    "adata = ad.read_h5ad('../Dataset/AdataEmbryo1.h5ad')\n",
    "adata.var_names_make_unique()\n",
    "\n",
    "sc.pp.normalize_total(adata, target_sum = 1e4)\n",
    "sc.pp.log1p(adata)\n",
    "\n",
    "Y = adata.obs[['xcoord', 'ycoord']].values"
   ]
  },
  {
   "cell_type": "code",
   "execution_count": 4,
   "id": "d3536285",
   "metadata": {},
   "outputs": [],
   "source": [
    "train_indices = []\n",
    "test_indices = []\n",
    "for i in range(5):\n",
    "    train_index = pd.read_csv('CV_groups/index_train_' + str(i+1) + '.csv',\n",
    "                              header = None, index_col = 0).values.flatten()\n",
    "    test_index = pd.read_csv('CV_groups/index_test_' + str(i+1) + '.csv',\n",
    "                             header = None, index_col = 0).values.flatten()\n",
    "    \n",
    "    train_indices.append(train_index)\n",
    "    test_indices.append(test_index)"
   ]
  },
  {
   "cell_type": "markdown",
   "id": "844b0ddc",
   "metadata": {},
   "source": [
    "# Running code"
   ]
  },
  {
   "cell_type": "code",
   "execution_count": 5,
   "id": "797ad0c0",
   "metadata": {},
   "outputs": [
    {
     "name": "stdout",
     "output_type": "stream",
     "text": [
      "0\n"
     ]
    },
    {
     "name": "stderr",
     "output_type": "stream",
     "text": [
      "INFO:root:19198 training genes are saved in `uns``training_genes` of both single cell and spatial Anndatas.\n",
      "INFO:root:19198 overlapped genes are saved in `uns``overlap_genes` of both single cell and spatial Anndatas.\n",
      "INFO:root:uniform based density prior is calculated and saved in `obs``uniform_density` of the spatial Anndata.\n",
      "INFO:root:rna count based density prior is calculated and saved in `obs``rna_count_based_density` of the spatial Anndata.\n",
      "INFO:root:Allocate tensors for mapping.\n",
      "INFO:root:Begin training with 19198 genes and rna_count_based density_prior in cells mode...\n",
      "INFO:root:Printing scores every 100 epochs.\n"
     ]
    },
    {
     "name": "stdout",
     "output_type": "stream",
     "text": [
      "Score: 0.120, KL reg: 0.040\n",
      "Score: 0.375, KL reg: 0.001\n",
      "Score: 0.399, KL reg: 0.000\n",
      "Score: 0.409, KL reg: 0.000\n",
      "Score: 0.414, KL reg: 0.000\n",
      "Score: 0.418, KL reg: 0.000\n",
      "Score: 0.421, KL reg: 0.000\n",
      "Score: 0.423, KL reg: 0.000\n",
      "Score: 0.424, KL reg: 0.000\n",
      "Score: 0.426, KL reg: 0.000\n"
     ]
    },
    {
     "name": "stderr",
     "output_type": "stream",
     "text": [
      "INFO:root:Saving results..\n"
     ]
    },
    {
     "name": "stdout",
     "output_type": "stream",
     "text": [
      "1\n"
     ]
    },
    {
     "name": "stderr",
     "output_type": "stream",
     "text": [
      "INFO:root:19208 training genes are saved in `uns``training_genes` of both single cell and spatial Anndatas.\n",
      "INFO:root:19208 overlapped genes are saved in `uns``overlap_genes` of both single cell and spatial Anndatas.\n",
      "INFO:root:uniform based density prior is calculated and saved in `obs``uniform_density` of the spatial Anndata.\n",
      "INFO:root:rna count based density prior is calculated and saved in `obs``rna_count_based_density` of the spatial Anndata.\n",
      "INFO:root:Allocate tensors for mapping.\n",
      "INFO:root:Begin training with 19208 genes and rna_count_based density_prior in cells mode...\n",
      "INFO:root:Printing scores every 100 epochs.\n"
     ]
    },
    {
     "name": "stdout",
     "output_type": "stream",
     "text": [
      "Score: 0.120, KL reg: 0.040\n",
      "Score: 0.374, KL reg: 0.000\n",
      "Score: 0.399, KL reg: 0.000\n",
      "Score: 0.409, KL reg: 0.000\n",
      "Score: 0.414, KL reg: 0.000\n",
      "Score: 0.418, KL reg: 0.000\n",
      "Score: 0.421, KL reg: 0.000\n",
      "Score: 0.423, KL reg: 0.000\n",
      "Score: 0.424, KL reg: 0.000\n",
      "Score: 0.426, KL reg: 0.000\n"
     ]
    },
    {
     "name": "stderr",
     "output_type": "stream",
     "text": [
      "INFO:root:Saving results..\n"
     ]
    },
    {
     "name": "stdout",
     "output_type": "stream",
     "text": [
      "2\n"
     ]
    },
    {
     "name": "stderr",
     "output_type": "stream",
     "text": [
      "INFO:root:19225 training genes are saved in `uns``training_genes` of both single cell and spatial Anndatas.\n",
      "INFO:root:19225 overlapped genes are saved in `uns``overlap_genes` of both single cell and spatial Anndatas.\n",
      "INFO:root:uniform based density prior is calculated and saved in `obs``uniform_density` of the spatial Anndata.\n",
      "INFO:root:rna count based density prior is calculated and saved in `obs``rna_count_based_density` of the spatial Anndata.\n",
      "INFO:root:Allocate tensors for mapping.\n",
      "INFO:root:Begin training with 19225 genes and rna_count_based density_prior in cells mode...\n",
      "INFO:root:Printing scores every 100 epochs.\n"
     ]
    },
    {
     "name": "stdout",
     "output_type": "stream",
     "text": [
      "Score: 0.120, KL reg: 0.040\n",
      "Score: 0.374, KL reg: 0.001\n",
      "Score: 0.399, KL reg: 0.000\n",
      "Score: 0.408, KL reg: 0.000\n",
      "Score: 0.414, KL reg: 0.000\n",
      "Score: 0.418, KL reg: 0.000\n",
      "Score: 0.420, KL reg: 0.000\n",
      "Score: 0.422, KL reg: 0.000\n",
      "Score: 0.424, KL reg: 0.000\n",
      "Score: 0.425, KL reg: 0.000\n"
     ]
    },
    {
     "name": "stderr",
     "output_type": "stream",
     "text": [
      "INFO:root:Saving results..\n"
     ]
    },
    {
     "name": "stdout",
     "output_type": "stream",
     "text": [
      "3\n"
     ]
    },
    {
     "name": "stderr",
     "output_type": "stream",
     "text": [
      "INFO:root:19165 training genes are saved in `uns``training_genes` of both single cell and spatial Anndatas.\n",
      "INFO:root:19165 overlapped genes are saved in `uns``overlap_genes` of both single cell and spatial Anndatas.\n",
      "INFO:root:uniform based density prior is calculated and saved in `obs``uniform_density` of the spatial Anndata.\n",
      "INFO:root:rna count based density prior is calculated and saved in `obs``rna_count_based_density` of the spatial Anndata.\n",
      "INFO:root:Allocate tensors for mapping.\n",
      "INFO:root:Begin training with 19165 genes and rna_count_based density_prior in cells mode...\n",
      "INFO:root:Printing scores every 100 epochs.\n"
     ]
    },
    {
     "name": "stdout",
     "output_type": "stream",
     "text": [
      "Score: 0.120, KL reg: 0.040\n",
      "Score: 0.374, KL reg: 0.001\n",
      "Score: 0.398, KL reg: 0.000\n",
      "Score: 0.408, KL reg: 0.000\n",
      "Score: 0.414, KL reg: 0.000\n",
      "Score: 0.417, KL reg: 0.000\n",
      "Score: 0.420, KL reg: 0.000\n",
      "Score: 0.422, KL reg: 0.000\n",
      "Score: 0.424, KL reg: 0.000\n",
      "Score: 0.425, KL reg: 0.000\n"
     ]
    },
    {
     "name": "stderr",
     "output_type": "stream",
     "text": [
      "INFO:root:Saving results..\n"
     ]
    },
    {
     "name": "stdout",
     "output_type": "stream",
     "text": [
      "4\n"
     ]
    },
    {
     "name": "stderr",
     "output_type": "stream",
     "text": [
      "INFO:root:19153 training genes are saved in `uns``training_genes` of both single cell and spatial Anndatas.\n",
      "INFO:root:19153 overlapped genes are saved in `uns``overlap_genes` of both single cell and spatial Anndatas.\n",
      "INFO:root:uniform based density prior is calculated and saved in `obs``uniform_density` of the spatial Anndata.\n",
      "INFO:root:rna count based density prior is calculated and saved in `obs``rna_count_based_density` of the spatial Anndata.\n",
      "INFO:root:Allocate tensors for mapping.\n",
      "INFO:root:Begin training with 19153 genes and rna_count_based density_prior in cells mode...\n",
      "INFO:root:Printing scores every 100 epochs.\n"
     ]
    },
    {
     "name": "stdout",
     "output_type": "stream",
     "text": [
      "Score: 0.120, KL reg: 0.041\n",
      "Score: 0.374, KL reg: 0.001\n",
      "Score: 0.399, KL reg: 0.000\n",
      "Score: 0.409, KL reg: 0.000\n",
      "Score: 0.414, KL reg: 0.000\n",
      "Score: 0.418, KL reg: 0.000\n",
      "Score: 0.421, KL reg: 0.000\n",
      "Score: 0.423, KL reg: 0.000\n",
      "Score: 0.424, KL reg: 0.000\n",
      "Score: 0.426, KL reg: 0.000\n"
     ]
    },
    {
     "name": "stderr",
     "output_type": "stream",
     "text": [
      "INFO:root:Saving results..\n"
     ]
    },
    {
     "name": "stdout",
     "output_type": "stream",
     "text": [
      "221.8124224503835 mins consumed\n"
     ]
    }
   ],
   "source": [
    "ad_maps = []\n",
    "sta = time()\n",
    "\n",
    "for i in range(5):\n",
    "\n",
    "    print(i)\n",
    "    ad_sp = adata[train_indices[i]]\n",
    "    ad_sc = adata[test_indices[i]]\n",
    "    tg.pp_adatas(ad_sc, ad_sp, genes=None)\n",
    "\n",
    "    ad_map = tg.map_cells_to_space(ad_sc, ad_sp, device = 'cuda')\n",
    "    ad_maps.append(ad_map)\n",
    "    torch.cuda.empty_cache()\n",
    "\n",
    "end = time()\n",
    "print((end - sta)/60.0, 'mins consumed')"
   ]
  },
  {
   "cell_type": "code",
   "execution_count": 6,
   "id": "37599681",
   "metadata": {},
   "outputs": [
    {
     "data": {
      "text/plain": [
       "19153"
      ]
     },
     "execution_count": 6,
     "metadata": {},
     "output_type": "execute_result"
    }
   ],
   "source": [
    "len(ad_sc.uns['training_genes'])"
   ]
  },
  {
   "cell_type": "code",
   "execution_count": 10,
   "id": "fe2ed42d",
   "metadata": {},
   "outputs": [],
   "source": [
    "i = 0\n",
    "for i in range(5):\n",
    "    Y_pred = np.matmul(ad_maps[i].X, Y[train_indices[i]])\n",
    "    pd.DataFrame(Y_pred).to_csv('SI_Benchmarking/Tangram/pred_' + str(i) + '.csv', index = None)"
   ]
  },
  {
   "cell_type": "code",
   "execution_count": 11,
   "id": "73044d1f",
   "metadata": {},
   "outputs": [
    {
     "data": {
      "text/plain": [
       "array([[3068.2813475 , 3178.29499347],\n",
       "       [3106.76857675, 3546.43507294],\n",
       "       [3319.11089687, 3169.63701816],\n",
       "       ...,\n",
       "       [3307.95322683, 3180.64387685],\n",
       "       [3165.1240784 , 3451.13542726],\n",
       "       [3479.2197775 , 3201.63575843]])"
      ]
     },
     "execution_count": 11,
     "metadata": {},
     "output_type": "execute_result"
    }
   ],
   "source": [
    "Y_pred"
   ]
  },
  {
   "cell_type": "code",
   "execution_count": null,
   "id": "68df41d2",
   "metadata": {},
   "outputs": [],
   "source": []
  },
  {
   "cell_type": "code",
   "execution_count": null,
   "id": "a17a1ccb",
   "metadata": {},
   "outputs": [],
   "source": []
  },
  {
   "cell_type": "code",
   "execution_count": null,
   "id": "33e9b86a",
   "metadata": {},
   "outputs": [],
   "source": []
  },
  {
   "cell_type": "code",
   "execution_count": null,
   "id": "1bef988b",
   "metadata": {},
   "outputs": [],
   "source": []
  }
 ],
 "metadata": {
  "kernelspec": {
   "display_name": "Python 3 (ipykernel)",
   "language": "python",
   "name": "python3"
  },
  "language_info": {
   "codemirror_mode": {
    "name": "ipython",
    "version": 3
   },
   "file_extension": ".py",
   "mimetype": "text/x-python",
   "name": "python",
   "nbconvert_exporter": "python",
   "pygments_lexer": "ipython3",
   "version": "3.9.7"
  }
 },
 "nbformat": 4,
 "nbformat_minor": 5
}
