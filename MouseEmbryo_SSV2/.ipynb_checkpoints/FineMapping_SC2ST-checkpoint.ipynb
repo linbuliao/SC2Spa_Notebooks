{
 "cells": [
  {
   "cell_type": "code",
   "execution_count": 1,
   "id": "36fe5aeb",
   "metadata": {},
   "outputs": [
    {
     "name": "stdout",
     "output_type": "stream",
     "text": [
      "/mnt/win1\n",
      "/mnt/win1/SC2Spa_Notebook/MouseEmbryo_SSV2\n"
     ]
    }
   ],
   "source": [
    "seed_num = 2022\n",
    "\n",
    "from numpy.random import seed\n",
    "seed(seed_num)\n",
    "from tensorflow.random import set_seed\n",
    "set_seed(seed_num)\n",
    "import tensorflow as tf\n",
    "tf.keras.utils.set_random_seed(seed_num)\n",
    "tf.config.experimental.enable_op_determinism()\n",
    "\n",
    "\n",
    "import os\n",
    "import numpy as np\n",
    "import pandas as pd\n",
    "from sklearn.neighbors import NearestNeighbors\n",
    "import matplotlib.pyplot as plt\n",
    "import matplotlib.lines as mlines\n",
    "from IPython.display import clear_output\n",
    "from time import time\n",
    "import anndata as ad\n",
    "import seaborn as sns\n",
    "import scanpy as sc\n",
    "import pylab as pl\n",
    "\n",
    "from SC2Spa import SI, PP, Vis\n",
    "\n",
    "pd.set_option('display.max_columns', None)\n",
    "%matplotlib inline"
   ]
  },
  {
   "cell_type": "code",
   "execution_count": 2,
   "id": "00ad855c",
   "metadata": {},
   "outputs": [],
   "source": [
    "#Load\n",
    "adata_ref = ad.read_h5ad('../Dataset/AdataEmbryo1.h5ad')\n",
    "adata_query = ad.read_h5ad('../Dataset/MOCA_12_5.h5ad')\n",
    "\n",
    "adata_ref.var_names = adata_ref.var_names.str.upper()\n",
    "adata_query.var_names = adata_query.var_names.str.upper()\n",
    "\n",
    "adata_ref.var_names_make_unique()\n",
    "adata_query.var_names_make_unique()\n",
    "\n",
    "#Normalize\n",
    "sc.pp.normalize_total(adata_ref, target_sum=1e4)\n",
    "sc.pp.normalize_total(adata_query, target_sum=1e4)\n",
    "\n",
    "sc.pp.log1p(adata_ref)\n",
    "sc.pp.log1p(adata_query)\n",
    "\n",
    "Anno = pd.read_csv('slideSeq_Puck190926_03_RCTD.csv', index_col = 0)\n",
    "\n",
    "Anno['MCT'] = 't'\n",
    "\n",
    "index1 = Anno.index[(Anno['celltype_1'] == Anno['celltype_2'])]\n",
    "Anno['MCT'][index1] = Anno['celltype_1'][index1]\n",
    "index2 = Anno.index[(Anno['celltype_1'] != Anno['celltype_2'])]\n",
    "Anno['MCT'][index2] = Anno['celltype_1'][index2] + '_' + Anno['celltype_2'][index2].apply(lambda x: '_'.join(sorted(set(x.split('_')))))\n",
    "\n",
    "adata_ref.obs = adata_ref.obs.merge(Anno, left_index = True, right_index = True, how = 'left')\n",
    "\n",
    "adata_ref.obsm['spatial'] = adata_ref.obs[['xcoord', 'ycoord']].values"
   ]
  },
  {
   "cell_type": "code",
   "execution_count": 3,
   "id": "1dfd7a26",
   "metadata": {},
   "outputs": [
    {
     "name": "stdout",
     "output_type": "stream",
     "text": [
      "137.4829457084338 min\n"
     ]
    }
   ],
   "source": [
    "sta = time()\n",
    "JGs, WDs = SI.WassersteinD(adata_ref, adata_query, sparse = True,\n",
    "                           WD_cutoff = 0.1, root = 'WDs/', save = 'WDs_T1')\n",
    "\n",
    "end = time()\n",
    "print((end - sta) / 60.0, 'min')"
   ]
  },
  {
   "cell_type": "code",
   "execution_count": null,
   "id": "94fa8dd6",
   "metadata": {},
   "outputs": [],
   "source": [
    "WD_cutoff = 0.4\n",
    "\n",
    "root = 'WDs/'\n",
    "save = 'WDs_T1'\n",
    "\n",
    "WDs = pd.read_csv(root + save + '.csv')\n",
    "JGs = sorted(WDs[WDs['Wasserstein_Distance'] < WD_cutoff]['Gene'].tolist())\n",
    "\n",
    "adata_ref = adata_ref[:, JGs]\n",
    "adata_query = adata_query[:, JGs]\n",
    "\n",
    "seed(seed_num)\n",
    "set_seed(seed_num)\n",
    "tf.keras.utils.set_random_seed(seed_num)\n",
    "\n",
    "sta = time()\n",
    "\n",
    "neighbors, dis = SI.FineMapping(adata_ref, adata_query, sparse =True, model_path = None, root = 'Model_SI/',\n",
    "                                name = 'SI_T1_WD', l1_reg = 1e-5, l2_reg = 0, dropout = 0.05, epoch = 500,\n",
    "                                batch_size = 4096, nodes = [4096, 1024, 256, 64, 16, 4], lrr_patience = 20,\n",
    "                                ES_patience = 50, min_lr = 1e-5, save = True, polar = True,\n",
    "                                n_neighbors = 1000, dis_cutoff = 5, seed = seed_num)\n",
    "\n",
    "end = time()\n",
    "print((end - sta) / 60.0, 'min')\n",
    "\n",
    "'''\n",
    "neighbors, dis = SI.FineMapping(adata_ref, adata_query, sparse =True,\n",
    "                                model_path = 'Model_SI/SI_T1_WD.h5', WD_cutoff = None, \n",
    "                                polar = True, n_neighbors = 1000, dis_cutoff = 5)\n",
    "'''"
   ]
  },
  {
   "cell_type": "code",
   "execution_count": 3,
   "id": "9b45d528",
   "metadata": {},
   "outputs": [
    {
     "name": "stdout",
     "output_type": "stream",
     "text": [
      "n of Referece Genes: 20220\n",
      "n of Target Genes: 26157\n",
      "n of Joint Genes: 18777\n",
      "(41406, 18777)\n",
      "(259627, 18777)\n"
     ]
    },
    {
     "name": "stderr",
     "output_type": "stream",
     "text": [
      "2022-05-01 20:48:02.727626: I tensorflow/core/platform/cpu_feature_guard.cc:151] This TensorFlow binary is optimized with oneAPI Deep Neural Network Library (oneDNN) to use the following CPU instructions in performance-critical operations:  AVX2 AVX512F FMA\n",
      "To enable them in other operations, rebuild TensorFlow with the appropriate compiler flags.\n",
      "2022-05-01 20:48:03.390206: I tensorflow/core/common_runtime/gpu/gpu_device.cc:1525] Created device /job:localhost/replica:0/task:0/device:GPU:0 with 21942 MB memory:  -> device: 0, name: NVIDIA TITAN RTX, pci bus id: 0000:3b:00.0, compute capability: 7.5\n"
     ]
    }
   ],
   "source": [
    "neighbors, dis = SI.FineMapping(adata_ref, adata_query, sparse =True, model_path = 'Model_SI/SI_T1.h5',\n",
    "                                polar = True, n_neighbors = 1000, dis_cutoff = 20)\n"
   ]
  },
  {
   "cell_type": "code",
   "execution_count": 8,
   "id": "82485f98",
   "metadata": {},
   "outputs": [
    {
     "data": {
      "text/plain": [
       "Index(['all_exon_count', 'all_intron_count', 'all_read_count',\n",
       "       'intergenic_rate', 'embryo_id', 'embryo_sex', 'nuclei_extraction_date',\n",
       "       'development_stage', 'Total_mRNAs', 'num_genes_expressed',\n",
       "       'Size_Factor', 'Main_Cluster', 'Main_cluster_tsne_1',\n",
       "       'Main_cluster_tsne_2', 'Sub_cluster', 'Sub_cluster_tsne_1',\n",
       "       'Sub_cluster_tsne_2', 'doublet_score', 'detected_doublet',\n",
       "       'doublet_cluster', 'sub_cluster_id', 'Main_cell_type',\n",
       "       'Main_trajectory', 'Main_trajectory_umap_1', 'Main_trajectory_umap_2',\n",
       "       'Main_trajectory_umap_3', 'Main_trajectory_refined_by_cluster',\n",
       "       'Main_trajectory_refined_umap_1', 'Main_trajectory_refined_umap_2',\n",
       "       'Main_trajectory_refined_umap_3', 'Sub_trajectory_name',\n",
       "       'Sub_trajectory_umap_1', 'Sub_trajectory_umap_2',\n",
       "       'Sub_trajectory_louvain_component', 'Sub_trajectory_Pseudotime',\n",
       "       'n_genes', 'n_genes_by_counts', 'total_counts', 'total_counts_mt',\n",
       "       'pct_counts_mt', 'total_counts_ercc', 'pct_counts_ercc', 'x_transfer',\n",
       "       'y_transfer', 'FM'],\n",
       "      dtype='object')"
      ]
     },
     "execution_count": 8,
     "metadata": {},
     "output_type": "execute_result"
    }
   ],
   "source": [
    "adata_query.obs.columns"
   ]
  },
  {
   "cell_type": "code",
   "execution_count": null,
   "id": "e439e097",
   "metadata": {},
   "outputs": [],
   "source": [
    "for CT in adata_query.obs['Main_cell_type'].unique():\n",
    "    print('*'*16)\n",
    "    print(CT)\n",
    "    print('*'*16)\n",
    "    print('Transfer:')\n",
    "    Vis.DrawCT1(adata_query, CT = CT, c_name = 'Main_cell_type',\n",
    "                   x_name = 'x_transfer', y_name = 'y_transfer',\n",
    "                   root = 'Transfer2/FM_Valid2/', save = 'SC2HC1')"
   ]
  },
  {
   "cell_type": "code",
   "execution_count": null,
   "id": "55200044",
   "metadata": {},
   "outputs": [],
   "source": [
    "for CT in adata_ref.obs['celltype_1'].unique():\n",
    "    print('*'*16)\n",
    "    print(CT)\n",
    "    print('*'*16)\n",
    "    print('Transfer:')\n",
    "    Vis.DrawCT1(adata_ref, CT = CT, FM = True, c_name = 'SSV2',\n",
    "                   x_name = 'xcoord', y_name = 'ycoord',\n",
    "                   root = 'Transfer2/FM_Valid2/', save = 'HC1')"
   ]
  },
  {
   "cell_type": "code",
   "execution_count": 13,
   "id": "5c14645d",
   "metadata": {},
   "outputs": [
    {
     "name": "stdout",
     "output_type": "stream",
     "text": [
      "4.860832146803538 min(s)\n"
     ]
    }
   ],
   "source": [
    "sta = time()\n",
    "\n",
    "adata_impute = SI.NRD_impute(neighbors, dis, adata_ref, adata_query,\n",
    "                             ct_name='Main_cell_type', dis_min=0.1, exclude_CTs=None)\n",
    "\n",
    "end = time()\n",
    "print((end - sta) / 60, 'min(s)')"
   ]
  },
  {
   "cell_type": "code",
   "execution_count": null,
   "id": "4113c1cd",
   "metadata": {},
   "outputs": [],
   "source": [
    "cmap = sns.cubehelix_palette(n_colors = 32,start = 2, rot=1.5, as_cmap = True)\n",
    "\n",
    "GeneInfo = pd.read_csv('GeneInfo_DS_CTS.csv', index_col = 0)\n",
    "\n",
    "GLs = []\n",
    "\n",
    "for col in GeneInfo.columns[GeneInfo.columns.str.contains('norm')]:\n",
    "    \n",
    "    GL = GeneInfo.sort_values(col, ascending = False)[:15].index.tolist()\n",
    "    GLs.extend(GL)\n",
    "    \n",
    "GLs = list(set(GLs))\n",
    "\n",
    "for gene in GLs:\n",
    "    print('*'*32)\n",
    "    print(gene)\n",
    "    print('*'*32)\n",
    "    print('scRNAseq:')\n",
    "    Vis.DrawGenes2(adata_query, gene = gene, colorbar = False, lim = False, \n",
    "                   xlim = [650, 5750], ylim = [650, 5750], cmap = cmap,\n",
    "                   FM = True, CTL = None, c_name = 'simp_name', root = 'Transfer2/FM_Valid1/',\n",
    "                   s = 2, x_name = 'x_transfer', y_name = 'y_transfer', title = False, save = 'AMB')\n",
    "    print('ST:')\n",
    "    Vis.DrawGenes2(adata_ref, gene = gene, colorbar = False, lim = True,\n",
    "                   xlim = [650, 5750], ylim = [650, 5750], cmap = cmap,\n",
    "                   FM = True, CTL = None, c_name = 'SSV2', root = 'Transfer2/FM_Valid1/', \n",
    "                   s = 2, x_name = 'xcoord', y_name = 'ycoord', title = False, save = 'HC1')\n",
    "    print('Imputed ST:')\n",
    "    Vis.DrawGenes2(adata_impute, gene = gene, colorbar = False, lim = True,\n",
    "                   xlim = [650, 5750], ylim = [650, 5750], cmap = cmap,\n",
    "                   FM = True, CTL = None, c_name = 'SSV2', root = 'Transfer2/FM_Valid1/', \n",
    "                   s = 2, x_name = 'xcoord', y_name = 'ycoord', title = False, save = 'HC1_Impute')"
   ]
  },
  {
   "cell_type": "code",
   "execution_count": null,
   "id": "60b1d530",
   "metadata": {},
   "outputs": [],
   "source": []
  }
 ],
 "metadata": {
  "kernelspec": {
   "display_name": "Python 3 (ipykernel)",
   "language": "python",
   "name": "python3"
  },
  "language_info": {
   "codemirror_mode": {
    "name": "ipython",
    "version": 3
   },
   "file_extension": ".py",
   "mimetype": "text/x-python",
   "name": "python",
   "nbconvert_exporter": "python",
   "pygments_lexer": "ipython3",
   "version": "3.9.7"
  }
 },
 "nbformat": 4,
 "nbformat_minor": 5
}
