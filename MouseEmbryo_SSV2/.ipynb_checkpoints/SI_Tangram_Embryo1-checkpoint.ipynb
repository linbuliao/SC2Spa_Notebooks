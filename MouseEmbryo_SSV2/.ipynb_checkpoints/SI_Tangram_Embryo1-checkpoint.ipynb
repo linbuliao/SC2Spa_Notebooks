{
 "cells": [
  {
   "cell_type": "code",
   "execution_count": 89,
   "id": "9c2b17a0",
   "metadata": {},
   "outputs": [],
   "source": [
    "import tangram as tg\n",
    "import pandas as pd\n",
    "import scanpy as sc\n",
    "import anndata as ad\n",
    "import numpy as np\n",
    "import torch\n",
    "from scipy import stats\n",
    "from sklearn.metrics import r2_score\n",
    "\n",
    "from time import time"
   ]
  },
  {
   "cell_type": "code",
   "execution_count": 2,
   "id": "10089656",
   "metadata": {},
   "outputs": [],
   "source": [
    "pct_offset = 0\n",
    "\n",
    "def MinMaxNorm(Y):\n",
    "    return (Y-Y.min(axis = 0))/(Y.max(axis = 0)-Y.min(axis = 0))/(1+pct_offset)\n",
    "\n",
    "def ReMMNorm(Y, Y_pred):\n",
    "    return (Y_pred*(Y.max(axis=0)-Y.min(axis=0)*(1+pct_offset))+Y.min(axis = 0))\n",
    "\n",
    "def PolarTrans(Y):\n",
    "    \n",
    "    R = np.sqrt(np.square(Y[:,0]) + np.square(Y[:,1]))\n",
    "    Theta = np.arctan(Y[:,1]/Y[:,0])\n",
    "    RTheta = np.concatenate([R.reshape(-1,1), Theta.reshape(-1,1)], axis = 1)\n",
    "    \n",
    "    return RTheta\n",
    "\n",
    "def RePolarTrans(RTheta):\n",
    "    x = RTheta[:,0] * np.cos(RTheta[:,1])\n",
    "    y = RTheta[:,0] * np.sin(RTheta[:,1])\n",
    "    Y = np.concatenate([x.reshape(-1,1), y.reshape(-1,1)], axis = 1)\n",
    "    return Y"
   ]
  },
  {
   "cell_type": "code",
   "execution_count": 84,
   "id": "a1573aee",
   "metadata": {},
   "outputs": [
    {
     "name": "stderr",
     "output_type": "stream",
     "text": [
      "Variable names are not unique. To make them unique, call `.var_names_make_unique`.\n"
     ]
    }
   ],
   "source": [
    "adata = ad.read_h5ad('../Dataset/AdataEmbryo1.h5ad')\n",
    "adata.var_names_make_unique()\n",
    "\n",
    "Y = adata.obs[['xcoord', 'ycoord']].values\n",
    "YNorm = MinMaxNorm(Y)"
   ]
  },
  {
   "cell_type": "code",
   "execution_count": 53,
   "id": "d3536285",
   "metadata": {},
   "outputs": [],
   "source": [
    "train_indices = []\n",
    "test_indices = []\n",
    "for i in range(5):\n",
    "    train_index = pd.read_csv('CV_groups/index_train_' + str(i+1) + '.csv',\n",
    "                              header = None, index_col = 0).values.flatten()\n",
    "    test_index = pd.read_csv('CV_groups/index_test_' + str(i+1) + '.csv',\n",
    "                             header = None, index_col = 0).values.flatten()\n",
    "    \n",
    "    train_indices.append(train_index)\n",
    "    test_indices.append(test_index)"
   ]
  },
  {
   "cell_type": "code",
   "execution_count": 61,
   "id": "293c5171",
   "metadata": {},
   "outputs": [
    {
     "data": {
      "text/plain": [
       "array([ 4680, 27793, 26831, ...,  7017, 32234, 33364])"
      ]
     },
     "execution_count": 61,
     "metadata": {},
     "output_type": "execute_result"
    }
   ],
   "source": [
    "train_indices[0]"
   ]
  },
  {
   "cell_type": "code",
   "execution_count": 60,
   "id": "a5f20738",
   "metadata": {},
   "outputs": [
    {
     "data": {
      "text/plain": [
       "View of AnnData object with n_obs × n_vars = 28279 × 20527\n",
       "    obs: 'xcoord', 'ycoord', 'n_genes', 'n_genes_by_counts', 'total_counts', 'total_counts_mt', 'pct_counts_mt', 'total_counts_ERCC', 'pct_counts_ERCC', 'leiden'\n",
       "    var: 'n_cells', 'mt', 'ERCC', 'n_cells_by_counts', 'mean_counts', 'pct_dropout_by_counts', 'total_counts', 'highly_variable', 'means', 'dispersions', 'dispersions_norm'\n",
       "    uns: 'leiden', 'leiden_colors', 'neighbors', 'pca', 'umap', 'log1p', 'hvg'\n",
       "    obsm: 'X_pca', 'X_umap'"
      ]
     },
     "execution_count": 60,
     "metadata": {},
     "output_type": "execute_result"
    }
   ],
   "source": [
    "adata[train_indices[0]]"
   ]
  },
  {
   "cell_type": "markdown",
   "id": "844b0ddc",
   "metadata": {},
   "source": [
    "# Running code"
   ]
  },
  {
   "cell_type": "code",
   "execution_count": null,
   "id": "797ad0c0",
   "metadata": {},
   "outputs": [
    {
     "name": "stderr",
     "output_type": "stream",
     "text": [
      "Variable names are not unique. To make them unique, call `.var_names_make_unique`.\n"
     ]
    },
    {
     "name": "stdout",
     "output_type": "stream",
     "text": [
      "0\n"
     ]
    },
    {
     "name": "stderr",
     "output_type": "stream",
     "text": [
      "INFO:root:19435 training genes are saved in `uns``training_genes` of both single cell and spatial Anndatas.\n",
      "INFO:root:19435 overlapped genes are saved in `uns``overlap_genes` of both single cell and spatial Anndatas.\n",
      "INFO:root:uniform based density prior is calculated and saved in `obs``uniform_density` of the spatial Anndata.\n",
      "INFO:root:rna count based density prior is calculated and saved in `obs``rna_count_based_density` of the spatial Anndata.\n",
      "INFO:root:Allocate tensors for mapping.\n",
      "INFO:root:Begin training with 19435 genes and rna_count_based density_prior in cells mode...\n",
      "INFO:root:Printing scores every 100 epochs.\n"
     ]
    },
    {
     "name": "stdout",
     "output_type": "stream",
     "text": [
      "Score: 0.120, KL reg: 0.137\n",
      "Score: 0.375, KL reg: 0.001\n",
      "Score: 0.400, KL reg: 0.000\n",
      "Score: 0.409, KL reg: 0.000\n",
      "Score: 0.413, KL reg: 0.000\n",
      "Score: 0.417, KL reg: 0.000\n",
      "Score: 0.419, KL reg: 0.000\n",
      "Score: 0.421, KL reg: 0.000\n",
      "Score: 0.422, KL reg: 0.000\n",
      "Score: 0.423, KL reg: 0.000\n"
     ]
    }
   ],
   "source": [
    "ad_maps = []\n",
    "sta = time()\n",
    "\n",
    "adata = ad.read_h5ad('../Dataset/AdataMH1.h5ad')\n",
    "adata.var_names_make_unique()\n",
    "\n",
    "sc.pp.normalize_total(adata, target_sum = 1e4)\n",
    "sc.pp.log1p(adata)\n",
    "sc.pp.highly_variable_genes(adata, n_top_genes = 8000)\n",
    "\n",
    "for i in range(5):\n",
    "\n",
    "    print(i)\n",
    "    ad_sp = adata[train_indices[i]]\n",
    "    ad_sc = adata[test_indices[i]]\n",
    "    tg.pp_adatas(ad_sc, ad_sp, genes=None)\n",
    "\n",
    "    ad_map = tg.map_cells_to_space(ad_sc, ad_sp, device = 'cuda')\n",
    "    ad_maps.append(ad_map)\n",
    "    torch.cuda.empty_cache()\n",
    "\n",
    "end = time()\n",
    "print((end - sta)/60.0, 'mins consumed')"
   ]
  },
  {
   "cell_type": "code",
   "execution_count": null,
   "id": "37599681",
   "metadata": {},
   "outputs": [],
   "source": [
    "len(ad_sc.uns['training_genes'])"
   ]
  },
  {
   "cell_type": "code",
   "execution_count": null,
   "id": "fe2ed42d",
   "metadata": {},
   "outputs": [],
   "source": [
    "i = 0\n",
    "for i in range(5):\n",
    "    Y_pred = np.matmul(ad_maps[i].X, Y[train_indices[i]])\n",
    "    pd.DataFrame(Y_pred).to_csv('SI_Benchmarking/Tangram/pred_' + str(i) + '.csv', index = None)"
   ]
  },
  {
   "cell_type": "code",
   "execution_count": 64,
   "id": "73044d1f",
   "metadata": {},
   "outputs": [
    {
     "data": {
      "text/plain": [
       "array([[3107.59604494, 3229.44047571],\n",
       "       [3558.652212  , 3088.45137994],\n",
       "       [3199.65489801, 3185.65921776],\n",
       "       ...,\n",
       "       [2871.82632982, 3491.64458997],\n",
       "       [3146.28042943, 3242.12208494],\n",
       "       [3191.7016737 , 2892.28896944]])"
      ]
     },
     "execution_count": 64,
     "metadata": {},
     "output_type": "execute_result"
    }
   ],
   "source": [
    "Y_pred"
   ]
  },
  {
   "cell_type": "code",
   "execution_count": 36,
   "id": "d7ca1cce",
   "metadata": {},
   "outputs": [],
   "source": [
    "pd.DataFrame(Y_pred).to_csv('SI_Benchmarking/Tangram/pred_' + str(4) + '.csv', index = None)"
   ]
  },
  {
   "cell_type": "code",
   "execution_count": 27,
   "id": "32e27c54",
   "metadata": {},
   "outputs": [
    {
     "data": {
      "text/plain": [
       "19435"
      ]
     },
     "execution_count": 27,
     "metadata": {},
     "output_type": "execute_result"
    }
   ],
   "source": [
    "len(ad_sc.uns['training_genes'])"
   ]
  },
  {
   "cell_type": "code",
   "execution_count": 15,
   "id": "61f1e1da",
   "metadata": {},
   "outputs": [
    {
     "name": "stdout",
     "output_type": "stream",
     "text": [
      "Help on function pp_adatas in module tangram.mapping_utils:\n",
      "\n",
      "pp_adatas(adata_sc, adata_sp, genes=None)\n",
      "    Pre-process AnnDatas so that they can be mapped. Specifically:\n",
      "    - Remove genes that all entries are zero\n",
      "    - Find the intersection between adata_sc, adata_sp and given marker gene list, save the intersected markers in two adatas\n",
      "    - Calculate density priors and save it with adata_sp\n",
      "    \n",
      "    Args:\n",
      "        adata_sc (AnnData): single cell data\n",
      "        adata_sp (AnnData): spatial expression data\n",
      "        genes (List): Optional. List of genes to use. If `None`, all genes are used.\n",
      "    \n",
      "    Returns:\n",
      "        update adata_sc by creating `uns` `training_genes` `overlap_genes` fields \n",
      "        update adata_sp by creating `uns` `training_genes` `overlap_genes` fields and creating `obs` `rna_count_based_density` & `uniform_density` field\n",
      "\n"
     ]
    }
   ],
   "source": [
    "help(tg.pp_adatas)"
   ]
  },
  {
   "cell_type": "code",
   "execution_count": null,
   "id": "4d9d6bd9",
   "metadata": {},
   "outputs": [],
   "source": [
    "adata"
   ]
  },
  {
   "cell_type": "code",
   "execution_count": null,
   "id": "68df41d2",
   "metadata": {},
   "outputs": [],
   "source": []
  },
  {
   "cell_type": "code",
   "execution_count": null,
   "id": "a17a1ccb",
   "metadata": {},
   "outputs": [],
   "source": []
  },
  {
   "cell_type": "code",
   "execution_count": null,
   "id": "33e9b86a",
   "metadata": {},
   "outputs": [],
   "source": []
  },
  {
   "cell_type": "code",
   "execution_count": null,
   "id": "1bef988b",
   "metadata": {},
   "outputs": [],
   "source": []
  }
 ],
 "metadata": {
  "kernelspec": {
   "display_name": "Python 3 (ipykernel)",
   "language": "python",
   "name": "python3"
  },
  "language_info": {
   "codemirror_mode": {
    "name": "ipython",
    "version": 3
   },
   "file_extension": ".py",
   "mimetype": "text/x-python",
   "name": "python",
   "nbconvert_exporter": "python",
   "pygments_lexer": "ipython3",
   "version": "3.8.12"
  }
 },
 "nbformat": 4,
 "nbformat_minor": 5
}
