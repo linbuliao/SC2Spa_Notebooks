{
 "cells": [
  {
   "cell_type": "code",
   "execution_count": 1,
   "metadata": {},
   "outputs": [
    {
     "name": "stdout",
     "output_type": "stream",
     "text": [
      "/mnt/win1\n",
      "/mnt/win1/SC2Spa_Notebook/MouseEmbryo_SSV2\n"
     ]
    }
   ],
   "source": [
    "seed_num = 2022\n",
    "\n",
    "from numpy.random import seed\n",
    "seed(seed_num)\n",
    "from tensorflow.random import set_seed\n",
    "set_seed(seed_num)\n",
    "import tensorflow as tf\n",
    "tf.keras.utils.set_random_seed(seed_num)\n",
    "tf.config.experimental.enable_op_determinism()\n",
    "\n",
    "import numpy as np\n",
    "import pandas as pd\n",
    "import os\n",
    "\n",
    "import anndata as ad\n",
    "import scanpy as sc\n",
    "import seaborn as sns\n",
    "\n",
    "from keras.models import load_model\n",
    "\n",
    "import time\n",
    "\n",
    "from SC2Spa import SI, SVA, Vis, PP\n",
    "\n",
    "pd.options.display.max_columns = 39\n",
    "%matplotlib inline"
   ]
  },
  {
   "cell_type": "markdown",
   "metadata": {},
   "source": [
    "# Spatially Variance Analysis (SVA)"
   ]
  },
  {
   "cell_type": "code",
   "execution_count": 2,
   "metadata": {
    "scrolled": true
   },
   "outputs": [
    {
     "name": "stderr",
     "output_type": "stream",
     "text": [
      "2022-06-14 23:20:37.587909: I tensorflow/core/platform/cpu_feature_guard.cc:151] This TensorFlow binary is optimized with oneAPI Deep Neural Network Library (oneDNN) to use the following CPU instructions in performance-critical operations:  AVX2 AVX512F FMA\n",
      "To enable them in other operations, rebuild TensorFlow with the appropriate compiler flags.\n",
      "2022-06-14 23:20:39.022512: I tensorflow/core/common_runtime/gpu/gpu_device.cc:1525] Created device /job:localhost/replica:0/task:0/device:GPU:0 with 22093 MB memory:  -> device: 0, name: NVIDIA TITAN RTX, pci bus id: 0000:3b:00.0, compute capability: 7.5\n",
      "2022-06-14 23:20:44.253684: W tensorflow/core/framework/cpu_allocator_impl.cc:82] Allocation of 3348917280 exceeds 10% of free system memory.\n",
      "2022-06-14 23:20:56.615456: W tensorflow/core/framework/cpu_allocator_impl.cc:82] Allocation of 3348917280 exceeds 10% of free system memory.\n",
      "2022-06-14 23:21:00.956917: W tensorflow/core/framework/cpu_allocator_impl.cc:82] Allocation of 3348917280 exceeds 10% of free system memory.\n"
     ]
    },
    {
     "name": "stdout",
     "output_type": "stream",
     "text": [
      "<keras.layers.core.dense.Dense object at 0x7f183dbfdbb0> :\n",
      "(4, 2)\n",
      "<keras.layers.core.dense.Dense object at 0x7f183dc78fa0> :\n",
      "(16, 4)\n",
      "<keras.layers.core.dense.Dense object at 0x7f183dc78670> :\n",
      "(64, 16)\n",
      "<keras.layers.core.dense.Dense object at 0x7f183dc72b80> :\n",
      "(256, 64)\n",
      "<keras.layers.core.dense.Dense object at 0x7f19094b8fd0> :\n",
      "(1024, 256)\n",
      "<keras.layers.core.dense.Dense object at 0x7f19094b85e0> :\n",
      "(4096, 1024)\n",
      "<keras.layers.core.dense.Dense object at 0x7f1905e6dbb0> :\n",
      "(20220, 4096)\n"
     ]
    }
   ],
   "source": [
    "adata = ad.read_h5ad('../Dataset/AdataEmbryo1.h5ad')\n",
    "adata.var_names_make_unique()\n",
    "sc.pp.normalize_total(adata, target_sum=1e4)\n",
    "sc.pp.log1p(adata)\n",
    "\n",
    "'''\n",
    "model = SI.Self_Mapping(adata, sparse = True, model_path = None, x_name = 'xcoord',\n",
    "             y_name = 'ycoord', root = 'Model_SI/', name = 'SI_Overall', l1_reg = 1e-5, l2_reg = 0,\n",
    "             dropout = 0.05, epoch = 500, batch_size = 4096, nodes = [4096, 1024, 256, 64, 16, 4],\n",
    "             lrr_patience = 20, ES_patience = 50, min_lr = 1e-5, save = True, polar = True, seed = seed_num)\n",
    "'''\n",
    "model = SI.Self_Mapping(adata, sparse = True, model_path = 'Model_SI/SI_Overall.h5',\n",
    "                        x_name = 'xcoord', y_name = 'ycoord')\n",
    "\n",
    "\n",
    "SVA.PrioritizeLPG(adata, Model = model, percent = 0.5, scale_factor = 1e3,\n",
    "                  Norm = True, x_name = 'xcoord', y_name = 'ycoord')"
   ]
  },
  {
   "cell_type": "code",
   "execution_count": null,
   "metadata": {},
   "outputs": [],
   "source": [
    "cmap = sns.cubehelix_palette(n_colors = 32,start = 2, rot=1.5, as_cmap = True)\n",
    "\n",
    "Vis.DrawSVG(adata, adata.var, 'imp_sumup_norm', n_genes = 9, cmap = cmap,\n",
    "            FM = False, root = 'figures/SVG/', fontsize = 70, alpha = 0.8,\n",
    "            Bottom = False, output = 'SlideSeq2FCNNTop_Em1')"
   ]
  },
  {
   "cell_type": "markdown",
   "metadata": {},
   "source": [
    "# Cell-type Specific SVA"
   ]
  },
  {
   "cell_type": "code",
   "execution_count": 3,
   "metadata": {},
   "outputs": [
    {
     "name": "stdout",
     "output_type": "stream",
     "text": [
      "Sc     4655\n",
      "My     1368\n",
      "Ept     693\n",
      "Name: MCT, dtype: int64\n"
     ]
    }
   ],
   "source": [
    "Anno = pd.read_csv('slideSeq_Puck190926_03_RCTD.csv', index_col = 0)\n",
    "\n",
    "Anno['MCT'] = 't'\n",
    "\n",
    "index1 = Anno.index[(Anno['celltype_1'] == Anno['celltype_2'])]\n",
    "Anno['MCT'][index1] = Anno['celltype_1'][index1]\n",
    "index2 = Anno.index[(Anno['celltype_1'] != Anno['celltype_2'])]\n",
    "Anno['MCT'][index2] = Anno['celltype_1'][index2] + '_' + Anno['celltype_2'][index2].apply(lambda x: '_'.join(sorted(set(x.split('_')))))\n",
    "\n",
    "adata.obs = adata.obs.merge(Anno, left_index = True, right_index = True, how = 'left')\n",
    "\n",
    "adata_selected = adata[adata.obs['spot_class'].apply(lambda x: x in ['doublet_certain', 'singlet'])]\n",
    "\n",
    "CTs = adata_selected.obs['MCT'].value_counts()\n",
    "is_doub = CTs.index.str.contains('_')\n",
    "\n",
    "SCTs = CTs[~is_doub]\n",
    "SCTs_selected = SCTs[SCTs > 500].index.tolist()\n",
    "print(SCTs[SCTs > 500])"
   ]
  },
  {
   "cell_type": "code",
   "execution_count": 4,
   "metadata": {},
   "outputs": [
    {
     "name": "stdout",
     "output_type": "stream",
     "text": [
      "Sc\n",
      "<keras.layers.core.dense.Dense object at 0x7f1905b67d00> :\n",
      "(4, 2)\n",
      "<keras.layers.core.dense.Dense object at 0x7f1905b6deb0> :\n",
      "(16, 4)\n",
      "<keras.layers.core.dense.Dense object at 0x7f1905b6d7c0> :\n",
      "(64, 16)\n",
      "<keras.layers.core.dense.Dense object at 0x7f1905b74cd0> :\n",
      "(256, 64)\n",
      "<keras.layers.core.dense.Dense object at 0x7f190590ae20> :\n",
      "(1024, 256)\n",
      "<keras.layers.core.dense.Dense object at 0x7f183053d0d0> :\n",
      "(4096, 1024)\n",
      "<keras.layers.core.dense.Dense object at 0x7f183053ec10> :\n",
      "(20220, 4096)\n",
      "My\n",
      "<keras.layers.core.dense.Dense object at 0x7f1905aa5970> :\n",
      "(4, 2)\n",
      "<keras.layers.core.dense.Dense object at 0x7f1905aa1eb0> :\n",
      "(16, 4)\n",
      "<keras.layers.core.dense.Dense object at 0x7f1905a9cfd0> :\n",
      "(64, 16)\n",
      "<keras.layers.core.dense.Dense object at 0x7f1905a9c940> :\n",
      "(256, 64)\n",
      "<keras.layers.core.dense.Dense object at 0x7f1905b5e8e0> :\n",
      "(1024, 256)\n",
      "<keras.layers.core.dense.Dense object at 0x7f1905b36550> :\n",
      "(4096, 1024)\n",
      "<keras.layers.core.dense.Dense object at 0x7f1905b2ec40> :\n",
      "(20220, 4096)\n",
      "Ept\n",
      "<keras.layers.core.dense.Dense object at 0x7f1905a4b8b0> :\n",
      "(4, 2)\n",
      "<keras.layers.core.dense.Dense object at 0x7f1913f37d90> :\n",
      "(16, 4)\n",
      "<keras.layers.core.dense.Dense object at 0x7f1905a60250> :\n",
      "(64, 16)\n",
      "<keras.layers.core.dense.Dense object at 0x7f1905a79dc0> :\n",
      "(256, 64)\n",
      "<keras.layers.core.dense.Dense object at 0x7f1905a7a610> :\n",
      "(1024, 256)\n",
      "<keras.layers.core.dense.Dense object at 0x7f1905a7f3d0> :\n",
      "(4096, 1024)\n",
      "<keras.layers.core.dense.Dense object at 0x7f1905a7f160> :\n",
      "(20220, 4096)\n"
     ]
    }
   ],
   "source": [
    "'''\n",
    "sta = time.time()\n",
    "\n",
    "for SCT in SCTs_selected:\n",
    "\n",
    "    print(SCT, ':')\n",
    "    \n",
    "    adata_CTS = adata[adata.obs['MCT'] == SCT]\n",
    "   \n",
    "    bs = int(adata_CTS.shape[0]/10)\n",
    "\n",
    "    model = SI.Train_transfer(adata_CTS, root = 'Model_SI/', model_root= 'Model_SI/SI_Overall.h5',\n",
    "                              CT = SCT, epoch = 500, batch_size = bs, NLFT = 20, subLayer = False)\n",
    "    \n",
    "end = time.time()\n",
    "print((end - sta) / 60.0, 'min')\n",
    "'''\n",
    "\n",
    "for SCT in SCTs_selected:\n",
    "    \n",
    "    print(SCT)\n",
    "    model = load_model('Model_SI/SI_' + SCT +'.h5', compile=False)\n",
    "    SVA.PrioritizeLPG(adata, Model = model, CT = SCT, percent = 0.5, scale_factor = 1e3,\n",
    "                      Norm = True, x_name = 'xcoord', y_name = 'ycoord')"
   ]
  },
  {
   "cell_type": "code",
   "execution_count": null,
   "metadata": {},
   "outputs": [],
   "source": [
    "for SCT in SCTs_selected:\n",
    "    \n",
    "    print(SCT)\n",
    "    cmap = sns.cubehelix_palette(n_colors = 32,start = 2, rot=1.5, as_cmap = True)\n",
    "\n",
    "    Vis.DrawSVG(adata, adata.var, 'imp_sumup_norm', n_genes = 9, cmap = cmap, s = 20,\n",
    "                alpha = 0.7, FM = False, root = 'figures/SVG_CTS_SC2Spa/', fontsize = 70,\n",
    "                CT = SCT, Bottom = False, output = 'SlideSeq2FCNNTop_Em1')"
   ]
  },
  {
   "cell_type": "code",
   "execution_count": 5,
   "metadata": {},
   "outputs": [],
   "source": [
    "adata.var.to_csv('GeneInfo/LPG_Em1.csv')"
   ]
  },
  {
   "cell_type": "markdown",
   "metadata": {},
   "source": [
    "## Venn diagram"
   ]
  },
  {
   "cell_type": "code",
   "execution_count": 19,
   "metadata": {},
   "outputs": [
    {
     "data": {
      "image/png": "[encoded data removed]",
      "text/plain": [
       "<Figure size 432x288 with 1 Axes>"
      ]
     },
     "metadata": {},
     "output_type": "display_data"
    }
   ],
   "source": [
    "N = 200\n",
    "\n",
    "GeneInfo = pd.read_csv('GeneInfo_V1.csv', index_col = 0)\n",
    "Genes_MI = GeneInfo.sort_values('MoransI', ascending = False).index.tolist()[:N]\n",
    "Genes_SILE = GeneInfo.sort_values('imp_sumup_norm', ascending = False).index.tolist()[:N]\n",
    "\n",
    "n_intersect = len(set(Genes_MI).intersection(set(Genes_SILE)))\n",
    "\n",
    "venn2(subsets = (N-n_intersect, N-n_intersect, n_intersect), set_labels = ('DeepSIST', 'Moran\\'s I'))\n",
    "plt.title('Overlap of SVGs\\nEmbryo Puck190926_03')\n",
    "plt.savefig(save_root + 'venn_' + str(N) + '.png', bbox_inches='tight')"
   ]
  },
  {
   "cell_type": "code",
   "execution_count": 41,
   "metadata": {},
   "outputs": [],
   "source": [
    "cmap = sns.cubehelix_palette(n_colors = 32,start = 2, rot=1.5, as_cmap = True)\n",
    "\n",
    "def MIBar(Score, x_label, title, output, cutoff = 0.05, N = 45):\n",
    "    \n",
    "    fig, ax = plt.subplots(figsize = (30, 15))\n",
    "    \n",
    "    ax.barh(list(range(N, 0, -1)),\n",
    "            Score.values[:N],\n",
    "            tick_label = Score.index.tolist()[:N]\n",
    "           )\n",
    "    \n",
    "    plt.xlabel(x_label, fontsize = 20)\n",
    "    #plt.title(title, fontsize = 20)\n",
    "    \n",
    "    H_index = list(np.array(range(N))[(Score < cutoff)[:N]])\n",
    "    \n",
    "    plt.plot([cutoff, cutoff], [-1, N + 1], color = 'red', linestyle='dotted')\n",
    "    \n",
    "    for i in H_index:\n",
    "        ax.get_yticklabels()[i].set_color(\"red\")\n",
    "    \n",
    "    plt.savefig(save_root + output + '.png', bbox_inches = 'tight')\n",
    "    \n",
    "    return Score.index[Score < cutoff].tolist(), Score.index[Score >= cutoff].tolist()\n",
    "\n",
    "def DrawGenes5(adata, Genes, GeneInfo, title = '', output = ''):\n",
    "    \n",
    "    fig, axes = plt.subplots(4, 4, figsize = (40, 32))\n",
    "    #fig.tight_layout(rect=[0, 0.03, 1, 0.95])\n",
    "    \n",
    "    for i in range(16):\n",
    "        \n",
    "        im = axes[i // 4][i % 4].scatter(adata.obs['xcoord'],\\\n",
    "                                         adata.obs['ycoord'],\\\n",
    "                                         s = 2,\\\n",
    "                                         c = adata[:, Genes[i]].X.toarray().flatten(),\\\n",
    "                                         cmap = cmap)\n",
    "\n",
    "        SS = GeneInfo.loc[Genes[i], 'imp_sumup_norm']\n",
    "        MI = GeneInfo.loc[Genes[i], 'MoransI']\n",
    "        axes[i//4][i%4].set_title(Genes[i] + '. ' + \"DS:%.2f.MI:%.2f\"%(SS, MI), fontsize=40)\n",
    "        axes[i//4][i%4].get_xaxis().set_visible(False)\n",
    "        axes[i//4][i%4].get_yaxis().set_visible(False)\n",
    "        \n",
    "        fig.colorbar(im, ax= axes[i//4][i%4])\n",
    "    \n",
    "    plt.tight_layout()\n",
    "    #plt.suptitle(title, y = 0.92, fontsize = 30)\n",
    "    plt.savefig(save_root + output + '.png', bbox_inches = 'tight')"
   ]
  },
  {
   "cell_type": "code",
   "execution_count": null,
   "metadata": {},
   "outputs": [],
   "source": [
    "GeneInfo = GeneInfo.sort_values('imp_sumup_norm', ascending = False)\n",
    "SSUGs, SSJGs = MIBar(GeneInfo['MoransI'], x_label = 'Moran\\'s I',\n",
    "                      title='Top 60 DeepSIST Score Gene', output='TopDSGs',\n",
    "                      cutoff = 0.1, N = 60)\n",
    "\n",
    "DrawGenes5(adata = adata, Genes = SSUGs, GeneInfo = GeneInfo,\n",
    "           title = 'Top DeepSIST Score Genes (MI<0.1)', output = 'DSUGs')\n",
    "DrawGenes5(adata = adata, Genes = SSJGs, GeneInfo = GeneInfo,\n",
    "           title = 'Top DeepSIST Score Genes (MI>=0.1)', output = 'DSJGs')"
   ]
  },
  {
   "cell_type": "code",
   "execution_count": null,
   "metadata": {},
   "outputs": [],
   "source": [
    "GeneInfo = GeneInfo.sort_values('MoransI', ascending = False)\n",
    "MIUGs, MIJGs = MIBar(GeneInfo['imp_sumup_norm'], x_label = 'Normalized DeepSIST Score',\n",
    "                      title='Top 60 Moran\\'I SVGs', output='TopMSVGs',\n",
    "                      cutoff = 0.1, N = 60)\n",
    "\n",
    "DrawGenes5(adata = adata, Genes = MIUGs, GeneInfo = GeneInfo,\n",
    "           title = 'Top Moran\\'I SVGs (DS<0.1)', output = 'MIUGs')\n",
    "DrawGenes5(adata = adata, Genes = MIJGs, GeneInfo = GeneInfo,\n",
    "           title = 'Top Moran\\'I SVGs (DS>=0.1)', output = 'MIJGs')"
   ]
  },
  {
   "cell_type": "code",
   "execution_count": null,
   "metadata": {},
   "outputs": [],
   "source": []
  }
 ],
 "metadata": {
  "kernelspec": {
   "display_name": "Python 3 (ipykernel)",
   "language": "python",
   "name": "python3"
  },
  "language_info": {
   "codemirror_mode": {
    "name": "ipython",
    "version": 3
   },
   "file_extension": ".py",
   "mimetype": "text/x-python",
   "name": "python",
   "nbconvert_exporter": "python",
   "pygments_lexer": "ipython3",
   "version": "3.9.7"
  }
 },
 "nbformat": 4,
 "nbformat_minor": 4
}
