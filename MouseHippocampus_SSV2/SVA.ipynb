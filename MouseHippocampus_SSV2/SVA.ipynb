{
 "cells": [
  {
   "cell_type": "code",
   "execution_count": 1,
   "metadata": {},
   "outputs": [
    {
     "name": "stdout",
     "output_type": "stream",
     "text": [
      "/mnt/win1\n",
      "/mnt/win1/SC2Spa_Notebook/MouseHippocampus_SSV2\n"
     ]
    }
   ],
   "source": [
    "seed_num = 2022\n",
    "\n",
    "from numpy.random import seed\n",
    "seed(seed_num)\n",
    "from tensorflow.random import set_seed\n",
    "set_seed(seed_num)\n",
    "import tensorflow as tf\n",
    "tf.keras.utils.set_random_seed(seed_num)\n",
    "tf.config.experimental.enable_op_determinism()\n",
    "\n",
    "import numpy as np\n",
    "import pandas as pd\n",
    "import os\n",
    "\n",
    "import anndata as ad\n",
    "import scanpy as sc\n",
    "import seaborn as sns\n",
    "\n",
    "from keras.models import load_model\n",
    "\n",
    "import time\n",
    "\n",
    "from SC2Spa import SI, SVA, Vis, PP\n",
    "\n",
    "pd.options.display.max_columns = 39\n",
    "%matplotlib inline"
   ]
  },
  {
   "cell_type": "markdown",
   "metadata": {},
   "source": [
    "# Preprocess"
   ]
  },
  {
   "cell_type": "code",
   "execution_count": 2,
   "metadata": {},
   "outputs": [
    {
     "name": "stderr",
     "output_type": "stream",
     "text": [
      "Variable names are not unique. To make them unique, call `.var_names_make_unique`.\n"
     ]
    }
   ],
   "source": [
    "adata = ad.read_h5ad('../Dataset/AdataMH1.h5ad')\n",
    "adata.var_names_make_unique()\n",
    "sc.pp.normalize_total(adata, target_sum=1e4)\n",
    "sc.pp.log1p(adata)"
   ]
  },
  {
   "cell_type": "markdown",
   "metadata": {},
   "source": [
    "# Spatial Variance Analysis (SVA)"
   ]
  },
  {
   "cell_type": "code",
   "execution_count": 3,
   "metadata": {},
   "outputs": [
    {
     "name": "stderr",
     "output_type": "stream",
     "text": [
      "2022-06-14 23:06:01.668448: I tensorflow/core/platform/cpu_feature_guard.cc:151] This TensorFlow binary is optimized with oneAPI Deep Neural Network Library (oneDNN) to use the following CPU instructions in performance-critical operations:  AVX2 AVX512F FMA\n",
      "To enable them in other operations, rebuild TensorFlow with the appropriate compiler flags.\n",
      "2022-06-14 23:06:02.750872: I tensorflow/core/common_runtime/gpu/gpu_device.cc:1525] Created device /job:localhost/replica:0/task:0/device:GPU:0 with 22071 MB memory:  -> device: 0, name: NVIDIA TITAN RTX, pci bus id: 0000:3b:00.0, compute capability: 7.5\n",
      "2022-06-14 23:06:05.646750: W tensorflow/core/framework/cpu_allocator_impl.cc:82] Allocation of 2902435692 exceeds 10% of free system memory.\n",
      "2022-06-14 23:06:12.679911: W tensorflow/core/framework/cpu_allocator_impl.cc:82] Allocation of 2902435692 exceeds 10% of free system memory.\n",
      "2022-06-14 23:06:15.770790: W tensorflow/core/framework/cpu_allocator_impl.cc:82] Allocation of 2902435692 exceeds 10% of free system memory.\n"
     ]
    },
    {
     "name": "stdout",
     "output_type": "stream",
     "text": [
      "<keras.layers.core.dense.Dense object at 0x7f816f6c4af0> :\n",
      "(4, 2)\n",
      "<keras.layers.core.dense.Dense object at 0x7f816f6befa0> :\n",
      "(16, 4)\n",
      "<keras.layers.core.dense.Dense object at 0x7f816f6be5b0> :\n",
      "(64, 16)\n",
      "<keras.layers.core.dense.Dense object at 0x7f816f6b7ac0> :\n",
      "(256, 64)\n",
      "<keras.layers.core.dense.Dense object at 0x7f816f70ffa0> :\n",
      "(1024, 256)\n",
      "<keras.layers.core.dense.Dense object at 0x7f816f70f520> :\n",
      "(4096, 1024)\n",
      "<keras.layers.core.dense.Dense object at 0x7f821fbd8520> :\n",
      "(20527, 4096)\n"
     ]
    }
   ],
   "source": [
    "'''\n",
    "model = SI.Self_Mapping(adata, sparse = True, model_path = None, x_name = 'xcoord',\n",
    "             y_name = 'ycoord', root = 'Model_SI/', name = 'SI_Overall', l1_reg = 1e-5, l2_reg = 0,\n",
    "             dropout = 0.05, epoch = 500, batch_size = 4096, nodes = [4096, 1024, 256, 64, 16, 4],\n",
    "             lrr_patience = 20, ES_patience = 50, min_lr = 1e-5, save = True, polar = True, seed = seed_num)\n",
    "'''\n",
    "model = SI.Self_Mapping(adata, sparse = True, model_path = 'Model_SI/SI_Overall.h5',\n",
    "                        x_name = 'xcoord', y_name = 'ycoord')\n",
    "\n",
    "SVA.PrioritizeLPG(adata, Model = model, percent = 0.5, scale_factor = 1e3,\n",
    "                  Norm = True, x_name = 'xcoord', y_name = 'ycoord')"
   ]
  },
  {
   "cell_type": "code",
   "execution_count": null,
   "metadata": {},
   "outputs": [],
   "source": [
    "cmap = sns.cubehelix_palette(n_colors = 32,start = 2, rot=1.5, as_cmap = True)\n",
    "\n",
    "Vis.DrawSVG(adata, adata.var, 'imp_sumup_norm', n_genes = 9, cmap = cmap, alpha = 0.8,\n",
    "              FM = False, root = 'figures/SVG/', fontsize = 70,\n",
    "              Bottom = False, output = 'SlideSeq2FCNNTop_HC1')"
   ]
  },
  {
   "cell_type": "markdown",
   "metadata": {},
   "source": [
    "# Cell Type Specific SVA"
   ]
  },
  {
   "cell_type": "markdown",
   "metadata": {},
   "source": [
    "## Transfer Learning"
   ]
  },
  {
   "cell_type": "code",
   "execution_count": 4,
   "metadata": {},
   "outputs": [
    {
     "name": "stdout",
     "output_type": "stream",
     "text": [
      "O        2847\n",
      "A        1700\n",
      "Ec       1252\n",
      "DPc      1055\n",
      "CA1Pc     890\n",
      "CA3Pc     795\n",
      "I         786\n",
      "Name: MCT, dtype: int64\n"
     ]
    }
   ],
   "source": [
    "Anno = pd.read_csv('ssHippo_RCTD.csv', index_col = 0)\n",
    "\n",
    "Anno['MCT'] = 't'\n",
    "\n",
    "index1 = Anno.index[(Anno['celltype_1'] == Anno['celltype_2'])]\n",
    "Anno['MCT'][index1] = Anno['celltype_1'][index1]\n",
    "index2 = Anno.index[(Anno['celltype_1'] != Anno['celltype_2'])]\n",
    "Anno['MCT'][index2] = (Anno['celltype_1'][index2] + '_' + Anno['celltype_2'][index2]).apply(lambda x: '_'.join(sorted(set(x.split('_')))))\n",
    "\n",
    "adata.obs = adata.obs.merge(Anno, left_index = True, right_index = True, how = 'left')\n",
    "\n",
    "adata_selected = adata[adata.obs['spot_class'].apply(lambda x: x in ['doublet_certain', 'singlet'])]\n",
    "\n",
    "CTs = adata_selected.obs['MCT'].value_counts()\n",
    "is_doub = CTs.index.str.contains('_')\n",
    "\n",
    "SCTs = CTs[~is_doub]\n",
    "SCTs_selected = SCTs[SCTs > 500].index.tolist()\n",
    "print(SCTs[SCTs > 500])"
   ]
  },
  {
   "cell_type": "code",
   "execution_count": 5,
   "metadata": {
    "scrolled": true
   },
   "outputs": [
    {
     "name": "stdout",
     "output_type": "stream",
     "text": [
      "O\n",
      "<keras.layers.core.dense.Dense object at 0x7f821cad3e20> :\n",
      "(4, 2)\n",
      "<keras.layers.core.dense.Dense object at 0x7f821cb17fd0> :\n",
      "(16, 4)\n",
      "<keras.layers.core.dense.Dense object at 0x7f821cb178e0> :\n",
      "(64, 16)\n",
      "<keras.layers.core.dense.Dense object at 0x7f821cb11f10> :\n",
      "(256, 64)\n",
      "<keras.layers.core.dense.Dense object at 0x7f821cafef10> :\n",
      "(1024, 256)\n",
      "<keras.layers.core.dense.Dense object at 0x7f82b026e6d0> :\n",
      "(4096, 1024)\n",
      "<keras.layers.core.dense.Dense object at 0x7f81607e3d90> :\n",
      "(20527, 4096)\n",
      "A\n",
      "<keras.layers.core.dense.Dense object at 0x7f821ca56a90> :\n",
      "(4, 2)\n",
      "<keras.layers.core.dense.Dense object at 0x7f821ca52fd0> :\n",
      "(16, 4)\n",
      "<keras.layers.core.dense.Dense object at 0x7f821ca52550> :\n",
      "(64, 16)\n",
      "<keras.layers.core.dense.Dense object at 0x7f821ca4da60> :\n",
      "(256, 64)\n",
      "<keras.layers.core.dense.Dense object at 0x7f821caa7310> :\n",
      "(1024, 256)\n",
      "<keras.layers.core.dense.Dense object at 0x7f821cab3280> :\n",
      "(4096, 1024)\n",
      "<keras.layers.core.dense.Dense object at 0x7f821caa7a00> :\n",
      "(20527, 4096)\n",
      "Ec\n",
      "<keras.layers.core.dense.Dense object at 0x7f821c9fbc70> :\n",
      "(4, 2)\n",
      "<keras.layers.core.dense.Dense object at 0x7f821ca0f820> :\n",
      "(16, 4)\n",
      "<keras.layers.core.dense.Dense object at 0x7f821ca11340> :\n",
      "(64, 16)\n",
      "<keras.layers.core.dense.Dense object at 0x7f821c9b1760> :\n",
      "(256, 64)\n",
      "<keras.layers.core.dense.Dense object at 0x7f821c99b190> :\n",
      "(1024, 256)\n",
      "<keras.layers.core.dense.Dense object at 0x7f821c9b1160> :\n",
      "(4096, 1024)\n",
      "<keras.layers.core.dense.Dense object at 0x7f821c9b1670> :\n",
      "(20527, 4096)\n",
      "DPc\n",
      "<keras.layers.core.dense.Dense object at 0x7f82b32d0df0> :\n",
      "(4, 2)\n",
      "<keras.layers.core.dense.Dense object at 0x7f821c982250> :\n",
      "(16, 4)\n",
      "<keras.layers.core.dense.Dense object at 0x7f821c946a30> :\n",
      "(64, 16)\n",
      "<keras.layers.core.dense.Dense object at 0x7f81fac03ee0> :\n",
      "(256, 64)\n",
      "<keras.layers.core.dense.Dense object at 0x7f81fac037f0> :\n",
      "(1024, 256)\n",
      "<keras.layers.core.dense.Dense object at 0x7f81fabfdd00> :\n",
      "(4096, 1024)\n",
      "<keras.layers.core.dense.Dense object at 0x7f81fabfd370> :\n",
      "(20527, 4096)\n",
      "CA1Pc\n",
      "<keras.layers.core.dense.Dense object at 0x7f821c8bf520> :\n",
      "(4, 2)\n",
      "<keras.layers.core.dense.Dense object at 0x7f821c8d49a0> :\n",
      "(16, 4)\n",
      "<keras.layers.core.dense.Dense object at 0x7f81fb22fcd0> :\n",
      "(64, 16)\n",
      "<keras.layers.core.dense.Dense object at 0x7f81fb226e20> :\n",
      "(256, 64)\n",
      "<keras.layers.core.dense.Dense object at 0x7f81fb226730> :\n",
      "(1024, 256)\n",
      "<keras.layers.core.dense.Dense object at 0x7f81fb220c40> :\n",
      "(4096, 1024)\n",
      "<keras.layers.core.dense.Dense object at 0x7f81fb292f70> :\n",
      "(20527, 4096)\n",
      "CA3Pc\n",
      "<keras.layers.core.dense.Dense object at 0x7f81fb418dc0> :\n",
      "(4, 2)\n",
      "<keras.layers.core.dense.Dense object at 0x7f81fb418730> :\n",
      "(16, 4)\n",
      "<keras.layers.core.dense.Dense object at 0x7f81fb414c40> :\n",
      "(64, 16)\n",
      "<keras.layers.core.dense.Dense object at 0x7f81fb40bfd0> :\n",
      "(256, 64)\n",
      "<keras.layers.core.dense.Dense object at 0x7f81fb40b6a0> :\n",
      "(1024, 256)\n",
      "<keras.layers.core.dense.Dense object at 0x7f81fb406bb0> :\n",
      "(4096, 1024)\n",
      "<keras.layers.core.dense.Dense object at 0x7f81fb3f6f40> :\n",
      "(20527, 4096)\n",
      "I\n",
      "<keras.layers.core.dense.Dense object at 0x7f821c818820> :\n",
      "(4, 2)\n",
      "<keras.layers.core.dense.Dense object at 0x7f8204954d90> :\n",
      "(16, 4)\n",
      "<keras.layers.core.dense.Dense object at 0x7f820494dee0> :\n",
      "(64, 16)\n",
      "<keras.layers.core.dense.Dense object at 0x7f820494d7f0> :\n",
      "(256, 64)\n",
      "<keras.layers.core.dense.Dense object at 0x7f8204946d00> :\n",
      "(1024, 256)\n",
      "<keras.layers.core.dense.Dense object at 0x7f820493ce50> :\n",
      "(4096, 1024)\n",
      "<keras.layers.core.dense.Dense object at 0x7f820493c5e0> :\n",
      "(20527, 4096)\n"
     ]
    }
   ],
   "source": [
    "'''\n",
    "sta = time.time()\n",
    "\n",
    "for SCT in SCTs_selected:\n",
    "\n",
    "    print(SCT, ':')\n",
    "    \n",
    "    adata_CTS = adata[adata.obs['MCT'] == SCT]\n",
    "   \n",
    "    bs = int(adata_CTS.shape[0]/10)\n",
    "\n",
    "    model = SI.Train_transfer(adata_CTS, root = 'Model_SI/', model_root= 'Model_SI/SI_Overall.h5',\n",
    "                              CT = SCT, epoch = 500, batch_size = bs, NLFT = 20, subLayer = False)\n",
    "    \n",
    "end = time.time()\n",
    "print((end - sta) / 60.0, 'min')\n",
    "'''\n",
    "\n",
    "for SCT in SCTs_selected:\n",
    "    \n",
    "    print(SCT)\n",
    "    model = load_model('Model_SI/SI_' + SCT +'.h5', compile=False)\n",
    "    SVA.PrioritizeLPG(adata, Model = model, CT = SCT, percent = 0.5, scale_factor = 1e3,\n",
    "                      Norm = True, x_name = 'xcoord', y_name = 'ycoord')"
   ]
  },
  {
   "cell_type": "code",
   "execution_count": null,
   "metadata": {},
   "outputs": [],
   "source": [
    "for SCT in SCTs_selected:\n",
    "    \n",
    "    print(SCT)\n",
    "    cmap = sns.cubehelix_palette(n_colors = 32,start = 2, rot=1.5, as_cmap = True)\n",
    "\n",
    "    Vis.DrawSVG(adata, adata.var, 'imp_sumup_norm', n_genes = 9, cmap = cmap, s = 20,\n",
    "                alpha = 0.7, FM = False, root = 'figures/SVG_CTS_SC2Spa/', fontsize = 70,\n",
    "                CT = SCT, Bottom = False, output = 'SlideSeq2FCNNTop_HC1')"
   ]
  },
  {
   "cell_type": "code",
   "execution_count": 6,
   "metadata": {},
   "outputs": [],
   "source": [
    "adata.var.to_csv('GeneInfo/LPG_HC1.csv')"
   ]
  },
  {
   "cell_type": "markdown",
   "metadata": {},
   "source": [
    "## Venn diagram"
   ]
  },
  {
   "cell_type": "code",
   "execution_count": 11,
   "metadata": {},
   "outputs": [
    {
     "data": {
      "image/png": "[encoded data removed]",
      "text/plain": [
       "<Figure size 432x288 with 1 Axes>"
      ]
     },
     "metadata": {},
     "output_type": "display_data"
    }
   ],
   "source": [
    "#N = 200\n",
    "\n",
    "GeneInfo = pd.read_csv('GeneInfo_V1.csv', index_col = 0)\n",
    "Genes_MI = GeneInfo.sort_values('MoransI', ascending = False).index.tolist()[:N]\n",
    "Genes_SILE = GeneInfo.sort_values('imp_sumup_norm', ascending = False).index.tolist()[:N]\n",
    "\n",
    "'''\n",
    "n_intersect = len(set(Genes_MI).intersection(set(Genes_SILE)))\n",
    "\n",
    "venn2(subsets = (N-n_intersect, N-n_intersect, n_intersect), set_labels = ('DeepSIST', 'Moran\\'s I'))\n",
    "plt.title('Overlap of SVGs\\nHippocampus Puck_200115_08')\n",
    "plt.savefig(save_root + 'venn_' + str(N) + '.png', bbox_inches='tight')\n",
    "'''"
   ]
  },
  {
   "cell_type": "code",
   "execution_count": 22,
   "metadata": {},
   "outputs": [],
   "source": [
    "cmap = sns.cubehelix_palette(n_colors = 32,start = 2, rot=1.5, as_cmap = True)\n",
    "\n",
    "def MIBar(Score, x_label, title, output, cutoff = 0.05, N = 45):\n",
    "    \n",
    "    fig, ax = plt.subplots(figsize = (30, 15))\n",
    "    \n",
    "    ax.barh(list(range(N, 0, -1)),\n",
    "            Score.values[:N],\n",
    "            tick_label = Score.index.tolist()[:N]\n",
    "           )\n",
    "    \n",
    "    plt.xlabel(x_label, fontsize = 20)\n",
    "    #plt.title(title, fontsize = 20)\n",
    "    \n",
    "    H_index = list(np.array(range(N))[(Score < cutoff)[:N]])\n",
    "    \n",
    "    plt.plot([cutoff, cutoff], [-1, N + 1], color = 'red', linestyle='dotted')\n",
    "    \n",
    "    for i in H_index:\n",
    "        ax.get_yticklabels()[i].set_color(\"red\")\n",
    "    \n",
    "    plt.savefig(save_root + output + '.png', bbox_inches = 'tight')\n",
    "    \n",
    "    return Score.index[Score < cutoff].tolist(), Score.index[Score >= cutoff].tolist()\n",
    "\n",
    "def DrawGenes5(adata, Genes, GeneInfo, title = '', output = ''):\n",
    "    \n",
    "    fig, axes = plt.subplots(4, 4, figsize = (40, 32))\n",
    "\n",
    "    for i in range(16):\n",
    "        \n",
    "        im = axes[i // 4][i % 4].scatter(adata.obs['xcoord'],\\\n",
    "                                         adata.obs['ycoord'],\\\n",
    "                                         s = 2,\\\n",
    "                                         c = adata[:, Genes[i]].X.toarray().flatten(),\\\n",
    "                                         cmap = cmap)\n",
    "\n",
    "        SS = GeneInfo.loc[Genes[i], 'imp_sumup_norm']\n",
    "        MI = GeneInfo.loc[Genes[i], 'MoransI']\n",
    "        axes[i//4][i%4].set_title(Genes[i] + '. ' + \"DS:%.2f.MI:%.2f\"%(SS, MI), fontsize=40)\n",
    "        axes[i//4][i%4].get_xaxis().set_visible(False)\n",
    "        axes[i//4][i%4].get_yaxis().set_visible(False)\n",
    "        \n",
    "        #axes[i//4][i%4].set_xlim([650, 5750])\n",
    "        #axes[i//4][i%4].set_ylim([650, 5750])\n",
    "        fig.colorbar(im, ax= axes[i//4][i%4])\n",
    "    \n",
    "    plt.tight_layout()\n",
    "    #plt.suptitle(title, y = 0.92, fontsize = 30)\n",
    "    plt.savefig(save_root + output + '.png', bbox_inches = 'tight')"
   ]
  },
  {
   "cell_type": "code",
   "execution_count": null,
   "metadata": {},
   "outputs": [],
   "source": [
    "GeneInfo = GeneInfo.sort_values('imp_sumup_norm', ascending = False)\n",
    "SSUGs, SSJGs = MIBar(GeneInfo['MoransI'], x_label = 'Moran\\'s I',\n",
    "                      title='Top 60 DeepSIST Score Gene', output='TopDSGs',\n",
    "                      cutoff = 0.05, N = 60)\n",
    "\n",
    "DrawGenes5(adata = adata, Genes = SSUGs, GeneInfo = GeneInfo,\n",
    "           title = 'Top DeepSIST Score Genes (MI<0.05)', output = 'SSUGs')\n",
    "DrawGenes5(adata = adata, Genes = SSJGs, GeneInfo = GeneInfo,\n",
    "           title = 'Top DeepSIST Score Genes (MI>=0.05)', output = 'SSJGs')"
   ]
  },
  {
   "cell_type": "code",
   "execution_count": null,
   "metadata": {},
   "outputs": [],
   "source": [
    "GeneInfo = GeneInfo.sort_values('MoransI', ascending = False)\n",
    "MIUGs, MIJGs = MIBar(GeneInfo['imp_sumup_norm'], x_label = 'Normalized DeepSIST Score',\n",
    "                      title='Top 60 Moran\\'I SVGs', output='TopMSVGs',\n",
    "                      cutoff = 0.05, N = 60)\n",
    "\n",
    "DrawGenes5(adata = adata, Genes = MIUGs, GeneInfo = GeneInfo,\n",
    "           title = 'Top Moran\\'I SVGs (DeepSIST Score<0.05)', output = 'MIUGs')\n",
    "DrawGenes5(adata = adata, Genes = MIJGs, GeneInfo = GeneInfo,\n",
    "           title = 'Top Moran\\'I SVGs (DeepSIST Score>=0.05)', output = 'MIJGs')"
   ]
  },
  {
   "cell_type": "code",
   "execution_count": null,
   "metadata": {},
   "outputs": [],
   "source": []
  },
  {
   "cell_type": "code",
   "execution_count": null,
   "metadata": {},
   "outputs": [],
   "source": []
  }
 ],
 "metadata": {
  "kernelspec": {
   "display_name": "Python 3 (ipykernel)",
   "language": "python",
   "name": "python3"
  },
  "language_info": {
   "codemirror_mode": {
    "name": "ipython",
    "version": 3
   },
   "file_extension": ".py",
   "mimetype": "text/x-python",
   "name": "python",
   "nbconvert_exporter": "python",
   "pygments_lexer": "ipython3",
   "version": "3.9.7"
  }
 },
 "nbformat": 4,
 "nbformat_minor": 4
}
