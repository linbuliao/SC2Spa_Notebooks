{
 "cells": [
  {
   "cell_type": "code",
   "execution_count": 89,
   "id": "9c2b17a0",
   "metadata": {},
   "outputs": [],
   "source": [
    "import tangram as tg\n",
    "import pandas as pd\n",
    "import scanpy as sc\n",
    "import anndata as ad\n",
    "import numpy as np\n",
    "import torch\n",
    "from scipy import stats\n",
    "from sklearn.metrics import r2_score\n",
    "\n",
    "from time import time\n",
    "\n",
    "t = !pwd\n",
    "t = t[0]\n",
    "%cd /mnt/win1/\n",
    "from SC2Spa import PP\n",
    "%cd $t"
   ]
  },
  {
   "cell_type": "code",
   "execution_count": 2,
   "id": "10089656",
   "metadata": {},
   "outputs": [],
   "source": [
    "pct_offset = 0\n",
    "\n",
    "def MinMaxNorm(Y):\n",
    "    return (Y-Y.min(axis = 0))/(Y.max(axis = 0)-Y.min(axis = 0))/(1+pct_offset)\n",
    "\n",
    "def ReMMNorm(Y, Y_pred):\n",
    "    return (Y_pred*(Y.max(axis=0)-Y.min(axis=0)*(1+pct_offset))+Y.min(axis = 0))\n",
    "\n",
    "def PolarTrans(Y):\n",
    "    \n",
    "    R = np.sqrt(np.square(Y[:,0]) + np.square(Y[:,1]))\n",
    "    Theta = np.arctan(Y[:,1]/Y[:,0])\n",
    "    RTheta = np.concatenate([R.reshape(-1,1), Theta.reshape(-1,1)], axis = 1)\n",
    "    \n",
    "    return RTheta\n",
    "\n",
    "def RePolarTrans(RTheta):\n",
    "    x = RTheta[:,0] * np.cos(RTheta[:,1])\n",
    "    y = RTheta[:,0] * np.sin(RTheta[:,1])\n",
    "    Y = np.concatenate([x.reshape(-1,1), y.reshape(-1,1)], axis = 1)\n",
    "    return Y"
   ]
  },
  {
   "cell_type": "code",
   "execution_count": 84,
   "id": "a1573aee",
   "metadata": {},
   "outputs": [
    {
     "name": "stderr",
     "output_type": "stream",
     "text": [
      "Variable names are not unique. To make them unique, call `.var_names_make_unique`.\n"
     ]
    }
   ],
   "source": [
    "adata = ad.read_h5ad('../Dataset/AdataMH1.h5ad')\n",
    "adata.var_names_make_unique()\n",
    "\n",
    "Y = adata.obs[['xcoord', 'ycoord']].values\n",
    "YNorm = MinMaxNorm(Y)"
   ]
  },
  {
   "cell_type": "code",
   "execution_count": 53,
   "id": "d3536285",
   "metadata": {},
   "outputs": [],
   "source": [
    "train_indices = []\n",
    "test_indices = []\n",
    "for i in range(5):\n",
    "    train_index = pd.read_csv('CV_groups/index_train_' + str(i+1) + '.csv',\n",
    "                              header = None, index_col = 0).values.flatten()\n",
    "    test_index = pd.read_csv('CV_groups/index_test_' + str(i+1) + '.csv',\n",
    "                             header = None, index_col = 0).values.flatten()\n",
    "    \n",
    "    train_indices.append(train_index)\n",
    "    test_indices.append(test_index)"
   ]
  },
  {
   "cell_type": "code",
   "execution_count": 61,
   "id": "293c5171",
   "metadata": {},
   "outputs": [
    {
     "data": {
      "text/plain": [
       "array([ 4680, 27793, 26831, ...,  7017, 32234, 33364])"
      ]
     },
     "execution_count": 61,
     "metadata": {},
     "output_type": "execute_result"
    }
   ],
   "source": [
    "train_indices[0]"
   ]
  },
  {
   "cell_type": "code",
   "execution_count": 60,
   "id": "a5f20738",
   "metadata": {},
   "outputs": [
    {
     "data": {
      "text/plain": [
       "View of AnnData object with n_obs × n_vars = 28279 × 20527\n",
       "    obs: 'xcoord', 'ycoord', 'n_genes', 'n_genes_by_counts', 'total_counts', 'total_counts_mt', 'pct_counts_mt', 'total_counts_ERCC', 'pct_counts_ERCC', 'leiden'\n",
       "    var: 'n_cells', 'mt', 'ERCC', 'n_cells_by_counts', 'mean_counts', 'pct_dropout_by_counts', 'total_counts', 'highly_variable', 'means', 'dispersions', 'dispersions_norm'\n",
       "    uns: 'leiden', 'leiden_colors', 'neighbors', 'pca', 'umap', 'log1p', 'hvg'\n",
       "    obsm: 'X_pca', 'X_umap'"
      ]
     },
     "execution_count": 60,
     "metadata": {},
     "output_type": "execute_result"
    }
   ],
   "source": [
    "adata[train_indices[0]]"
   ]
  },
  {
   "cell_type": "markdown",
   "id": "6189ddd3",
   "metadata": {},
   "source": [
    "# Finetune number of genes"
   ]
  },
  {
   "cell_type": "code",
   "execution_count": 71,
   "id": "4813dae5",
   "metadata": {},
   "outputs": [
    {
     "name": "stdout",
     "output_type": "stream",
     "text": [
      "100\n"
     ]
    },
    {
     "name": "stderr",
     "output_type": "stream",
     "text": [
      "Variable names are not unique. To make them unique, call `.var_names_make_unique`.\n",
      "INFO:root:97 training genes are saved in `uns``training_genes` of both single cell and spatial Anndatas.\n",
      "INFO:root:19435 overlapped genes are saved in `uns``overlap_genes` of both single cell and spatial Anndatas.\n",
      "INFO:root:uniform based density prior is calculated and saved in `obs``uniform_density` of the spatial Anndata.\n",
      "INFO:root:rna count based density prior is calculated and saved in `obs``rna_count_based_density` of the spatial Anndata.\n",
      "INFO:root:Allocate tensors for mapping.\n",
      "INFO:root:Begin training with 97 genes and rna_count_based density_prior in cells mode...\n",
      "INFO:root:Printing scores every 100 epochs.\n"
     ]
    },
    {
     "name": "stdout",
     "output_type": "stream",
     "text": [
      "Score: 0.211, KL reg: 0.137\n",
      "Score: 0.918, KL reg: 0.012\n",
      "Score: 0.936, KL reg: 0.008\n",
      "Score: 0.939, KL reg: 0.007\n",
      "Score: 0.941, KL reg: 0.007\n",
      "Score: 0.942, KL reg: 0.007\n",
      "Score: 0.942, KL reg: 0.007\n",
      "Score: 0.943, KL reg: 0.007\n",
      "Score: 0.943, KL reg: 0.007\n",
      "Score: 0.944, KL reg: 0.007\n"
     ]
    },
    {
     "name": "stderr",
     "output_type": "stream",
     "text": [
      "INFO:root:Saving results..\n"
     ]
    },
    {
     "name": "stdout",
     "output_type": "stream",
     "text": [
      "200\n"
     ]
    },
    {
     "name": "stderr",
     "output_type": "stream",
     "text": [
      "Variable names are not unique. To make them unique, call `.var_names_make_unique`.\n",
      "INFO:root:186 training genes are saved in `uns``training_genes` of both single cell and spatial Anndatas.\n",
      "INFO:root:19435 overlapped genes are saved in `uns``overlap_genes` of both single cell and spatial Anndatas.\n",
      "INFO:root:uniform based density prior is calculated and saved in `obs``uniform_density` of the spatial Anndata.\n",
      "INFO:root:rna count based density prior is calculated and saved in `obs``rna_count_based_density` of the spatial Anndata.\n",
      "INFO:root:Allocate tensors for mapping.\n",
      "INFO:root:Begin training with 186 genes and rna_count_based density_prior in cells mode...\n",
      "INFO:root:Printing scores every 100 epochs.\n"
     ]
    },
    {
     "name": "stdout",
     "output_type": "stream",
     "text": [
      "Score: 0.187, KL reg: 0.137\n",
      "Score: 0.876, KL reg: 0.009\n",
      "Score: 0.897, KL reg: 0.007\n",
      "Score: 0.901, KL reg: 0.006\n",
      "Score: 0.903, KL reg: 0.006\n",
      "Score: 0.905, KL reg: 0.006\n",
      "Score: 0.906, KL reg: 0.006\n",
      "Score: 0.906, KL reg: 0.006\n",
      "Score: 0.907, KL reg: 0.006\n",
      "Score: 0.907, KL reg: 0.006\n"
     ]
    },
    {
     "name": "stderr",
     "output_type": "stream",
     "text": [
      "INFO:root:Saving results..\n"
     ]
    },
    {
     "name": "stdout",
     "output_type": "stream",
     "text": [
      "300\n"
     ]
    },
    {
     "name": "stderr",
     "output_type": "stream",
     "text": [
      "Variable names are not unique. To make them unique, call `.var_names_make_unique`.\n",
      "INFO:root:273 training genes are saved in `uns``training_genes` of both single cell and spatial Anndatas.\n",
      "INFO:root:19435 overlapped genes are saved in `uns``overlap_genes` of both single cell and spatial Anndatas.\n",
      "INFO:root:uniform based density prior is calculated and saved in `obs``uniform_density` of the spatial Anndata.\n",
      "INFO:root:rna count based density prior is calculated and saved in `obs``rna_count_based_density` of the spatial Anndata.\n",
      "INFO:root:Allocate tensors for mapping.\n",
      "INFO:root:Begin training with 273 genes and rna_count_based density_prior in cells mode...\n",
      "INFO:root:Printing scores every 100 epochs.\n"
     ]
    },
    {
     "name": "stdout",
     "output_type": "stream",
     "text": [
      "Score: 0.167, KL reg: 0.137\n",
      "Score: 0.851, KL reg: 0.007\n",
      "Score: 0.872, KL reg: 0.006\n",
      "Score: 0.877, KL reg: 0.006\n",
      "Score: 0.880, KL reg: 0.005\n",
      "Score: 0.881, KL reg: 0.005\n",
      "Score: 0.882, KL reg: 0.005\n",
      "Score: 0.883, KL reg: 0.005\n",
      "Score: 0.884, KL reg: 0.005\n",
      "Score: 0.884, KL reg: 0.005\n"
     ]
    },
    {
     "name": "stderr",
     "output_type": "stream",
     "text": [
      "INFO:root:Saving results..\n"
     ]
    },
    {
     "name": "stdout",
     "output_type": "stream",
     "text": [
      "400\n"
     ]
    },
    {
     "name": "stderr",
     "output_type": "stream",
     "text": [
      "Variable names are not unique. To make them unique, call `.var_names_make_unique`.\n",
      "INFO:root:358 training genes are saved in `uns``training_genes` of both single cell and spatial Anndatas.\n",
      "INFO:root:19435 overlapped genes are saved in `uns``overlap_genes` of both single cell and spatial Anndatas.\n",
      "INFO:root:uniform based density prior is calculated and saved in `obs``uniform_density` of the spatial Anndata.\n",
      "INFO:root:rna count based density prior is calculated and saved in `obs``rna_count_based_density` of the spatial Anndata.\n",
      "INFO:root:Allocate tensors for mapping.\n",
      "INFO:root:Begin training with 358 genes and rna_count_based density_prior in cells mode...\n",
      "INFO:root:Printing scores every 100 epochs.\n"
     ]
    },
    {
     "name": "stdout",
     "output_type": "stream",
     "text": [
      "Score: 0.162, KL reg: 0.137\n",
      "Score: 0.821, KL reg: 0.006\n",
      "Score: 0.845, KL reg: 0.005\n",
      "Score: 0.850, KL reg: 0.005\n",
      "Score: 0.853, KL reg: 0.005\n",
      "Score: 0.855, KL reg: 0.005\n",
      "Score: 0.856, KL reg: 0.005\n",
      "Score: 0.857, KL reg: 0.005\n",
      "Score: 0.857, KL reg: 0.005\n",
      "Score: 0.858, KL reg: 0.005\n"
     ]
    },
    {
     "name": "stderr",
     "output_type": "stream",
     "text": [
      "INFO:root:Saving results..\n"
     ]
    },
    {
     "name": "stdout",
     "output_type": "stream",
     "text": [
      "500\n"
     ]
    },
    {
     "name": "stderr",
     "output_type": "stream",
     "text": [
      "Variable names are not unique. To make them unique, call `.var_names_make_unique`.\n",
      "INFO:root:445 training genes are saved in `uns``training_genes` of both single cell and spatial Anndatas.\n",
      "INFO:root:19435 overlapped genes are saved in `uns``overlap_genes` of both single cell and spatial Anndatas.\n",
      "INFO:root:uniform based density prior is calculated and saved in `obs``uniform_density` of the spatial Anndata.\n",
      "INFO:root:rna count based density prior is calculated and saved in `obs``rna_count_based_density` of the spatial Anndata.\n",
      "INFO:root:Allocate tensors for mapping.\n",
      "INFO:root:Begin training with 445 genes and rna_count_based density_prior in cells mode...\n",
      "INFO:root:Printing scores every 100 epochs.\n"
     ]
    },
    {
     "name": "stdout",
     "output_type": "stream",
     "text": [
      "Score: 0.150, KL reg: 0.137\n",
      "Score: 0.810, KL reg: 0.005\n",
      "Score: 0.834, KL reg: 0.004\n",
      "Score: 0.840, KL reg: 0.004\n",
      "Score: 0.843, KL reg: 0.004\n",
      "Score: 0.845, KL reg: 0.004\n",
      "Score: 0.846, KL reg: 0.004\n",
      "Score: 0.847, KL reg: 0.004\n",
      "Score: 0.847, KL reg: 0.004\n",
      "Score: 0.848, KL reg: 0.004\n"
     ]
    },
    {
     "name": "stderr",
     "output_type": "stream",
     "text": [
      "INFO:root:Saving results..\n"
     ]
    },
    {
     "name": "stdout",
     "output_type": "stream",
     "text": [
      "600\n"
     ]
    },
    {
     "name": "stderr",
     "output_type": "stream",
     "text": [
      "Variable names are not unique. To make them unique, call `.var_names_make_unique`.\n",
      "INFO:root:530 training genes are saved in `uns``training_genes` of both single cell and spatial Anndatas.\n",
      "INFO:root:19435 overlapped genes are saved in `uns``overlap_genes` of both single cell and spatial Anndatas.\n",
      "INFO:root:uniform based density prior is calculated and saved in `obs``uniform_density` of the spatial Anndata.\n",
      "INFO:root:rna count based density prior is calculated and saved in `obs``rna_count_based_density` of the spatial Anndata.\n",
      "INFO:root:Allocate tensors for mapping.\n",
      "INFO:root:Begin training with 530 genes and rna_count_based density_prior in cells mode...\n",
      "INFO:root:Printing scores every 100 epochs.\n"
     ]
    },
    {
     "name": "stdout",
     "output_type": "stream",
     "text": [
      "Score: 0.144, KL reg: 0.137\n",
      "Score: 0.797, KL reg: 0.005\n",
      "Score: 0.822, KL reg: 0.004\n",
      "Score: 0.828, KL reg: 0.004\n",
      "Score: 0.831, KL reg: 0.004\n",
      "Score: 0.833, KL reg: 0.004\n",
      "Score: 0.834, KL reg: 0.004\n",
      "Score: 0.835, KL reg: 0.004\n",
      "Score: 0.836, KL reg: 0.004\n",
      "Score: 0.836, KL reg: 0.004\n"
     ]
    },
    {
     "name": "stderr",
     "output_type": "stream",
     "text": [
      "INFO:root:Saving results..\n"
     ]
    },
    {
     "name": "stdout",
     "output_type": "stream",
     "text": [
      "700\n"
     ]
    },
    {
     "name": "stderr",
     "output_type": "stream",
     "text": [
      "Variable names are not unique. To make them unique, call `.var_names_make_unique`.\n",
      "INFO:root:621 training genes are saved in `uns``training_genes` of both single cell and spatial Anndatas.\n",
      "INFO:root:19435 overlapped genes are saved in `uns``overlap_genes` of both single cell and spatial Anndatas.\n",
      "INFO:root:uniform based density prior is calculated and saved in `obs``uniform_density` of the spatial Anndata.\n",
      "INFO:root:rna count based density prior is calculated and saved in `obs``rna_count_based_density` of the spatial Anndata.\n",
      "INFO:root:Allocate tensors for mapping.\n",
      "INFO:root:Begin training with 621 genes and rna_count_based density_prior in cells mode...\n",
      "INFO:root:Printing scores every 100 epochs.\n"
     ]
    },
    {
     "name": "stdout",
     "output_type": "stream",
     "text": [
      "Score: 0.136, KL reg: 0.137\n",
      "Score: 0.789, KL reg: 0.005\n",
      "Score: 0.814, KL reg: 0.004\n",
      "Score: 0.821, KL reg: 0.004\n",
      "Score: 0.824, KL reg: 0.003\n",
      "Score: 0.825, KL reg: 0.003\n",
      "Score: 0.827, KL reg: 0.003\n",
      "Score: 0.828, KL reg: 0.003\n",
      "Score: 0.828, KL reg: 0.003\n",
      "Score: 0.829, KL reg: 0.003\n"
     ]
    },
    {
     "name": "stderr",
     "output_type": "stream",
     "text": [
      "INFO:root:Saving results..\n"
     ]
    },
    {
     "name": "stdout",
     "output_type": "stream",
     "text": [
      "800\n"
     ]
    },
    {
     "name": "stderr",
     "output_type": "stream",
     "text": [
      "Variable names are not unique. To make them unique, call `.var_names_make_unique`.\n",
      "INFO:root:718 training genes are saved in `uns``training_genes` of both single cell and spatial Anndatas.\n",
      "INFO:root:19435 overlapped genes are saved in `uns``overlap_genes` of both single cell and spatial Anndatas.\n",
      "INFO:root:uniform based density prior is calculated and saved in `obs``uniform_density` of the spatial Anndata.\n",
      "INFO:root:rna count based density prior is calculated and saved in `obs``rna_count_based_density` of the spatial Anndata.\n",
      "INFO:root:Allocate tensors for mapping.\n",
      "INFO:root:Begin training with 718 genes and rna_count_based density_prior in cells mode...\n",
      "INFO:root:Printing scores every 100 epochs.\n"
     ]
    },
    {
     "name": "stdout",
     "output_type": "stream",
     "text": [
      "Score: 0.133, KL reg: 0.137\n",
      "Score: 0.777, KL reg: 0.004\n",
      "Score: 0.803, KL reg: 0.003\n",
      "Score: 0.809, KL reg: 0.003\n",
      "Score: 0.813, KL reg: 0.003\n",
      "Score: 0.814, KL reg: 0.003\n",
      "Score: 0.816, KL reg: 0.003\n",
      "Score: 0.817, KL reg: 0.003\n",
      "Score: 0.817, KL reg: 0.003\n",
      "Score: 0.818, KL reg: 0.003\n"
     ]
    },
    {
     "name": "stderr",
     "output_type": "stream",
     "text": [
      "INFO:root:Saving results..\n"
     ]
    },
    {
     "name": "stdout",
     "output_type": "stream",
     "text": [
      "900\n"
     ]
    },
    {
     "name": "stderr",
     "output_type": "stream",
     "text": [
      "Variable names are not unique. To make them unique, call `.var_names_make_unique`.\n",
      "INFO:root:813 training genes are saved in `uns``training_genes` of both single cell and spatial Anndatas.\n",
      "INFO:root:19435 overlapped genes are saved in `uns``overlap_genes` of both single cell and spatial Anndatas.\n",
      "INFO:root:uniform based density prior is calculated and saved in `obs``uniform_density` of the spatial Anndata.\n",
      "INFO:root:rna count based density prior is calculated and saved in `obs``rna_count_based_density` of the spatial Anndata.\n",
      "INFO:root:Allocate tensors for mapping.\n",
      "INFO:root:Begin training with 813 genes and rna_count_based density_prior in cells mode...\n",
      "INFO:root:Printing scores every 100 epochs.\n"
     ]
    },
    {
     "name": "stdout",
     "output_type": "stream",
     "text": [
      "Score: 0.130, KL reg: 0.137\n",
      "Score: 0.769, KL reg: 0.004\n",
      "Score: 0.795, KL reg: 0.003\n",
      "Score: 0.802, KL reg: 0.003\n",
      "Score: 0.805, KL reg: 0.003\n",
      "Score: 0.807, KL reg: 0.003\n",
      "Score: 0.808, KL reg: 0.003\n",
      "Score: 0.809, KL reg: 0.003\n",
      "Score: 0.810, KL reg: 0.003\n",
      "Score: 0.811, KL reg: 0.003\n"
     ]
    },
    {
     "name": "stderr",
     "output_type": "stream",
     "text": [
      "INFO:root:Saving results..\n"
     ]
    },
    {
     "name": "stdout",
     "output_type": "stream",
     "text": [
      "1000\n"
     ]
    },
    {
     "name": "stderr",
     "output_type": "stream",
     "text": [
      "Variable names are not unique. To make them unique, call `.var_names_make_unique`.\n",
      "INFO:root:907 training genes are saved in `uns``training_genes` of both single cell and spatial Anndatas.\n",
      "INFO:root:19435 overlapped genes are saved in `uns``overlap_genes` of both single cell and spatial Anndatas.\n",
      "INFO:root:uniform based density prior is calculated and saved in `obs``uniform_density` of the spatial Anndata.\n",
      "INFO:root:rna count based density prior is calculated and saved in `obs``rna_count_based_density` of the spatial Anndata.\n",
      "INFO:root:Allocate tensors for mapping.\n",
      "INFO:root:Begin training with 907 genes and rna_count_based density_prior in cells mode...\n",
      "INFO:root:Printing scores every 100 epochs.\n"
     ]
    },
    {
     "name": "stdout",
     "output_type": "stream",
     "text": [
      "Score: 0.126, KL reg: 0.137\n",
      "Score: 0.765, KL reg: 0.004\n",
      "Score: 0.791, KL reg: 0.003\n",
      "Score: 0.798, KL reg: 0.003\n",
      "Score: 0.801, KL reg: 0.003\n",
      "Score: 0.803, KL reg: 0.003\n",
      "Score: 0.804, KL reg: 0.003\n",
      "Score: 0.805, KL reg: 0.003\n",
      "Score: 0.806, KL reg: 0.003\n",
      "Score: 0.807, KL reg: 0.003\n"
     ]
    },
    {
     "name": "stderr",
     "output_type": "stream",
     "text": [
      "INFO:root:Saving results..\n"
     ]
    },
    {
     "name": "stdout",
     "output_type": "stream",
     "text": [
      "1100\n"
     ]
    },
    {
     "name": "stderr",
     "output_type": "stream",
     "text": [
      "Variable names are not unique. To make them unique, call `.var_names_make_unique`.\n",
      "INFO:root:996 training genes are saved in `uns``training_genes` of both single cell and spatial Anndatas.\n",
      "INFO:root:19435 overlapped genes are saved in `uns``overlap_genes` of both single cell and spatial Anndatas.\n",
      "INFO:root:uniform based density prior is calculated and saved in `obs``uniform_density` of the spatial Anndata.\n",
      "INFO:root:rna count based density prior is calculated and saved in `obs``rna_count_based_density` of the spatial Anndata.\n",
      "INFO:root:Allocate tensors for mapping.\n",
      "INFO:root:Begin training with 996 genes and rna_count_based density_prior in cells mode...\n",
      "INFO:root:Printing scores every 100 epochs.\n"
     ]
    },
    {
     "name": "stdout",
     "output_type": "stream",
     "text": [
      "Score: 0.124, KL reg: 0.137\n",
      "Score: 0.757, KL reg: 0.004\n",
      "Score: 0.784, KL reg: 0.003\n",
      "Score: 0.790, KL reg: 0.003\n",
      "Score: 0.794, KL reg: 0.003\n",
      "Score: 0.796, KL reg: 0.002\n",
      "Score: 0.797, KL reg: 0.002\n",
      "Score: 0.798, KL reg: 0.002\n",
      "Score: 0.799, KL reg: 0.002\n",
      "Score: 0.799, KL reg: 0.002\n"
     ]
    },
    {
     "name": "stderr",
     "output_type": "stream",
     "text": [
      "INFO:root:Saving results..\n"
     ]
    },
    {
     "name": "stdout",
     "output_type": "stream",
     "text": [
      "1200\n"
     ]
    },
    {
     "name": "stderr",
     "output_type": "stream",
     "text": [
      "Variable names are not unique. To make them unique, call `.var_names_make_unique`.\n",
      "INFO:root:1091 training genes are saved in `uns``training_genes` of both single cell and spatial Anndatas.\n",
      "INFO:root:19435 overlapped genes are saved in `uns``overlap_genes` of both single cell and spatial Anndatas.\n",
      "INFO:root:uniform based density prior is calculated and saved in `obs``uniform_density` of the spatial Anndata.\n",
      "INFO:root:rna count based density prior is calculated and saved in `obs``rna_count_based_density` of the spatial Anndata.\n",
      "INFO:root:Allocate tensors for mapping.\n",
      "INFO:root:Begin training with 1091 genes and rna_count_based density_prior in cells mode...\n",
      "INFO:root:Printing scores every 100 epochs.\n"
     ]
    },
    {
     "name": "stdout",
     "output_type": "stream",
     "text": [
      "Score: 0.124, KL reg: 0.137\n",
      "Score: 0.750, KL reg: 0.004\n",
      "Score: 0.776, KL reg: 0.002\n",
      "Score: 0.783, KL reg: 0.002\n",
      "Score: 0.787, KL reg: 0.002\n",
      "Score: 0.789, KL reg: 0.002\n",
      "Score: 0.790, KL reg: 0.002\n",
      "Score: 0.791, KL reg: 0.002\n",
      "Score: 0.792, KL reg: 0.002\n",
      "Score: 0.792, KL reg: 0.002\n"
     ]
    },
    {
     "name": "stderr",
     "output_type": "stream",
     "text": [
      "INFO:root:Saving results..\n"
     ]
    },
    {
     "name": "stdout",
     "output_type": "stream",
     "text": [
      "1300\n"
     ]
    },
    {
     "name": "stderr",
     "output_type": "stream",
     "text": [
      "Variable names are not unique. To make them unique, call `.var_names_make_unique`.\n",
      "INFO:root:1190 training genes are saved in `uns``training_genes` of both single cell and spatial Anndatas.\n",
      "INFO:root:19435 overlapped genes are saved in `uns``overlap_genes` of both single cell and spatial Anndatas.\n",
      "INFO:root:uniform based density prior is calculated and saved in `obs``uniform_density` of the spatial Anndata.\n",
      "INFO:root:rna count based density prior is calculated and saved in `obs``rna_count_based_density` of the spatial Anndata.\n",
      "INFO:root:Allocate tensors for mapping.\n",
      "INFO:root:Begin training with 1190 genes and rna_count_based density_prior in cells mode...\n",
      "INFO:root:Printing scores every 100 epochs.\n"
     ]
    },
    {
     "name": "stdout",
     "output_type": "stream",
     "text": [
      "Score: 0.121, KL reg: 0.137\n",
      "Score: 0.745, KL reg: 0.004\n",
      "Score: 0.772, KL reg: 0.002\n",
      "Score: 0.779, KL reg: 0.002\n",
      "Score: 0.782, KL reg: 0.002\n",
      "Score: 0.785, KL reg: 0.002\n",
      "Score: 0.786, KL reg: 0.002\n",
      "Score: 0.787, KL reg: 0.002\n",
      "Score: 0.788, KL reg: 0.002\n",
      "Score: 0.789, KL reg: 0.002\n"
     ]
    },
    {
     "name": "stderr",
     "output_type": "stream",
     "text": [
      "INFO:root:Saving results..\n"
     ]
    },
    {
     "name": "stdout",
     "output_type": "stream",
     "text": [
      "1400\n"
     ]
    },
    {
     "name": "stderr",
     "output_type": "stream",
     "text": [
      "Variable names are not unique. To make them unique, call `.var_names_make_unique`.\n",
      "INFO:root:1282 training genes are saved in `uns``training_genes` of both single cell and spatial Anndatas.\n",
      "INFO:root:19435 overlapped genes are saved in `uns``overlap_genes` of both single cell and spatial Anndatas.\n",
      "INFO:root:uniform based density prior is calculated and saved in `obs``uniform_density` of the spatial Anndata.\n",
      "INFO:root:rna count based density prior is calculated and saved in `obs``rna_count_based_density` of the spatial Anndata.\n",
      "INFO:root:Allocate tensors for mapping.\n",
      "INFO:root:Begin training with 1282 genes and rna_count_based density_prior in cells mode...\n",
      "INFO:root:Printing scores every 100 epochs.\n"
     ]
    },
    {
     "name": "stdout",
     "output_type": "stream",
     "text": [
      "Score: 0.118, KL reg: 0.137\n",
      "Score: 0.743, KL reg: 0.004\n",
      "Score: 0.770, KL reg: 0.002\n",
      "Score: 0.777, KL reg: 0.002\n",
      "Score: 0.780, KL reg: 0.002\n",
      "Score: 0.782, KL reg: 0.002\n",
      "Score: 0.784, KL reg: 0.002\n",
      "Score: 0.785, KL reg: 0.002\n",
      "Score: 0.786, KL reg: 0.002\n",
      "Score: 0.786, KL reg: 0.002\n"
     ]
    },
    {
     "name": "stderr",
     "output_type": "stream",
     "text": [
      "INFO:root:Saving results..\n"
     ]
    },
    {
     "name": "stdout",
     "output_type": "stream",
     "text": [
      "1500\n"
     ]
    },
    {
     "name": "stderr",
     "output_type": "stream",
     "text": [
      "Variable names are not unique. To make them unique, call `.var_names_make_unique`.\n",
      "INFO:root:1375 training genes are saved in `uns``training_genes` of both single cell and spatial Anndatas.\n",
      "INFO:root:19435 overlapped genes are saved in `uns``overlap_genes` of both single cell and spatial Anndatas.\n",
      "INFO:root:uniform based density prior is calculated and saved in `obs``uniform_density` of the spatial Anndata.\n",
      "INFO:root:rna count based density prior is calculated and saved in `obs``rna_count_based_density` of the spatial Anndata.\n",
      "INFO:root:Allocate tensors for mapping.\n",
      "INFO:root:Begin training with 1375 genes and rna_count_based density_prior in cells mode...\n",
      "INFO:root:Printing scores every 100 epochs.\n"
     ]
    },
    {
     "name": "stdout",
     "output_type": "stream",
     "text": [
      "Score: 0.117, KL reg: 0.137\n",
      "Score: 0.737, KL reg: 0.004\n",
      "Score: 0.763, KL reg: 0.002\n",
      "Score: 0.770, KL reg: 0.002\n",
      "Score: 0.774, KL reg: 0.002\n",
      "Score: 0.776, KL reg: 0.002\n",
      "Score: 0.777, KL reg: 0.002\n",
      "Score: 0.779, KL reg: 0.002\n",
      "Score: 0.779, KL reg: 0.002\n",
      "Score: 0.780, KL reg: 0.002\n"
     ]
    },
    {
     "name": "stderr",
     "output_type": "stream",
     "text": [
      "INFO:root:Saving results..\n"
     ]
    },
    {
     "name": "stdout",
     "output_type": "stream",
     "text": [
      "1600\n"
     ]
    },
    {
     "name": "stderr",
     "output_type": "stream",
     "text": [
      "Variable names are not unique. To make them unique, call `.var_names_make_unique`.\n",
      "INFO:root:1470 training genes are saved in `uns``training_genes` of both single cell and spatial Anndatas.\n",
      "INFO:root:19435 overlapped genes are saved in `uns``overlap_genes` of both single cell and spatial Anndatas.\n",
      "INFO:root:uniform based density prior is calculated and saved in `obs``uniform_density` of the spatial Anndata.\n",
      "INFO:root:rna count based density prior is calculated and saved in `obs``rna_count_based_density` of the spatial Anndata.\n",
      "INFO:root:Allocate tensors for mapping.\n",
      "INFO:root:Begin training with 1470 genes and rna_count_based density_prior in cells mode...\n",
      "INFO:root:Printing scores every 100 epochs.\n"
     ]
    },
    {
     "name": "stdout",
     "output_type": "stream",
     "text": [
      "Score: 0.114, KL reg: 0.137\n",
      "Score: 0.734, KL reg: 0.004\n",
      "Score: 0.760, KL reg: 0.002\n",
      "Score: 0.767, KL reg: 0.002\n",
      "Score: 0.771, KL reg: 0.002\n",
      "Score: 0.773, KL reg: 0.002\n",
      "Score: 0.775, KL reg: 0.002\n",
      "Score: 0.776, KL reg: 0.002\n",
      "Score: 0.776, KL reg: 0.002\n",
      "Score: 0.777, KL reg: 0.002\n"
     ]
    },
    {
     "name": "stderr",
     "output_type": "stream",
     "text": [
      "INFO:root:Saving results..\n"
     ]
    },
    {
     "name": "stdout",
     "output_type": "stream",
     "text": [
      "1700\n"
     ]
    },
    {
     "name": "stderr",
     "output_type": "stream",
     "text": [
      "Variable names are not unique. To make them unique, call `.var_names_make_unique`.\n",
      "INFO:root:1566 training genes are saved in `uns``training_genes` of both single cell and spatial Anndatas.\n",
      "INFO:root:19435 overlapped genes are saved in `uns``overlap_genes` of both single cell and spatial Anndatas.\n",
      "INFO:root:uniform based density prior is calculated and saved in `obs``uniform_density` of the spatial Anndata.\n",
      "INFO:root:rna count based density prior is calculated and saved in `obs``rna_count_based_density` of the spatial Anndata.\n",
      "INFO:root:Allocate tensors for mapping.\n",
      "INFO:root:Begin training with 1566 genes and rna_count_based density_prior in cells mode...\n",
      "INFO:root:Printing scores every 100 epochs.\n"
     ]
    },
    {
     "name": "stdout",
     "output_type": "stream",
     "text": [
      "Score: 0.113, KL reg: 0.137\n",
      "Score: 0.730, KL reg: 0.004\n",
      "Score: 0.756, KL reg: 0.002\n",
      "Score: 0.763, KL reg: 0.002\n",
      "Score: 0.766, KL reg: 0.002\n",
      "Score: 0.769, KL reg: 0.002\n",
      "Score: 0.770, KL reg: 0.002\n",
      "Score: 0.771, KL reg: 0.002\n",
      "Score: 0.772, KL reg: 0.002\n",
      "Score: 0.773, KL reg: 0.002\n"
     ]
    },
    {
     "name": "stderr",
     "output_type": "stream",
     "text": [
      "INFO:root:Saving results..\n"
     ]
    },
    {
     "name": "stdout",
     "output_type": "stream",
     "text": [
      "1800\n"
     ]
    },
    {
     "name": "stderr",
     "output_type": "stream",
     "text": [
      "Variable names are not unique. To make them unique, call `.var_names_make_unique`.\n",
      "INFO:root:1661 training genes are saved in `uns``training_genes` of both single cell and spatial Anndatas.\n",
      "INFO:root:19435 overlapped genes are saved in `uns``overlap_genes` of both single cell and spatial Anndatas.\n",
      "INFO:root:uniform based density prior is calculated and saved in `obs``uniform_density` of the spatial Anndata.\n",
      "INFO:root:rna count based density prior is calculated and saved in `obs``rna_count_based_density` of the spatial Anndata.\n",
      "INFO:root:Allocate tensors for mapping.\n",
      "INFO:root:Begin training with 1661 genes and rna_count_based density_prior in cells mode...\n",
      "INFO:root:Printing scores every 100 epochs.\n"
     ]
    },
    {
     "name": "stdout",
     "output_type": "stream",
     "text": [
      "Score: 0.112, KL reg: 0.137\n",
      "Score: 0.726, KL reg: 0.004\n",
      "Score: 0.751, KL reg: 0.002\n",
      "Score: 0.759, KL reg: 0.002\n",
      "Score: 0.762, KL reg: 0.002\n",
      "Score: 0.765, KL reg: 0.002\n",
      "Score: 0.766, KL reg: 0.002\n",
      "Score: 0.767, KL reg: 0.002\n",
      "Score: 0.768, KL reg: 0.002\n",
      "Score: 0.769, KL reg: 0.002\n"
     ]
    },
    {
     "name": "stderr",
     "output_type": "stream",
     "text": [
      "INFO:root:Saving results..\n"
     ]
    },
    {
     "name": "stdout",
     "output_type": "stream",
     "text": [
      "1900\n"
     ]
    },
    {
     "name": "stderr",
     "output_type": "stream",
     "text": [
      "Variable names are not unique. To make them unique, call `.var_names_make_unique`.\n",
      "INFO:root:1757 training genes are saved in `uns``training_genes` of both single cell and spatial Anndatas.\n",
      "INFO:root:19435 overlapped genes are saved in `uns``overlap_genes` of both single cell and spatial Anndatas.\n",
      "INFO:root:uniform based density prior is calculated and saved in `obs``uniform_density` of the spatial Anndata.\n",
      "INFO:root:rna count based density prior is calculated and saved in `obs``rna_count_based_density` of the spatial Anndata.\n",
      "INFO:root:Allocate tensors for mapping.\n",
      "INFO:root:Begin training with 1757 genes and rna_count_based density_prior in cells mode...\n",
      "INFO:root:Printing scores every 100 epochs.\n"
     ]
    },
    {
     "name": "stdout",
     "output_type": "stream",
     "text": [
      "Score: 0.111, KL reg: 0.137\n",
      "Score: 0.724, KL reg: 0.004\n",
      "Score: 0.749, KL reg: 0.002\n",
      "Score: 0.756, KL reg: 0.002\n",
      "Score: 0.760, KL reg: 0.002\n",
      "Score: 0.762, KL reg: 0.002\n",
      "Score: 0.764, KL reg: 0.002\n",
      "Score: 0.765, KL reg: 0.002\n",
      "Score: 0.766, KL reg: 0.002\n",
      "Score: 0.766, KL reg: 0.002\n"
     ]
    },
    {
     "name": "stderr",
     "output_type": "stream",
     "text": [
      "INFO:root:Saving results..\n"
     ]
    },
    {
     "name": "stdout",
     "output_type": "stream",
     "text": [
      "2000\n"
     ]
    },
    {
     "name": "stderr",
     "output_type": "stream",
     "text": [
      "Variable names are not unique. To make them unique, call `.var_names_make_unique`.\n",
      "INFO:root:1851 training genes are saved in `uns``training_genes` of both single cell and spatial Anndatas.\n",
      "INFO:root:19435 overlapped genes are saved in `uns``overlap_genes` of both single cell and spatial Anndatas.\n",
      "INFO:root:uniform based density prior is calculated and saved in `obs``uniform_density` of the spatial Anndata.\n",
      "INFO:root:rna count based density prior is calculated and saved in `obs``rna_count_based_density` of the spatial Anndata.\n",
      "INFO:root:Allocate tensors for mapping.\n",
      "INFO:root:Begin training with 1851 genes and rna_count_based density_prior in cells mode...\n",
      "INFO:root:Printing scores every 100 epochs.\n"
     ]
    },
    {
     "name": "stdout",
     "output_type": "stream",
     "text": [
      "Score: 0.111, KL reg: 0.137\n",
      "Score: 0.719, KL reg: 0.004\n",
      "Score: 0.743, KL reg: 0.002\n",
      "Score: 0.751, KL reg: 0.002\n",
      "Score: 0.755, KL reg: 0.002\n",
      "Score: 0.757, KL reg: 0.002\n",
      "Score: 0.758, KL reg: 0.002\n",
      "Score: 0.760, KL reg: 0.002\n",
      "Score: 0.761, KL reg: 0.002\n",
      "Score: 0.761, KL reg: 0.002\n"
     ]
    },
    {
     "name": "stderr",
     "output_type": "stream",
     "text": [
      "INFO:root:Saving results..\n"
     ]
    },
    {
     "name": "stdout",
     "output_type": "stream",
     "text": [
      "2100\n"
     ]
    },
    {
     "name": "stderr",
     "output_type": "stream",
     "text": [
      "Variable names are not unique. To make them unique, call `.var_names_make_unique`.\n",
      "INFO:root:1946 training genes are saved in `uns``training_genes` of both single cell and spatial Anndatas.\n",
      "INFO:root:19435 overlapped genes are saved in `uns``overlap_genes` of both single cell and spatial Anndatas.\n",
      "INFO:root:uniform based density prior is calculated and saved in `obs``uniform_density` of the spatial Anndata.\n",
      "INFO:root:rna count based density prior is calculated and saved in `obs``rna_count_based_density` of the spatial Anndata.\n",
      "INFO:root:Allocate tensors for mapping.\n",
      "INFO:root:Begin training with 1946 genes and rna_count_based density_prior in cells mode...\n",
      "INFO:root:Printing scores every 100 epochs.\n"
     ]
    },
    {
     "name": "stdout",
     "output_type": "stream",
     "text": [
      "Score: 0.110, KL reg: 0.137\n",
      "Score: 0.714, KL reg: 0.004\n",
      "Score: 0.739, KL reg: 0.002\n",
      "Score: 0.746, KL reg: 0.002\n",
      "Score: 0.750, KL reg: 0.002\n",
      "Score: 0.752, KL reg: 0.002\n",
      "Score: 0.754, KL reg: 0.002\n",
      "Score: 0.755, KL reg: 0.002\n",
      "Score: 0.756, KL reg: 0.002\n",
      "Score: 0.757, KL reg: 0.002\n"
     ]
    },
    {
     "name": "stderr",
     "output_type": "stream",
     "text": [
      "INFO:root:Saving results..\n"
     ]
    },
    {
     "name": "stdout",
     "output_type": "stream",
     "text": [
      "2200\n"
     ]
    },
    {
     "name": "stderr",
     "output_type": "stream",
     "text": [
      "Variable names are not unique. To make them unique, call `.var_names_make_unique`.\n",
      "INFO:root:2042 training genes are saved in `uns``training_genes` of both single cell and spatial Anndatas.\n",
      "INFO:root:19435 overlapped genes are saved in `uns``overlap_genes` of both single cell and spatial Anndatas.\n",
      "INFO:root:uniform based density prior is calculated and saved in `obs``uniform_density` of the spatial Anndata.\n",
      "INFO:root:rna count based density prior is calculated and saved in `obs``rna_count_based_density` of the spatial Anndata.\n",
      "INFO:root:Allocate tensors for mapping.\n",
      "INFO:root:Begin training with 2042 genes and rna_count_based density_prior in cells mode...\n",
      "INFO:root:Printing scores every 100 epochs.\n"
     ]
    },
    {
     "name": "stdout",
     "output_type": "stream",
     "text": [
      "Score: 0.109, KL reg: 0.137\n",
      "Score: 0.712, KL reg: 0.004\n",
      "Score: 0.735, KL reg: 0.002\n",
      "Score: 0.743, KL reg: 0.002\n",
      "Score: 0.747, KL reg: 0.002\n",
      "Score: 0.749, KL reg: 0.002\n",
      "Score: 0.751, KL reg: 0.002\n",
      "Score: 0.752, KL reg: 0.002\n",
      "Score: 0.753, KL reg: 0.002\n",
      "Score: 0.753, KL reg: 0.002\n"
     ]
    },
    {
     "name": "stderr",
     "output_type": "stream",
     "text": [
      "INFO:root:Saving results..\n"
     ]
    },
    {
     "name": "stdout",
     "output_type": "stream",
     "text": [
      "2300\n"
     ]
    },
    {
     "name": "stderr",
     "output_type": "stream",
     "text": [
      "Variable names are not unique. To make them unique, call `.var_names_make_unique`.\n",
      "INFO:root:2141 training genes are saved in `uns``training_genes` of both single cell and spatial Anndatas.\n",
      "INFO:root:19435 overlapped genes are saved in `uns``overlap_genes` of both single cell and spatial Anndatas.\n",
      "INFO:root:uniform based density prior is calculated and saved in `obs``uniform_density` of the spatial Anndata.\n",
      "INFO:root:rna count based density prior is calculated and saved in `obs``rna_count_based_density` of the spatial Anndata.\n",
      "INFO:root:Allocate tensors for mapping.\n",
      "INFO:root:Begin training with 2141 genes and rna_count_based density_prior in cells mode...\n",
      "INFO:root:Printing scores every 100 epochs.\n"
     ]
    },
    {
     "name": "stdout",
     "output_type": "stream",
     "text": [
      "Score: 0.108, KL reg: 0.137\n",
      "Score: 0.707, KL reg: 0.004\n",
      "Score: 0.731, KL reg: 0.002\n",
      "Score: 0.738, KL reg: 0.002\n",
      "Score: 0.742, KL reg: 0.002\n",
      "Score: 0.744, KL reg: 0.002\n",
      "Score: 0.746, KL reg: 0.002\n",
      "Score: 0.747, KL reg: 0.002\n",
      "Score: 0.748, KL reg: 0.002\n",
      "Score: 0.749, KL reg: 0.002\n"
     ]
    },
    {
     "name": "stderr",
     "output_type": "stream",
     "text": [
      "INFO:root:Saving results..\n"
     ]
    },
    {
     "name": "stdout",
     "output_type": "stream",
     "text": [
      "2400\n"
     ]
    },
    {
     "name": "stderr",
     "output_type": "stream",
     "text": [
      "Variable names are not unique. To make them unique, call `.var_names_make_unique`.\n",
      "INFO:root:2237 training genes are saved in `uns``training_genes` of both single cell and spatial Anndatas.\n",
      "INFO:root:19435 overlapped genes are saved in `uns``overlap_genes` of both single cell and spatial Anndatas.\n",
      "INFO:root:uniform based density prior is calculated and saved in `obs``uniform_density` of the spatial Anndata.\n",
      "INFO:root:rna count based density prior is calculated and saved in `obs``rna_count_based_density` of the spatial Anndata.\n",
      "INFO:root:Allocate tensors for mapping.\n",
      "INFO:root:Begin training with 2237 genes and rna_count_based density_prior in cells mode...\n",
      "INFO:root:Printing scores every 100 epochs.\n"
     ]
    },
    {
     "name": "stdout",
     "output_type": "stream",
     "text": [
      "Score: 0.108, KL reg: 0.137\n",
      "Score: 0.702, KL reg: 0.004\n",
      "Score: 0.725, KL reg: 0.003\n",
      "Score: 0.733, KL reg: 0.002\n",
      "Score: 0.737, KL reg: 0.002\n",
      "Score: 0.739, KL reg: 0.002\n",
      "Score: 0.741, KL reg: 0.002\n",
      "Score: 0.742, KL reg: 0.002\n",
      "Score: 0.743, KL reg: 0.002\n",
      "Score: 0.744, KL reg: 0.002\n"
     ]
    },
    {
     "name": "stderr",
     "output_type": "stream",
     "text": [
      "INFO:root:Saving results..\n"
     ]
    },
    {
     "name": "stdout",
     "output_type": "stream",
     "text": [
      "2500\n"
     ]
    },
    {
     "name": "stderr",
     "output_type": "stream",
     "text": [
      "Variable names are not unique. To make them unique, call `.var_names_make_unique`.\n",
      "INFO:root:2335 training genes are saved in `uns``training_genes` of both single cell and spatial Anndatas.\n",
      "INFO:root:19435 overlapped genes are saved in `uns``overlap_genes` of both single cell and spatial Anndatas.\n",
      "INFO:root:uniform based density prior is calculated and saved in `obs``uniform_density` of the spatial Anndata.\n",
      "INFO:root:rna count based density prior is calculated and saved in `obs``rna_count_based_density` of the spatial Anndata.\n",
      "INFO:root:Allocate tensors for mapping.\n",
      "INFO:root:Begin training with 2335 genes and rna_count_based density_prior in cells mode...\n",
      "INFO:root:Printing scores every 100 epochs.\n"
     ]
    },
    {
     "name": "stdout",
     "output_type": "stream",
     "text": [
      "Score: 0.107, KL reg: 0.137\n",
      "Score: 0.698, KL reg: 0.004\n",
      "Score: 0.721, KL reg: 0.003\n",
      "Score: 0.728, KL reg: 0.002\n",
      "Score: 0.732, KL reg: 0.002\n",
      "Score: 0.734, KL reg: 0.002\n",
      "Score: 0.736, KL reg: 0.002\n",
      "Score: 0.737, KL reg: 0.002\n",
      "Score: 0.738, KL reg: 0.002\n",
      "Score: 0.739, KL reg: 0.002\n"
     ]
    },
    {
     "name": "stderr",
     "output_type": "stream",
     "text": [
      "INFO:root:Saving results..\n"
     ]
    },
    {
     "name": "stdout",
     "output_type": "stream",
     "text": [
      "2600\n"
     ]
    },
    {
     "name": "stderr",
     "output_type": "stream",
     "text": [
      "Variable names are not unique. To make them unique, call `.var_names_make_unique`.\n",
      "INFO:root:2434 training genes are saved in `uns``training_genes` of both single cell and spatial Anndatas.\n",
      "INFO:root:19435 overlapped genes are saved in `uns``overlap_genes` of both single cell and spatial Anndatas.\n",
      "INFO:root:uniform based density prior is calculated and saved in `obs``uniform_density` of the spatial Anndata.\n",
      "INFO:root:rna count based density prior is calculated and saved in `obs``rna_count_based_density` of the spatial Anndata.\n",
      "INFO:root:Allocate tensors for mapping.\n",
      "INFO:root:Begin training with 2434 genes and rna_count_based density_prior in cells mode...\n",
      "INFO:root:Printing scores every 100 epochs.\n"
     ]
    },
    {
     "name": "stdout",
     "output_type": "stream",
     "text": [
      "Score: 0.106, KL reg: 0.137\n",
      "Score: 0.693, KL reg: 0.004\n",
      "Score: 0.716, KL reg: 0.003\n",
      "Score: 0.723, KL reg: 0.002\n",
      "Score: 0.727, KL reg: 0.002\n",
      "Score: 0.730, KL reg: 0.002\n",
      "Score: 0.731, KL reg: 0.002\n",
      "Score: 0.733, KL reg: 0.002\n",
      "Score: 0.734, KL reg: 0.002\n",
      "Score: 0.734, KL reg: 0.002\n"
     ]
    },
    {
     "name": "stderr",
     "output_type": "stream",
     "text": [
      "INFO:root:Saving results..\n"
     ]
    },
    {
     "name": "stdout",
     "output_type": "stream",
     "text": [
      "2700\n"
     ]
    },
    {
     "name": "stderr",
     "output_type": "stream",
     "text": [
      "Variable names are not unique. To make them unique, call `.var_names_make_unique`.\n",
      "INFO:root:2531 training genes are saved in `uns``training_genes` of both single cell and spatial Anndatas.\n",
      "INFO:root:19435 overlapped genes are saved in `uns``overlap_genes` of both single cell and spatial Anndatas.\n",
      "INFO:root:uniform based density prior is calculated and saved in `obs``uniform_density` of the spatial Anndata.\n",
      "INFO:root:rna count based density prior is calculated and saved in `obs``rna_count_based_density` of the spatial Anndata.\n",
      "INFO:root:Allocate tensors for mapping.\n",
      "INFO:root:Begin training with 2531 genes and rna_count_based density_prior in cells mode...\n",
      "INFO:root:Printing scores every 100 epochs.\n"
     ]
    },
    {
     "name": "stdout",
     "output_type": "stream",
     "text": [
      "Score: 0.106, KL reg: 0.137\n",
      "Score: 0.688, KL reg: 0.004\n",
      "Score: 0.711, KL reg: 0.003\n",
      "Score: 0.718, KL reg: 0.002\n",
      "Score: 0.722, KL reg: 0.002\n",
      "Score: 0.725, KL reg: 0.002\n",
      "Score: 0.727, KL reg: 0.002\n",
      "Score: 0.728, KL reg: 0.002\n",
      "Score: 0.729, KL reg: 0.002\n",
      "Score: 0.730, KL reg: 0.002\n"
     ]
    },
    {
     "name": "stderr",
     "output_type": "stream",
     "text": [
      "INFO:root:Saving results..\n"
     ]
    },
    {
     "name": "stdout",
     "output_type": "stream",
     "text": [
      "2800\n"
     ]
    },
    {
     "name": "stderr",
     "output_type": "stream",
     "text": [
      "Variable names are not unique. To make them unique, call `.var_names_make_unique`.\n",
      "INFO:root:2628 training genes are saved in `uns``training_genes` of both single cell and spatial Anndatas.\n",
      "INFO:root:19435 overlapped genes are saved in `uns``overlap_genes` of both single cell and spatial Anndatas.\n",
      "INFO:root:uniform based density prior is calculated and saved in `obs``uniform_density` of the spatial Anndata.\n",
      "INFO:root:rna count based density prior is calculated and saved in `obs``rna_count_based_density` of the spatial Anndata.\n",
      "INFO:root:Allocate tensors for mapping.\n",
      "INFO:root:Begin training with 2628 genes and rna_count_based density_prior in cells mode...\n",
      "INFO:root:Printing scores every 100 epochs.\n"
     ]
    },
    {
     "name": "stdout",
     "output_type": "stream",
     "text": [
      "Score: 0.106, KL reg: 0.137\n",
      "Score: 0.683, KL reg: 0.004\n",
      "Score: 0.706, KL reg: 0.003\n",
      "Score: 0.713, KL reg: 0.002\n",
      "Score: 0.717, KL reg: 0.002\n",
      "Score: 0.719, KL reg: 0.002\n",
      "Score: 0.721, KL reg: 0.002\n",
      "Score: 0.722, KL reg: 0.002\n",
      "Score: 0.723, KL reg: 0.002\n",
      "Score: 0.724, KL reg: 0.002\n"
     ]
    },
    {
     "name": "stderr",
     "output_type": "stream",
     "text": [
      "INFO:root:Saving results..\n"
     ]
    },
    {
     "name": "stdout",
     "output_type": "stream",
     "text": [
      "2900\n"
     ]
    },
    {
     "name": "stderr",
     "output_type": "stream",
     "text": [
      "Variable names are not unique. To make them unique, call `.var_names_make_unique`.\n",
      "INFO:root:2725 training genes are saved in `uns``training_genes` of both single cell and spatial Anndatas.\n",
      "INFO:root:19435 overlapped genes are saved in `uns``overlap_genes` of both single cell and spatial Anndatas.\n",
      "INFO:root:uniform based density prior is calculated and saved in `obs``uniform_density` of the spatial Anndata.\n",
      "INFO:root:rna count based density prior is calculated and saved in `obs``rna_count_based_density` of the spatial Anndata.\n",
      "INFO:root:Allocate tensors for mapping.\n",
      "INFO:root:Begin training with 2725 genes and rna_count_based density_prior in cells mode...\n",
      "INFO:root:Printing scores every 100 epochs.\n"
     ]
    },
    {
     "name": "stdout",
     "output_type": "stream",
     "text": [
      "Score: 0.106, KL reg: 0.137\n",
      "Score: 0.678, KL reg: 0.004\n",
      "Score: 0.700, KL reg: 0.003\n",
      "Score: 0.708, KL reg: 0.003\n",
      "Score: 0.712, KL reg: 0.002\n",
      "Score: 0.714, KL reg: 0.002\n",
      "Score: 0.716, KL reg: 0.002\n",
      "Score: 0.717, KL reg: 0.002\n",
      "Score: 0.718, KL reg: 0.002\n",
      "Score: 0.719, KL reg: 0.002\n"
     ]
    },
    {
     "name": "stderr",
     "output_type": "stream",
     "text": [
      "INFO:root:Saving results..\n"
     ]
    },
    {
     "name": "stdout",
     "output_type": "stream",
     "text": [
      "3000\n"
     ]
    },
    {
     "name": "stderr",
     "output_type": "stream",
     "text": [
      "Variable names are not unique. To make them unique, call `.var_names_make_unique`.\n",
      "INFO:root:2823 training genes are saved in `uns``training_genes` of both single cell and spatial Anndatas.\n",
      "INFO:root:19435 overlapped genes are saved in `uns``overlap_genes` of both single cell and spatial Anndatas.\n",
      "INFO:root:uniform based density prior is calculated and saved in `obs``uniform_density` of the spatial Anndata.\n",
      "INFO:root:rna count based density prior is calculated and saved in `obs``rna_count_based_density` of the spatial Anndata.\n",
      "INFO:root:Allocate tensors for mapping.\n",
      "INFO:root:Begin training with 2823 genes and rna_count_based density_prior in cells mode...\n",
      "INFO:root:Printing scores every 100 epochs.\n"
     ]
    },
    {
     "name": "stdout",
     "output_type": "stream",
     "text": [
      "Score: 0.105, KL reg: 0.137\n",
      "Score: 0.673, KL reg: 0.004\n",
      "Score: 0.696, KL reg: 0.003\n",
      "Score: 0.704, KL reg: 0.003\n",
      "Score: 0.708, KL reg: 0.002\n",
      "Score: 0.710, KL reg: 0.002\n",
      "Score: 0.712, KL reg: 0.002\n",
      "Score: 0.713, KL reg: 0.002\n",
      "Score: 0.714, KL reg: 0.002\n",
      "Score: 0.715, KL reg: 0.002\n"
     ]
    },
    {
     "name": "stderr",
     "output_type": "stream",
     "text": [
      "INFO:root:Saving results..\n"
     ]
    },
    {
     "name": "stdout",
     "output_type": "stream",
     "text": [
      "3100\n"
     ]
    },
    {
     "name": "stderr",
     "output_type": "stream",
     "text": [
      "Variable names are not unique. To make them unique, call `.var_names_make_unique`.\n",
      "INFO:root:2923 training genes are saved in `uns``training_genes` of both single cell and spatial Anndatas.\n",
      "INFO:root:19435 overlapped genes are saved in `uns``overlap_genes` of both single cell and spatial Anndatas.\n",
      "INFO:root:uniform based density prior is calculated and saved in `obs``uniform_density` of the spatial Anndata.\n",
      "INFO:root:rna count based density prior is calculated and saved in `obs``rna_count_based_density` of the spatial Anndata.\n",
      "INFO:root:Allocate tensors for mapping.\n",
      "INFO:root:Begin training with 2923 genes and rna_count_based density_prior in cells mode...\n",
      "INFO:root:Printing scores every 100 epochs.\n"
     ]
    },
    {
     "name": "stdout",
     "output_type": "stream",
     "text": [
      "Score: 0.105, KL reg: 0.137\n",
      "Score: 0.667, KL reg: 0.004\n",
      "Score: 0.690, KL reg: 0.003\n",
      "Score: 0.697, KL reg: 0.003\n",
      "Score: 0.701, KL reg: 0.002\n",
      "Score: 0.704, KL reg: 0.002\n",
      "Score: 0.706, KL reg: 0.002\n",
      "Score: 0.707, KL reg: 0.002\n",
      "Score: 0.708, KL reg: 0.002\n",
      "Score: 0.709, KL reg: 0.002\n"
     ]
    },
    {
     "name": "stderr",
     "output_type": "stream",
     "text": [
      "INFO:root:Saving results..\n"
     ]
    },
    {
     "name": "stdout",
     "output_type": "stream",
     "text": [
      "3200\n"
     ]
    },
    {
     "name": "stderr",
     "output_type": "stream",
     "text": [
      "Variable names are not unique. To make them unique, call `.var_names_make_unique`.\n",
      "INFO:root:3023 training genes are saved in `uns``training_genes` of both single cell and spatial Anndatas.\n",
      "INFO:root:19435 overlapped genes are saved in `uns``overlap_genes` of both single cell and spatial Anndatas.\n",
      "INFO:root:uniform based density prior is calculated and saved in `obs``uniform_density` of the spatial Anndata.\n",
      "INFO:root:rna count based density prior is calculated and saved in `obs``rna_count_based_density` of the spatial Anndata.\n",
      "INFO:root:Allocate tensors for mapping.\n",
      "INFO:root:Begin training with 3023 genes and rna_count_based density_prior in cells mode...\n",
      "INFO:root:Printing scores every 100 epochs.\n"
     ]
    },
    {
     "name": "stdout",
     "output_type": "stream",
     "text": [
      "Score: 0.105, KL reg: 0.137\n",
      "Score: 0.661, KL reg: 0.004\n",
      "Score: 0.684, KL reg: 0.003\n",
      "Score: 0.692, KL reg: 0.003\n",
      "Score: 0.696, KL reg: 0.002\n",
      "Score: 0.699, KL reg: 0.002\n",
      "Score: 0.700, KL reg: 0.002\n",
      "Score: 0.702, KL reg: 0.002\n",
      "Score: 0.703, KL reg: 0.002\n",
      "Score: 0.704, KL reg: 0.002\n"
     ]
    },
    {
     "name": "stderr",
     "output_type": "stream",
     "text": [
      "INFO:root:Saving results..\n"
     ]
    },
    {
     "name": "stdout",
     "output_type": "stream",
     "text": [
      "3300\n"
     ]
    },
    {
     "name": "stderr",
     "output_type": "stream",
     "text": [
      "Variable names are not unique. To make them unique, call `.var_names_make_unique`.\n",
      "INFO:root:3120 training genes are saved in `uns``training_genes` of both single cell and spatial Anndatas.\n",
      "INFO:root:19435 overlapped genes are saved in `uns``overlap_genes` of both single cell and spatial Anndatas.\n",
      "INFO:root:uniform based density prior is calculated and saved in `obs``uniform_density` of the spatial Anndata.\n",
      "INFO:root:rna count based density prior is calculated and saved in `obs``rna_count_based_density` of the spatial Anndata.\n",
      "INFO:root:Allocate tensors for mapping.\n",
      "INFO:root:Begin training with 3120 genes and rna_count_based density_prior in cells mode...\n",
      "INFO:root:Printing scores every 100 epochs.\n"
     ]
    },
    {
     "name": "stdout",
     "output_type": "stream",
     "text": [
      "Score: 0.105, KL reg: 0.137\n",
      "Score: 0.656, KL reg: 0.004\n",
      "Score: 0.679, KL reg: 0.003\n",
      "Score: 0.687, KL reg: 0.003\n",
      "Score: 0.691, KL reg: 0.002\n",
      "Score: 0.694, KL reg: 0.002\n",
      "Score: 0.696, KL reg: 0.002\n",
      "Score: 0.697, KL reg: 0.002\n",
      "Score: 0.698, KL reg: 0.002\n",
      "Score: 0.699, KL reg: 0.002\n"
     ]
    },
    {
     "name": "stderr",
     "output_type": "stream",
     "text": [
      "INFO:root:Saving results..\n"
     ]
    },
    {
     "name": "stdout",
     "output_type": "stream",
     "text": [
      "3400\n"
     ]
    },
    {
     "name": "stderr",
     "output_type": "stream",
     "text": [
      "Variable names are not unique. To make them unique, call `.var_names_make_unique`.\n",
      "INFO:root:3217 training genes are saved in `uns``training_genes` of both single cell and spatial Anndatas.\n",
      "INFO:root:19435 overlapped genes are saved in `uns``overlap_genes` of both single cell and spatial Anndatas.\n",
      "INFO:root:uniform based density prior is calculated and saved in `obs``uniform_density` of the spatial Anndata.\n",
      "INFO:root:rna count based density prior is calculated and saved in `obs``rna_count_based_density` of the spatial Anndata.\n",
      "INFO:root:Allocate tensors for mapping.\n",
      "INFO:root:Begin training with 3217 genes and rna_count_based density_prior in cells mode...\n",
      "INFO:root:Printing scores every 100 epochs.\n"
     ]
    },
    {
     "name": "stdout",
     "output_type": "stream",
     "text": [
      "Score: 0.104, KL reg: 0.137\n",
      "Score: 0.651, KL reg: 0.004\n",
      "Score: 0.675, KL reg: 0.003\n",
      "Score: 0.682, KL reg: 0.003\n",
      "Score: 0.686, KL reg: 0.002\n",
      "Score: 0.689, KL reg: 0.002\n",
      "Score: 0.691, KL reg: 0.002\n",
      "Score: 0.692, KL reg: 0.002\n",
      "Score: 0.693, KL reg: 0.002\n",
      "Score: 0.694, KL reg: 0.002\n"
     ]
    },
    {
     "name": "stderr",
     "output_type": "stream",
     "text": [
      "INFO:root:Saving results..\n"
     ]
    },
    {
     "name": "stdout",
     "output_type": "stream",
     "text": [
      "3500\n"
     ]
    },
    {
     "name": "stderr",
     "output_type": "stream",
     "text": [
      "Variable names are not unique. To make them unique, call `.var_names_make_unique`.\n",
      "INFO:root:3315 training genes are saved in `uns``training_genes` of both single cell and spatial Anndatas.\n",
      "INFO:root:19435 overlapped genes are saved in `uns``overlap_genes` of both single cell and spatial Anndatas.\n",
      "INFO:root:uniform based density prior is calculated and saved in `obs``uniform_density` of the spatial Anndata.\n",
      "INFO:root:rna count based density prior is calculated and saved in `obs``rna_count_based_density` of the spatial Anndata.\n",
      "INFO:root:Allocate tensors for mapping.\n",
      "INFO:root:Begin training with 3315 genes and rna_count_based density_prior in cells mode...\n",
      "INFO:root:Printing scores every 100 epochs.\n"
     ]
    },
    {
     "name": "stdout",
     "output_type": "stream",
     "text": [
      "Score: 0.104, KL reg: 0.137\n",
      "Score: 0.646, KL reg: 0.004\n",
      "Score: 0.670, KL reg: 0.003\n",
      "Score: 0.677, KL reg: 0.003\n",
      "Score: 0.682, KL reg: 0.002\n",
      "Score: 0.684, KL reg: 0.002\n",
      "Score: 0.686, KL reg: 0.002\n",
      "Score: 0.687, KL reg: 0.002\n",
      "Score: 0.688, KL reg: 0.002\n",
      "Score: 0.689, KL reg: 0.002\n"
     ]
    },
    {
     "name": "stderr",
     "output_type": "stream",
     "text": [
      "INFO:root:Saving results..\n"
     ]
    }
   ],
   "source": [
    "ad_maps = []\n",
    "\n",
    "for i in np.array(range(1,36))*100:\n",
    "    print(i)\n",
    "    adata = ad.read_h5ad('../Dataset/AdataMH1.h5ad')\n",
    "    adata.var_names_make_unique()\n",
    "\n",
    "    sc.pp.normalize_total(adata, target_sum = 1e4)\n",
    "    sc.pp.log1p(adata)\n",
    "    sc.pp.highly_variable_genes(adata, n_top_genes = i)\n",
    "\n",
    "\n",
    "    ad_sp = adata[train_indices[0]]\n",
    "    ad_sc = adata[test_indices[0]]\n",
    "    tg.pp_adatas(ad_sc, ad_sp, genes=adata.var_names[adata.var.highly_variable].tolist())\n",
    "\n",
    "    ad_map = tg.map_cells_to_space(ad_sc, ad_sp, device = 'cuda')\n",
    "    ad_maps.append(ad_map)\n",
    "    torch.cuda.empty_cache()"
   ]
  },
  {
   "cell_type": "code",
   "execution_count": 90,
   "id": "3b50246f",
   "metadata": {},
   "outputs": [
    {
     "name": "stdout",
     "output_type": "stream",
     "text": [
      "100 : [0.16733936302543984, 0.2620920052597901, 0.3573855345969716, 0.0465985376586991]\n",
      "200 : [0.26748712163230626, 0.3754840073928316, 0.3473617557793867, 0.09932962941604027]\n",
      "300 : [0.3615003937625531, 0.4141813378348783, 0.34161163145836193, 0.12890168778370137]\n",
      "400 : [0.3596541034399609, 0.46636381903314933, 0.33940710858696316, 0.1401083309865528]\n",
      "500 : [0.3751353377011392, 0.48494762276879166, 0.3380946528797336, 0.14674571519586496]\n",
      "600 : [0.3855157984084811, 0.5021588430702528, 0.33709083722869027, 0.15180488127864294]\n",
      "700 : [0.38714169565257994, 0.47984515505530906, 0.33888588994169055, 0.1427473295308982]\n",
      "800 : [0.39270617003840474, 0.5080913689252888, 0.3374777209179584, 0.14985679409731506]\n",
      "900 : [0.3893368849492296, 0.5187320641085044, 0.33707725910508884, 0.1518732110279948]\n",
      "1000 : [0.391214448558735, 0.5262319349209161, 0.3370673661299965, 0.1519229941198184]\n",
      "1100 : [0.4003103463576151, 0.5320857124475046, 0.3364139861831669, 0.1552076755092115]\n",
      "1200 : [0.4102703416431084, 0.5484133356081891, 0.3350676422131509, 0.1619559390977549]\n",
      "1300 : [0.4124996847732425, 0.5532315404912007, 0.33504008211517344, 0.1620937955998171]\n",
      "1400 : [0.40402154696001347, 0.5445485924618798, 0.33620378781176546, 0.1562630329089515]\n",
      "1500 : [0.42165921439427495, 0.5510188932087753, 0.3351357825362309, 0.16161505031980647]\n",
      "1600 : [0.42908645113355626, 0.5379097287108551, 0.3358494102115535, 0.15804078741557978]\n",
      "1700 : [0.4150882121898439, 0.5457764785845324, 0.33630433452490405, 0.1557582934179177]\n",
      "1800 : [0.4087615034897528, 0.5384615896317194, 0.3372005089833042, 0.15125287470314494]\n",
      "1900 : [0.4059259528865366, 0.5367811452294438, 0.33767287321452855, 0.1488732899537122]\n",
      "2000 : [0.40778528310946205, 0.5430577095192333, 0.33751359878124554, 0.14967602398331672]\n",
      "2100 : [0.409229136175707, 0.5361402221769314, 0.338330489585821, 0.14555493112733026]\n",
      "2200 : [0.4141050840668153, 0.5355429489088264, 0.3384034129893302, 0.145186559020968]\n",
      "2300 : [0.4014795314689494, 0.5320710531227502, 0.33916136660914037, 0.14135306025627098]\n",
      "2400 : [0.39343847943231236, 0.527739378277619, 0.34000150311605715, 0.13709388348903997]\n",
      "2500 : [0.39606308679717006, 0.5251652943243765, 0.34038411656995116, 0.13515068467625133]\n",
      "2600 : [0.3945048938478714, 0.5263548429427327, 0.3407746133184044, 0.13316519504981247]\n",
      "2700 : [0.402016665851327, 0.5219070100139028, 0.34083146012490195, 0.1328759663421272]\n",
      "2800 : [0.3948592132824918, 0.5237738235973303, 0.34082697832396663, 0.13289877087872723]\n",
      "2900 : [0.39404875465227496, 0.5219684334029225, 0.34118777395922534, 0.13106199182939857]\n",
      "3000 : [0.37931365777107445, 0.5227053995329652, 0.34160403748608836, 0.1289404161073024]\n",
      "3100 : [0.38030585158929436, 0.5137376130857023, 0.34241902086432036, 0.12477918950104398]\n",
      "3200 : [0.38173139980074694, 0.5130020680298694, 0.34254514377137374, 0.12413433208784204]\n",
      "3300 : [0.3699133378015332, 0.5171177257689036, 0.3430716018939585, 0.12144002483374766]\n",
      "3400 : [0.3673744897332264, 0.513507804887816, 0.34341997219564124, 0.11965486046823971]\n",
      "3500 : [0.3557578305714276, 0.5147535625639409, 0.3438188630671597, 0.11760858704270981]\n"
     ]
    }
   ],
   "source": [
    "def MinMaxNorm(Y, Y_ref = Y):\n",
    "    return (Y-Y_ref.min(axis = 0))/(Y_ref.max(axis = 0)-Y_ref.min(axis = 0))/(1+pct_offset)\n",
    "\n",
    "def evaluate(pred, Y_true):\n",
    "\n",
    "    pearsonr_x = stats.pearsonr(Y_true[:, 0], pred[:, 0])[0]\n",
    "    pearsonr_y = stats.pearsonr(Y_true[:, 1], pred[:, 1])[0]\n",
    "    rmse = np.sqrt(np.square(Y_true - pred).sum() / Y_true.shape[0])\n",
    "    r2 = r2_score(Y_true, pred, multioutput='variance_weighted')\n",
    "    \n",
    "    return [pearsonr_x, pearsonr_y, rmse, r2]\n",
    "\n",
    "for i in range(35):\n",
    "    Y_pred = np.matmul(ad_maps[i].X, Y[train_indices[0]])\n",
    "    Tangram = MinMaxNorm(Y_pred, Y_ref = Y)\n",
    "    \n",
    "    pd.DataFrame(Y_pred).to_csv('SI_Benchmarking/Tangram/pred_' + str(i) + '.csv', index = None)\n",
    "    \n",
    "    performance = evaluate(pred = Tangram,\n",
    "                               Y_true = YNorm[test_indices[0]])\n",
    "    print((i+1)*100, ':', performance)"
   ]
  },
  {
   "cell_type": "code",
   "execution_count": 91,
   "id": "815398c8",
   "metadata": {},
   "outputs": [
    {
     "name": "stdout",
     "output_type": "stream",
     "text": [
      "3600\n"
     ]
    },
    {
     "name": "stderr",
     "output_type": "stream",
     "text": [
      "Variable names are not unique. To make them unique, call `.var_names_make_unique`.\n",
      "INFO:root:3409 training genes are saved in `uns``training_genes` of both single cell and spatial Anndatas.\n",
      "INFO:root:19435 overlapped genes are saved in `uns``overlap_genes` of both single cell and spatial Anndatas.\n",
      "INFO:root:uniform based density prior is calculated and saved in `obs``uniform_density` of the spatial Anndata.\n",
      "INFO:root:rna count based density prior is calculated and saved in `obs``rna_count_based_density` of the spatial Anndata.\n",
      "INFO:root:Allocate tensors for mapping.\n",
      "INFO:root:Begin training with 3409 genes and rna_count_based density_prior in cells mode...\n",
      "INFO:root:Printing scores every 100 epochs.\n"
     ]
    },
    {
     "name": "stdout",
     "output_type": "stream",
     "text": [
      "Score: 0.104, KL reg: 0.137\n",
      "Score: 0.641, KL reg: 0.004\n",
      "Score: 0.665, KL reg: 0.003\n",
      "Score: 0.673, KL reg: 0.003\n",
      "Score: 0.677, KL reg: 0.002\n",
      "Score: 0.679, KL reg: 0.002\n",
      "Score: 0.681, KL reg: 0.002\n",
      "Score: 0.683, KL reg: 0.002\n",
      "Score: 0.684, KL reg: 0.002\n",
      "Score: 0.685, KL reg: 0.002\n"
     ]
    },
    {
     "name": "stderr",
     "output_type": "stream",
     "text": [
      "INFO:root:Saving results..\n"
     ]
    },
    {
     "name": "stdout",
     "output_type": "stream",
     "text": [
      "4500\n"
     ]
    },
    {
     "name": "stderr",
     "output_type": "stream",
     "text": [
      "Variable names are not unique. To make them unique, call `.var_names_make_unique`.\n",
      "INFO:root:4289 training genes are saved in `uns``training_genes` of both single cell and spatial Anndatas.\n",
      "INFO:root:19435 overlapped genes are saved in `uns``overlap_genes` of both single cell and spatial Anndatas.\n",
      "INFO:root:uniform based density prior is calculated and saved in `obs``uniform_density` of the spatial Anndata.\n",
      "INFO:root:rna count based density prior is calculated and saved in `obs``rna_count_based_density` of the spatial Anndata.\n",
      "INFO:root:Allocate tensors for mapping.\n",
      "INFO:root:Begin training with 4289 genes and rna_count_based density_prior in cells mode...\n",
      "INFO:root:Printing scores every 100 epochs.\n"
     ]
    },
    {
     "name": "stdout",
     "output_type": "stream",
     "text": [
      "Score: 0.102, KL reg: 0.137\n",
      "Score: 0.595, KL reg: 0.004\n",
      "Score: 0.620, KL reg: 0.003\n",
      "Score: 0.629, KL reg: 0.002\n",
      "Score: 0.633, KL reg: 0.002\n",
      "Score: 0.636, KL reg: 0.002\n",
      "Score: 0.638, KL reg: 0.002\n",
      "Score: 0.640, KL reg: 0.002\n",
      "Score: 0.641, KL reg: 0.002\n",
      "Score: 0.642, KL reg: 0.002\n"
     ]
    },
    {
     "name": "stderr",
     "output_type": "stream",
     "text": [
      "INFO:root:Saving results..\n"
     ]
    },
    {
     "name": "stdout",
     "output_type": "stream",
     "text": [
      "5400\n"
     ]
    },
    {
     "name": "stderr",
     "output_type": "stream",
     "text": [
      "Variable names are not unique. To make them unique, call `.var_names_make_unique`.\n",
      "INFO:root:5173 training genes are saved in `uns``training_genes` of both single cell and spatial Anndatas.\n",
      "INFO:root:19435 overlapped genes are saved in `uns``overlap_genes` of both single cell and spatial Anndatas.\n",
      "INFO:root:uniform based density prior is calculated and saved in `obs``uniform_density` of the spatial Anndata.\n",
      "INFO:root:rna count based density prior is calculated and saved in `obs``rna_count_based_density` of the spatial Anndata.\n",
      "INFO:root:Allocate tensors for mapping.\n",
      "INFO:root:Begin training with 5173 genes and rna_count_based density_prior in cells mode...\n",
      "INFO:root:Printing scores every 100 epochs.\n"
     ]
    },
    {
     "name": "stdout",
     "output_type": "stream",
     "text": [
      "Score: 0.103, KL reg: 0.137\n",
      "Score: 0.552, KL reg: 0.003\n",
      "Score: 0.579, KL reg: 0.002\n",
      "Score: 0.588, KL reg: 0.002\n",
      "Score: 0.593, KL reg: 0.002\n",
      "Score: 0.596, KL reg: 0.002\n",
      "Score: 0.598, KL reg: 0.002\n",
      "Score: 0.600, KL reg: 0.002\n",
      "Score: 0.601, KL reg: 0.002\n",
      "Score: 0.602, KL reg: 0.002\n"
     ]
    },
    {
     "name": "stderr",
     "output_type": "stream",
     "text": [
      "INFO:root:Saving results..\n"
     ]
    },
    {
     "name": "stdout",
     "output_type": "stream",
     "text": [
      "6300\n"
     ]
    },
    {
     "name": "stderr",
     "output_type": "stream",
     "text": [
      "Variable names are not unique. To make them unique, call `.var_names_make_unique`.\n",
      "INFO:root:6058 training genes are saved in `uns``training_genes` of both single cell and spatial Anndatas.\n",
      "INFO:root:19435 overlapped genes are saved in `uns``overlap_genes` of both single cell and spatial Anndatas.\n",
      "INFO:root:uniform based density prior is calculated and saved in `obs``uniform_density` of the spatial Anndata.\n",
      "INFO:root:rna count based density prior is calculated and saved in `obs``rna_count_based_density` of the spatial Anndata.\n",
      "INFO:root:Allocate tensors for mapping.\n",
      "INFO:root:Begin training with 6058 genes and rna_count_based density_prior in cells mode...\n",
      "INFO:root:Printing scores every 100 epochs.\n"
     ]
    },
    {
     "name": "stdout",
     "output_type": "stream",
     "text": [
      "Score: 0.104, KL reg: 0.137\n",
      "Score: 0.518, KL reg: 0.003\n",
      "Score: 0.545, KL reg: 0.002\n",
      "Score: 0.555, KL reg: 0.002\n",
      "Score: 0.560, KL reg: 0.002\n",
      "Score: 0.563, KL reg: 0.002\n",
      "Score: 0.565, KL reg: 0.002\n",
      "Score: 0.567, KL reg: 0.002\n",
      "Score: 0.568, KL reg: 0.002\n",
      "Score: 0.569, KL reg: 0.002\n"
     ]
    },
    {
     "name": "stderr",
     "output_type": "stream",
     "text": [
      "INFO:root:Saving results..\n"
     ]
    },
    {
     "name": "stdout",
     "output_type": "stream",
     "text": [
      "7200\n"
     ]
    },
    {
     "name": "stderr",
     "output_type": "stream",
     "text": [
      "Variable names are not unique. To make them unique, call `.var_names_make_unique`.\n",
      "INFO:root:6949 training genes are saved in `uns``training_genes` of both single cell and spatial Anndatas.\n",
      "INFO:root:19435 overlapped genes are saved in `uns``overlap_genes` of both single cell and spatial Anndatas.\n",
      "INFO:root:uniform based density prior is calculated and saved in `obs``uniform_density` of the spatial Anndata.\n",
      "INFO:root:rna count based density prior is calculated and saved in `obs``rna_count_based_density` of the spatial Anndata.\n",
      "INFO:root:Allocate tensors for mapping.\n",
      "INFO:root:Begin training with 6949 genes and rna_count_based density_prior in cells mode...\n",
      "INFO:root:Printing scores every 100 epochs.\n"
     ]
    },
    {
     "name": "stdout",
     "output_type": "stream",
     "text": [
      "Score: 0.104, KL reg: 0.137\n",
      "Score: 0.486, KL reg: 0.003\n",
      "Score: 0.515, KL reg: 0.002\n",
      "Score: 0.524, KL reg: 0.002\n",
      "Score: 0.529, KL reg: 0.001\n",
      "Score: 0.533, KL reg: 0.001\n",
      "Score: 0.535, KL reg: 0.001\n",
      "Score: 0.537, KL reg: 0.001\n",
      "Score: 0.538, KL reg: 0.001\n",
      "Score: 0.539, KL reg: 0.001\n"
     ]
    },
    {
     "name": "stderr",
     "output_type": "stream",
     "text": [
      "INFO:root:Saving results..\n"
     ]
    },
    {
     "name": "stdout",
     "output_type": "stream",
     "text": [
      "8100\n"
     ]
    },
    {
     "name": "stderr",
     "output_type": "stream",
     "text": [
      "Variable names are not unique. To make them unique, call `.var_names_make_unique`.\n",
      "INFO:root:7842 training genes are saved in `uns``training_genes` of both single cell and spatial Anndatas.\n",
      "INFO:root:19435 overlapped genes are saved in `uns``overlap_genes` of both single cell and spatial Anndatas.\n",
      "INFO:root:uniform based density prior is calculated and saved in `obs``uniform_density` of the spatial Anndata.\n",
      "INFO:root:rna count based density prior is calculated and saved in `obs``rna_count_based_density` of the spatial Anndata.\n",
      "INFO:root:Allocate tensors for mapping.\n",
      "INFO:root:Begin training with 7842 genes and rna_count_based density_prior in cells mode...\n",
      "INFO:root:Printing scores every 100 epochs.\n"
     ]
    },
    {
     "name": "stdout",
     "output_type": "stream",
     "text": [
      "Score: 0.105, KL reg: 0.137\n",
      "Score: 0.460, KL reg: 0.002\n",
      "Score: 0.489, KL reg: 0.001\n",
      "Score: 0.499, KL reg: 0.001\n",
      "Score: 0.504, KL reg: 0.001\n",
      "Score: 0.507, KL reg: 0.001\n",
      "Score: 0.510, KL reg: 0.001\n",
      "Score: 0.511, KL reg: 0.001\n",
      "Score: 0.513, KL reg: 0.001\n",
      "Score: 0.514, KL reg: 0.001\n"
     ]
    },
    {
     "name": "stderr",
     "output_type": "stream",
     "text": [
      "INFO:root:Saving results..\n"
     ]
    },
    {
     "name": "stdout",
     "output_type": "stream",
     "text": [
      "9000\n"
     ]
    },
    {
     "name": "stderr",
     "output_type": "stream",
     "text": [
      "Variable names are not unique. To make them unique, call `.var_names_make_unique`.\n",
      "INFO:root:8731 training genes are saved in `uns``training_genes` of both single cell and spatial Anndatas.\n",
      "INFO:root:19435 overlapped genes are saved in `uns``overlap_genes` of both single cell and spatial Anndatas.\n",
      "INFO:root:uniform based density prior is calculated and saved in `obs``uniform_density` of the spatial Anndata.\n",
      "INFO:root:rna count based density prior is calculated and saved in `obs``rna_count_based_density` of the spatial Anndata.\n",
      "INFO:root:Allocate tensors for mapping.\n",
      "INFO:root:Begin training with 8731 genes and rna_count_based density_prior in cells mode...\n",
      "INFO:root:Printing scores every 100 epochs.\n"
     ]
    },
    {
     "name": "stdout",
     "output_type": "stream",
     "text": [
      "Score: 0.105, KL reg: 0.137\n",
      "Score: 0.439, KL reg: 0.002\n",
      "Score: 0.468, KL reg: 0.001\n",
      "Score: 0.478, KL reg: 0.001\n",
      "Score: 0.483, KL reg: 0.001\n",
      "Score: 0.487, KL reg: 0.001\n",
      "Score: 0.489, KL reg: 0.001\n",
      "Score: 0.491, KL reg: 0.001\n",
      "Score: 0.492, KL reg: 0.001\n",
      "Score: 0.493, KL reg: 0.001\n"
     ]
    },
    {
     "name": "stderr",
     "output_type": "stream",
     "text": [
      "INFO:root:Saving results..\n"
     ]
    },
    {
     "name": "stdout",
     "output_type": "stream",
     "text": [
      "9900\n"
     ]
    },
    {
     "name": "stderr",
     "output_type": "stream",
     "text": [
      "Variable names are not unique. To make them unique, call `.var_names_make_unique`.\n",
      "INFO:root:9614 training genes are saved in `uns``training_genes` of both single cell and spatial Anndatas.\n",
      "INFO:root:19435 overlapped genes are saved in `uns``overlap_genes` of both single cell and spatial Anndatas.\n",
      "INFO:root:uniform based density prior is calculated and saved in `obs``uniform_density` of the spatial Anndata.\n",
      "INFO:root:rna count based density prior is calculated and saved in `obs``rna_count_based_density` of the spatial Anndata.\n",
      "INFO:root:Allocate tensors for mapping.\n",
      "INFO:root:Begin training with 9614 genes and rna_count_based density_prior in cells mode...\n",
      "INFO:root:Printing scores every 100 epochs.\n"
     ]
    },
    {
     "name": "stdout",
     "output_type": "stream",
     "text": [
      "Score: 0.107, KL reg: 0.137\n",
      "Score: 0.421, KL reg: 0.002\n",
      "Score: 0.450, KL reg: 0.001\n",
      "Score: 0.460, KL reg: 0.001\n",
      "Score: 0.465, KL reg: 0.001\n",
      "Score: 0.469, KL reg: 0.001\n",
      "Score: 0.471, KL reg: 0.001\n",
      "Score: 0.473, KL reg: 0.001\n",
      "Score: 0.474, KL reg: 0.001\n",
      "Score: 0.475, KL reg: 0.001\n"
     ]
    },
    {
     "name": "stderr",
     "output_type": "stream",
     "text": [
      "INFO:root:Saving results..\n"
     ]
    },
    {
     "name": "stdout",
     "output_type": "stream",
     "text": [
      "10800\n"
     ]
    },
    {
     "name": "stderr",
     "output_type": "stream",
     "text": [
      "Variable names are not unique. To make them unique, call `.var_names_make_unique`.\n",
      "INFO:root:10502 training genes are saved in `uns``training_genes` of both single cell and spatial Anndatas.\n",
      "INFO:root:19435 overlapped genes are saved in `uns``overlap_genes` of both single cell and spatial Anndatas.\n",
      "INFO:root:uniform based density prior is calculated and saved in `obs``uniform_density` of the spatial Anndata.\n",
      "INFO:root:rna count based density prior is calculated and saved in `obs``rna_count_based_density` of the spatial Anndata.\n",
      "INFO:root:Allocate tensors for mapping.\n",
      "INFO:root:Begin training with 10502 genes and rna_count_based density_prior in cells mode...\n",
      "INFO:root:Printing scores every 100 epochs.\n"
     ]
    },
    {
     "name": "stdout",
     "output_type": "stream",
     "text": [
      "Score: 0.108, KL reg: 0.137\n",
      "Score: 0.407, KL reg: 0.002\n",
      "Score: 0.436, KL reg: 0.001\n",
      "Score: 0.446, KL reg: 0.001\n",
      "Score: 0.451, KL reg: 0.001\n",
      "Score: 0.455, KL reg: 0.001\n",
      "Score: 0.457, KL reg: 0.001\n",
      "Score: 0.459, KL reg: 0.001\n",
      "Score: 0.460, KL reg: 0.001\n",
      "Score: 0.461, KL reg: 0.001\n"
     ]
    },
    {
     "name": "stderr",
     "output_type": "stream",
     "text": [
      "INFO:root:Saving results..\n"
     ]
    },
    {
     "name": "stdout",
     "output_type": "stream",
     "text": [
      "11700\n"
     ]
    },
    {
     "name": "stderr",
     "output_type": "stream",
     "text": [
      "Variable names are not unique. To make them unique, call `.var_names_make_unique`.\n",
      "INFO:root:11390 training genes are saved in `uns``training_genes` of both single cell and spatial Anndatas.\n",
      "INFO:root:19435 overlapped genes are saved in `uns``overlap_genes` of both single cell and spatial Anndatas.\n",
      "INFO:root:uniform based density prior is calculated and saved in `obs``uniform_density` of the spatial Anndata.\n",
      "INFO:root:rna count based density prior is calculated and saved in `obs``rna_count_based_density` of the spatial Anndata.\n",
      "INFO:root:Allocate tensors for mapping.\n",
      "INFO:root:Begin training with 11390 genes and rna_count_based density_prior in cells mode...\n",
      "INFO:root:Printing scores every 100 epochs.\n"
     ]
    },
    {
     "name": "stdout",
     "output_type": "stream",
     "text": [
      "Score: 0.109, KL reg: 0.137\n",
      "Score: 0.395, KL reg: 0.002\n",
      "Score: 0.424, KL reg: 0.001\n",
      "Score: 0.434, KL reg: 0.001\n",
      "Score: 0.439, KL reg: 0.001\n",
      "Score: 0.443, KL reg: 0.001\n",
      "Score: 0.445, KL reg: 0.001\n",
      "Score: 0.447, KL reg: 0.001\n",
      "Score: 0.448, KL reg: 0.001\n",
      "Score: 0.449, KL reg: 0.001\n"
     ]
    },
    {
     "name": "stderr",
     "output_type": "stream",
     "text": [
      "INFO:root:Saving results..\n"
     ]
    },
    {
     "name": "stdout",
     "output_type": "stream",
     "text": [
      "12600\n"
     ]
    },
    {
     "name": "stderr",
     "output_type": "stream",
     "text": [
      "Variable names are not unique. To make them unique, call `.var_names_make_unique`.\n",
      "INFO:root:12272 training genes are saved in `uns``training_genes` of both single cell and spatial Anndatas.\n",
      "INFO:root:19435 overlapped genes are saved in `uns``overlap_genes` of both single cell and spatial Anndatas.\n",
      "INFO:root:uniform based density prior is calculated and saved in `obs``uniform_density` of the spatial Anndata.\n",
      "INFO:root:rna count based density prior is calculated and saved in `obs``rna_count_based_density` of the spatial Anndata.\n",
      "INFO:root:Allocate tensors for mapping.\n",
      "INFO:root:Begin training with 12272 genes and rna_count_based density_prior in cells mode...\n",
      "INFO:root:Printing scores every 100 epochs.\n"
     ]
    },
    {
     "name": "stdout",
     "output_type": "stream",
     "text": [
      "Score: 0.110, KL reg: 0.137\n",
      "Score: 0.387, KL reg: 0.002\n",
      "Score: 0.415, KL reg: 0.001\n",
      "Score: 0.425, KL reg: 0.001\n",
      "Score: 0.431, KL reg: 0.001\n",
      "Score: 0.434, KL reg: 0.001\n",
      "Score: 0.437, KL reg: 0.001\n",
      "Score: 0.438, KL reg: 0.001\n",
      "Score: 0.440, KL reg: 0.001\n",
      "Score: 0.441, KL reg: 0.001\n"
     ]
    },
    {
     "name": "stderr",
     "output_type": "stream",
     "text": [
      "INFO:root:Saving results..\n"
     ]
    },
    {
     "name": "stdout",
     "output_type": "stream",
     "text": [
      "13500\n"
     ]
    },
    {
     "name": "stderr",
     "output_type": "stream",
     "text": [
      "Variable names are not unique. To make them unique, call `.var_names_make_unique`.\n",
      "INFO:root:13152 training genes are saved in `uns``training_genes` of both single cell and spatial Anndatas.\n",
      "INFO:root:19435 overlapped genes are saved in `uns``overlap_genes` of both single cell and spatial Anndatas.\n",
      "INFO:root:uniform based density prior is calculated and saved in `obs``uniform_density` of the spatial Anndata.\n",
      "INFO:root:rna count based density prior is calculated and saved in `obs``rna_count_based_density` of the spatial Anndata.\n",
      "INFO:root:Allocate tensors for mapping.\n",
      "INFO:root:Begin training with 13152 genes and rna_count_based density_prior in cells mode...\n",
      "INFO:root:Printing scores every 100 epochs.\n"
     ]
    },
    {
     "name": "stdout",
     "output_type": "stream",
     "text": [
      "Score: 0.112, KL reg: 0.137\n",
      "Score: 0.381, KL reg: 0.001\n",
      "Score: 0.409, KL reg: 0.001\n",
      "Score: 0.419, KL reg: 0.001\n",
      "Score: 0.424, KL reg: 0.001\n",
      "Score: 0.428, KL reg: 0.001\n",
      "Score: 0.430, KL reg: 0.001\n",
      "Score: 0.432, KL reg: 0.001\n",
      "Score: 0.433, KL reg: 0.001\n",
      "Score: 0.435, KL reg: 0.001\n"
     ]
    },
    {
     "name": "stderr",
     "output_type": "stream",
     "text": [
      "INFO:root:Saving results..\n"
     ]
    },
    {
     "name": "stdout",
     "output_type": "stream",
     "text": [
      "14400\n"
     ]
    },
    {
     "name": "stderr",
     "output_type": "stream",
     "text": [
      "Variable names are not unique. To make them unique, call `.var_names_make_unique`.\n",
      "INFO:root:14023 training genes are saved in `uns``training_genes` of both single cell and spatial Anndatas.\n",
      "INFO:root:19435 overlapped genes are saved in `uns``overlap_genes` of both single cell and spatial Anndatas.\n",
      "INFO:root:uniform based density prior is calculated and saved in `obs``uniform_density` of the spatial Anndata.\n",
      "INFO:root:rna count based density prior is calculated and saved in `obs``rna_count_based_density` of the spatial Anndata.\n",
      "INFO:root:Allocate tensors for mapping.\n",
      "INFO:root:Begin training with 14023 genes and rna_count_based density_prior in cells mode...\n",
      "INFO:root:Printing scores every 100 epochs.\n"
     ]
    },
    {
     "name": "stdout",
     "output_type": "stream",
     "text": [
      "Score: 0.115, KL reg: 0.137\n",
      "Score: 0.377, KL reg: 0.001\n",
      "Score: 0.405, KL reg: 0.001\n",
      "Score: 0.415, KL reg: 0.001\n",
      "Score: 0.420, KL reg: 0.001\n",
      "Score: 0.424, KL reg: 0.001\n",
      "Score: 0.426, KL reg: 0.000\n",
      "Score: 0.428, KL reg: 0.000\n",
      "Score: 0.429, KL reg: 0.000\n",
      "Score: 0.430, KL reg: 0.000\n"
     ]
    },
    {
     "name": "stderr",
     "output_type": "stream",
     "text": [
      "INFO:root:Saving results..\n"
     ]
    },
    {
     "name": "stdout",
     "output_type": "stream",
     "text": [
      "15300\n"
     ]
    },
    {
     "name": "stderr",
     "output_type": "stream",
     "text": [
      "Variable names are not unique. To make them unique, call `.var_names_make_unique`.\n",
      "INFO:root:14884 training genes are saved in `uns``training_genes` of both single cell and spatial Anndatas.\n",
      "INFO:root:19435 overlapped genes are saved in `uns``overlap_genes` of both single cell and spatial Anndatas.\n",
      "INFO:root:uniform based density prior is calculated and saved in `obs``uniform_density` of the spatial Anndata.\n",
      "INFO:root:rna count based density prior is calculated and saved in `obs``rna_count_based_density` of the spatial Anndata.\n",
      "INFO:root:Allocate tensors for mapping.\n",
      "INFO:root:Begin training with 14884 genes and rna_count_based density_prior in cells mode...\n",
      "INFO:root:Printing scores every 100 epochs.\n"
     ]
    },
    {
     "name": "stdout",
     "output_type": "stream",
     "text": [
      "Score: 0.117, KL reg: 0.137\n",
      "Score: 0.375, KL reg: 0.001\n",
      "Score: 0.402, KL reg: 0.001\n",
      "Score: 0.412, KL reg: 0.001\n",
      "Score: 0.418, KL reg: 0.000\n",
      "Score: 0.421, KL reg: 0.000\n",
      "Score: 0.423, KL reg: 0.000\n",
      "Score: 0.425, KL reg: 0.000\n",
      "Score: 0.427, KL reg: 0.000\n",
      "Score: 0.428, KL reg: 0.000\n"
     ]
    },
    {
     "name": "stderr",
     "output_type": "stream",
     "text": [
      "INFO:root:Saving results..\n"
     ]
    },
    {
     "name": "stdout",
     "output_type": "stream",
     "text": [
      "16200\n"
     ]
    },
    {
     "name": "stderr",
     "output_type": "stream",
     "text": [
      "Variable names are not unique. To make them unique, call `.var_names_make_unique`.\n",
      "INFO:root:15752 training genes are saved in `uns``training_genes` of both single cell and spatial Anndatas.\n",
      "INFO:root:19435 overlapped genes are saved in `uns``overlap_genes` of both single cell and spatial Anndatas.\n",
      "INFO:root:uniform based density prior is calculated and saved in `obs``uniform_density` of the spatial Anndata.\n",
      "INFO:root:rna count based density prior is calculated and saved in `obs``rna_count_based_density` of the spatial Anndata.\n",
      "INFO:root:Allocate tensors for mapping.\n",
      "INFO:root:Begin training with 15752 genes and rna_count_based density_prior in cells mode...\n",
      "INFO:root:Printing scores every 100 epochs.\n"
     ]
    },
    {
     "name": "stdout",
     "output_type": "stream",
     "text": [
      "Score: 0.120, KL reg: 0.137\n",
      "Score: 0.374, KL reg: 0.001\n",
      "Score: 0.401, KL reg: 0.001\n",
      "Score: 0.410, KL reg: 0.000\n",
      "Score: 0.416, KL reg: 0.000\n",
      "Score: 0.419, KL reg: 0.000\n",
      "Score: 0.422, KL reg: 0.000\n",
      "Score: 0.423, KL reg: 0.000\n",
      "Score: 0.425, KL reg: 0.000\n",
      "Score: 0.426, KL reg: 0.000\n"
     ]
    },
    {
     "name": "stderr",
     "output_type": "stream",
     "text": [
      "INFO:root:Saving results..\n"
     ]
    },
    {
     "name": "stdout",
     "output_type": "stream",
     "text": [
      "17100\n"
     ]
    },
    {
     "name": "stderr",
     "output_type": "stream",
     "text": [
      "Variable names are not unique. To make them unique, call `.var_names_make_unique`.\n",
      "INFO:root:16597 training genes are saved in `uns``training_genes` of both single cell and spatial Anndatas.\n",
      "INFO:root:19435 overlapped genes are saved in `uns``overlap_genes` of both single cell and spatial Anndatas.\n",
      "INFO:root:uniform based density prior is calculated and saved in `obs``uniform_density` of the spatial Anndata.\n",
      "INFO:root:rna count based density prior is calculated and saved in `obs``rna_count_based_density` of the spatial Anndata.\n",
      "INFO:root:Allocate tensors for mapping.\n",
      "INFO:root:Begin training with 16597 genes and rna_count_based density_prior in cells mode...\n",
      "INFO:root:Printing scores every 100 epochs.\n"
     ]
    },
    {
     "name": "stdout",
     "output_type": "stream",
     "text": [
      "Score: 0.123, KL reg: 0.137\n",
      "Score: 0.373, KL reg: 0.001\n",
      "Score: 0.399, KL reg: 0.001\n",
      "Score: 0.409, KL reg: 0.000\n",
      "Score: 0.414, KL reg: 0.000\n",
      "Score: 0.418, KL reg: 0.000\n",
      "Score: 0.420, KL reg: 0.000\n",
      "Score: 0.422, KL reg: 0.000\n",
      "Score: 0.423, KL reg: 0.000\n",
      "Score: 0.424, KL reg: 0.000\n"
     ]
    },
    {
     "name": "stderr",
     "output_type": "stream",
     "text": [
      "INFO:root:Saving results..\n"
     ]
    }
   ],
   "source": [
    "ad_maps = []\n",
    "\n",
    "for i in np.array(range(4,20))*900:\n",
    "    print(i)\n",
    "    adata = ad.read_h5ad('../Dataset/AdataMH1.h5ad')\n",
    "    adata.var_names_make_unique()\n",
    "\n",
    "    sc.pp.normalize_total(adata, target_sum = 1e4)\n",
    "    sc.pp.log1p(adata)\n",
    "    sc.pp.highly_variable_genes(adata, n_top_genes = i)\n",
    "\n",
    "\n",
    "    ad_sp = adata[train_indices[0]]\n",
    "    ad_sc = adata[test_indices[0]]\n",
    "    tg.pp_adatas(ad_sc, ad_sp, genes=adata.var_names[adata.var.highly_variable].tolist())\n",
    "\n",
    "    ad_map = tg.map_cells_to_space(ad_sc, ad_sp, device = 'cuda')\n",
    "    ad_maps.append(ad_map)\n",
    "    torch.cuda.empty_cache()"
   ]
  },
  {
   "cell_type": "code",
   "execution_count": 92,
   "id": "9beee6de",
   "metadata": {},
   "outputs": [
    {
     "name": "stdout",
     "output_type": "stream",
     "text": [
      "3600 : [0.36529961515135534, 0.5142540260970104, 0.34380052845043135, 0.11770269402015238]\n",
      "4500 : [0.36949446118427137, 0.5161920112914472, 0.3451190905216201, 0.11092204905885021]\n",
      "5400 : [0.35905736294512286, 0.5206937629867276, 0.3458232242184795, 0.10729044249605495]\n",
      "6300 : [0.3782442663608973, 0.5431158061360156, 0.34517893507980607, 0.11061368541453011]\n",
      "7200 : [0.39437665908124164, 0.5514137879537183, 0.3448798096292904, 0.11215446779291725]\n",
      "8100 : [0.398174270561543, 0.5613800544872382, 0.34473310945500657, 0.11290962590497777]\n",
      "9000 : [0.40344091102429513, 0.5625101086574485, 0.3448299021661608, 0.11241140896995393]\n",
      "9900 : [0.410937477534061, 0.5763136246632539, 0.34423469836775034, 0.11547286133807513]\n",
      "10800 : [0.4154574118141797, 0.5819982317603916, 0.34402338318655157, 0.11655849647631894]\n",
      "11700 : [0.42461907584639685, 0.5895925722942909, 0.3434134111501876, 0.11968849816999]\n",
      "12600 : [0.4152814171934159, 0.5932559469281619, 0.34336671769197025, 0.11992787142981877]\n",
      "13500 : [0.42646163645811147, 0.5910442003217654, 0.34292265185664944, 0.12220274102790916]\n",
      "14400 : [0.42706333741592584, 0.5952142525967835, 0.34266792386246936, 0.12350633813560556]\n",
      "15300 : [0.4235207649454909, 0.5958035998720407, 0.34255299576099474, 0.12409417757343114]\n",
      "16200 : [0.43431782832222343, 0.5954643530901668, 0.34225917421476654, 0.1255961327876145]\n",
      "17100 : [0.4273154098811119, 0.5992363522631747, 0.3421316434238442, 0.1262476428092771]\n"
     ]
    }
   ],
   "source": [
    "def MinMaxNorm(Y, Y_ref = Y):\n",
    "    return (Y-Y_ref.min(axis = 0))/(Y_ref.max(axis = 0)-Y_ref.min(axis = 0))/(1+pct_offset)\n",
    "\n",
    "def evaluate(pred, Y_true):\n",
    "\n",
    "    pearsonr_x = stats.pearsonr(Y_true[:, 0], pred[:, 0])[0]\n",
    "    pearsonr_y = stats.pearsonr(Y_true[:, 1], pred[:, 1])[0]\n",
    "    rmse = np.sqrt(np.square(Y_true - pred).sum() / Y_true.shape[0])\n",
    "    r2 = r2_score(Y_true, pred, multioutput='variance_weighted')\n",
    "    \n",
    "    return [pearsonr_x, pearsonr_y, rmse, r2]\n",
    "\n",
    "for i in range(16):\n",
    "    Y_pred = np.matmul(ad_maps[i].X, Y[train_indices[0]])\n",
    "    Tangram = MinMaxNorm(Y_pred, Y_ref = Y)\n",
    "    \n",
    "    pd.DataFrame(Y_pred).to_csv('SI_Benchmarking/Tangram/pred_' + str(i) + '.csv', index = None)\n",
    "    \n",
    "    performance = evaluate(pred = Tangram,\n",
    "                               Y_true = YNorm[test_indices[0]])\n",
    "    print((i+4)*900, ':', performance)"
   ]
  },
  {
   "cell_type": "markdown",
   "id": "6741e335",
   "metadata": {},
   "source": [
    "# Running code"
   ]
  },
  {
   "cell_type": "code",
   "execution_count": 97,
   "id": "90fb478b",
   "metadata": {},
   "outputs": [
    {
     "name": "stderr",
     "output_type": "stream",
     "text": [
      "Variable names are not unique. To make them unique, call `.var_names_make_unique`.\n"
     ]
    },
    {
     "name": "stdout",
     "output_type": "stream",
     "text": [
      "0\n"
     ]
    },
    {
     "name": "stderr",
     "output_type": "stream",
     "text": [
      "INFO:root:19435 training genes are saved in `uns``training_genes` of both single cell and spatial Anndatas.\n",
      "INFO:root:19435 overlapped genes are saved in `uns``overlap_genes` of both single cell and spatial Anndatas.\n",
      "INFO:root:uniform based density prior is calculated and saved in `obs``uniform_density` of the spatial Anndata.\n",
      "INFO:root:rna count based density prior is calculated and saved in `obs``rna_count_based_density` of the spatial Anndata.\n",
      "INFO:root:Allocate tensors for mapping.\n",
      "INFO:root:Begin training with 19435 genes and rna_count_based density_prior in cells mode...\n",
      "INFO:root:Printing scores every 100 epochs.\n"
     ]
    },
    {
     "name": "stdout",
     "output_type": "stream",
     "text": [
      "Score: 0.120, KL reg: 0.137\n",
      "Score: 0.375, KL reg: 0.001\n",
      "Score: 0.400, KL reg: 0.000\n",
      "Score: 0.409, KL reg: 0.000\n",
      "Score: 0.413, KL reg: 0.000\n",
      "Score: 0.417, KL reg: 0.000\n",
      "Score: 0.419, KL reg: 0.000\n",
      "Score: 0.421, KL reg: 0.000\n",
      "Score: 0.422, KL reg: 0.000\n",
      "Score: 0.423, KL reg: 0.000\n"
     ]
    },
    {
     "name": "stderr",
     "output_type": "stream",
     "text": [
      "INFO:root:Saving results..\n"
     ]
    },
    {
     "name": "stdout",
     "output_type": "stream",
     "text": [
      "1\n"
     ]
    },
    {
     "name": "stderr",
     "output_type": "stream",
     "text": [
      "INFO:root:19397 training genes are saved in `uns``training_genes` of both single cell and spatial Anndatas.\n",
      "INFO:root:19397 overlapped genes are saved in `uns``overlap_genes` of both single cell and spatial Anndatas.\n",
      "INFO:root:uniform based density prior is calculated and saved in `obs``uniform_density` of the spatial Anndata.\n",
      "INFO:root:rna count based density prior is calculated and saved in `obs``rna_count_based_density` of the spatial Anndata.\n",
      "INFO:root:Allocate tensors for mapping.\n",
      "INFO:root:Begin training with 19397 genes and rna_count_based density_prior in cells mode...\n",
      "INFO:root:Printing scores every 100 epochs.\n"
     ]
    },
    {
     "name": "stdout",
     "output_type": "stream",
     "text": [
      "Score: 0.120, KL reg: 0.136\n",
      "Score: 0.374, KL reg: 0.001\n",
      "Score: 0.399, KL reg: 0.000\n",
      "Score: 0.407, KL reg: 0.000\n",
      "Score: 0.412, KL reg: 0.000\n",
      "Score: 0.415, KL reg: 0.000\n",
      "Score: 0.418, KL reg: 0.000\n",
      "Score: 0.419, KL reg: 0.000\n",
      "Score: 0.421, KL reg: 0.000\n",
      "Score: 0.422, KL reg: 0.000\n"
     ]
    },
    {
     "name": "stderr",
     "output_type": "stream",
     "text": [
      "INFO:root:Saving results..\n"
     ]
    },
    {
     "name": "stdout",
     "output_type": "stream",
     "text": [
      "2\n"
     ]
    },
    {
     "name": "stderr",
     "output_type": "stream",
     "text": [
      "INFO:root:19447 training genes are saved in `uns``training_genes` of both single cell and spatial Anndatas.\n",
      "INFO:root:19447 overlapped genes are saved in `uns``overlap_genes` of both single cell and spatial Anndatas.\n",
      "INFO:root:uniform based density prior is calculated and saved in `obs``uniform_density` of the spatial Anndata.\n",
      "INFO:root:rna count based density prior is calculated and saved in `obs``rna_count_based_density` of the spatial Anndata.\n",
      "INFO:root:Allocate tensors for mapping.\n",
      "INFO:root:Begin training with 19447 genes and rna_count_based density_prior in cells mode...\n",
      "INFO:root:Printing scores every 100 epochs.\n"
     ]
    },
    {
     "name": "stdout",
     "output_type": "stream",
     "text": [
      "Score: 0.120, KL reg: 0.137\n",
      "Score: 0.374, KL reg: 0.001\n",
      "Score: 0.398, KL reg: 0.000\n",
      "Score: 0.407, KL reg: 0.000\n",
      "Score: 0.412, KL reg: 0.000\n",
      "Score: 0.415, KL reg: 0.000\n",
      "Score: 0.417, KL reg: 0.000\n",
      "Score: 0.419, KL reg: 0.000\n",
      "Score: 0.420, KL reg: 0.000\n",
      "Score: 0.421, KL reg: 0.000\n"
     ]
    },
    {
     "name": "stderr",
     "output_type": "stream",
     "text": [
      "INFO:root:Saving results..\n"
     ]
    },
    {
     "name": "stdout",
     "output_type": "stream",
     "text": [
      "3\n"
     ]
    },
    {
     "name": "stderr",
     "output_type": "stream",
     "text": [
      "INFO:root:19460 training genes are saved in `uns``training_genes` of both single cell and spatial Anndatas.\n",
      "INFO:root:19460 overlapped genes are saved in `uns``overlap_genes` of both single cell and spatial Anndatas.\n",
      "INFO:root:uniform based density prior is calculated and saved in `obs``uniform_density` of the spatial Anndata.\n",
      "INFO:root:rna count based density prior is calculated and saved in `obs``rna_count_based_density` of the spatial Anndata.\n",
      "INFO:root:Allocate tensors for mapping.\n",
      "INFO:root:Begin training with 19460 genes and rna_count_based density_prior in cells mode...\n",
      "INFO:root:Printing scores every 100 epochs.\n"
     ]
    },
    {
     "name": "stdout",
     "output_type": "stream",
     "text": [
      "Score: 0.120, KL reg: 0.137\n",
      "Score: 0.374, KL reg: 0.001\n",
      "Score: 0.398, KL reg: 0.000\n",
      "Score: 0.407, KL reg: 0.000\n",
      "Score: 0.412, KL reg: 0.000\n",
      "Score: 0.415, KL reg: 0.000\n",
      "Score: 0.417, KL reg: 0.000\n",
      "Score: 0.419, KL reg: 0.000\n",
      "Score: 0.420, KL reg: 0.000\n",
      "Score: 0.421, KL reg: 0.000\n"
     ]
    },
    {
     "name": "stderr",
     "output_type": "stream",
     "text": [
      "INFO:root:Saving results..\n"
     ]
    },
    {
     "name": "stdout",
     "output_type": "stream",
     "text": [
      "4\n"
     ]
    },
    {
     "name": "stderr",
     "output_type": "stream",
     "text": [
      "INFO:root:19375 training genes are saved in `uns``training_genes` of both single cell and spatial Anndatas.\n",
      "INFO:root:19375 overlapped genes are saved in `uns``overlap_genes` of both single cell and spatial Anndatas.\n",
      "INFO:root:uniform based density prior is calculated and saved in `obs``uniform_density` of the spatial Anndata.\n",
      "INFO:root:rna count based density prior is calculated and saved in `obs``rna_count_based_density` of the spatial Anndata.\n",
      "INFO:root:Allocate tensors for mapping.\n",
      "INFO:root:Begin training with 19375 genes and rna_count_based density_prior in cells mode...\n",
      "INFO:root:Printing scores every 100 epochs.\n"
     ]
    },
    {
     "name": "stdout",
     "output_type": "stream",
     "text": [
      "Score: 0.121, KL reg: 0.138\n",
      "Score: 0.375, KL reg: 0.001\n",
      "Score: 0.400, KL reg: 0.000\n",
      "Score: 0.409, KL reg: 0.000\n",
      "Score: 0.414, KL reg: 0.000\n",
      "Score: 0.417, KL reg: 0.000\n",
      "Score: 0.419, KL reg: 0.000\n",
      "Score: 0.421, KL reg: 0.000\n",
      "Score: 0.422, KL reg: 0.000\n",
      "Score: 0.423, KL reg: 0.000\n"
     ]
    },
    {
     "name": "stderr",
     "output_type": "stream",
     "text": [
      "INFO:root:Saving results..\n"
     ]
    },
    {
     "name": "stdout",
     "output_type": "stream",
     "text": [
      "164.94758803049723 mins consumed\n"
     ]
    }
   ],
   "source": [
    "ad_maps = []\n",
    "sta = time()\n",
    "\n",
    "adata = ad.read_h5ad('../Dataset/AdataMH1.h5ad')\n",
    "adata.var_names_make_unique()\n",
    "\n",
    "sc.pp.normalize_total(adata, target_sum = 1e4)\n",
    "sc.pp.log1p(adata)\n",
    "sc.pp.highly_variable_genes(adata, n_top_genes = 8000)\n",
    "\n",
    "for i in range(5):\n",
    "\n",
    "    print(i)\n",
    "    ad_sp = adata[train_indices[i]]\n",
    "    ad_sc = adata[test_indices[i]]\n",
    "    tg.pp_adatas(ad_sc, ad_sp, genes=None)\n",
    "\n",
    "    ad_map = tg.map_cells_to_space(ad_sc, ad_sp, device = 'cuda')\n",
    "    ad_maps.append(ad_map)\n",
    "    torch.cuda.empty_cache()\n",
    "\n",
    "end = time()\n",
    "print((end - sta)/60.0, 'mins consumed')"
   ]
  },
  {
   "cell_type": "code",
   "execution_count": 98,
   "id": "b449fff0",
   "metadata": {},
   "outputs": [
    {
     "data": {
      "text/plain": [
       "19375"
      ]
     },
     "execution_count": 98,
     "metadata": {},
     "output_type": "execute_result"
    }
   ],
   "source": [
    "len(ad_sc.uns['training_genes'])"
   ]
  },
  {
   "cell_type": "code",
   "execution_count": 99,
   "id": "1567f020",
   "metadata": {},
   "outputs": [],
   "source": [
    "i = 0\n",
    "for i in range(5):\n",
    "    Y_pred = np.matmul(ad_maps[i].X, Y[train_indices[i]])\n",
    "    pd.DataFrame(Y_pred).to_csv('SI_Benchmarking/Tangram/pred_' + str(i) + '.csv', index = None)"
   ]
  },
  {
   "cell_type": "code",
   "execution_count": 64,
   "id": "666dfc65",
   "metadata": {},
   "outputs": [
    {
     "data": {
      "text/plain": [
       "array([[3107.59604494, 3229.44047571],\n",
       "       [3558.652212  , 3088.45137994],\n",
       "       [3199.65489801, 3185.65921776],\n",
       "       ...,\n",
       "       [2871.82632982, 3491.64458997],\n",
       "       [3146.28042943, 3242.12208494],\n",
       "       [3191.7016737 , 2892.28896944]])"
      ]
     },
     "execution_count": 64,
     "metadata": {},
     "output_type": "execute_result"
    }
   ],
   "source": [
    "Y_pred"
   ]
  },
  {
   "cell_type": "code",
   "execution_count": 36,
   "id": "d7ca1cce",
   "metadata": {},
   "outputs": [],
   "source": [
    "pd.DataFrame(Y_pred).to_csv('SI_Benchmarking/Tangram/pred_' + str(4) + '.csv', index = None)"
   ]
  },
  {
   "cell_type": "code",
   "execution_count": 27,
   "id": "32e27c54",
   "metadata": {},
   "outputs": [
    {
     "data": {
      "text/plain": [
       "19435"
      ]
     },
     "execution_count": 27,
     "metadata": {},
     "output_type": "execute_result"
    }
   ],
   "source": [
    "len(ad_sc.uns['training_genes'])"
   ]
  },
  {
   "cell_type": "code",
   "execution_count": 15,
   "id": "61f1e1da",
   "metadata": {},
   "outputs": [
    {
     "name": "stdout",
     "output_type": "stream",
     "text": [
      "Help on function pp_adatas in module tangram.mapping_utils:\n",
      "\n",
      "pp_adatas(adata_sc, adata_sp, genes=None)\n",
      "    Pre-process AnnDatas so that they can be mapped. Specifically:\n",
      "    - Remove genes that all entries are zero\n",
      "    - Find the intersection between adata_sc, adata_sp and given marker gene list, save the intersected markers in two adatas\n",
      "    - Calculate density priors and save it with adata_sp\n",
      "    \n",
      "    Args:\n",
      "        adata_sc (AnnData): single cell data\n",
      "        adata_sp (AnnData): spatial expression data\n",
      "        genes (List): Optional. List of genes to use. If `None`, all genes are used.\n",
      "    \n",
      "    Returns:\n",
      "        update adata_sc by creating `uns` `training_genes` `overlap_genes` fields \n",
      "        update adata_sp by creating `uns` `training_genes` `overlap_genes` fields and creating `obs` `rna_count_based_density` & `uniform_density` field\n",
      "\n"
     ]
    }
   ],
   "source": [
    "help(tg.pp_adatas)"
   ]
  },
  {
   "cell_type": "code",
   "execution_count": null,
   "id": "4d9d6bd9",
   "metadata": {},
   "outputs": [],
   "source": [
    "adata"
   ]
  },
  {
   "cell_type": "code",
   "execution_count": null,
   "id": "68df41d2",
   "metadata": {},
   "outputs": [],
   "source": []
  },
  {
   "cell_type": "code",
   "execution_count": null,
   "id": "a17a1ccb",
   "metadata": {},
   "outputs": [],
   "source": []
  },
  {
   "cell_type": "code",
   "execution_count": null,
   "id": "33e9b86a",
   "metadata": {},
   "outputs": [],
   "source": []
  },
  {
   "cell_type": "code",
   "execution_count": null,
   "id": "1bef988b",
   "metadata": {},
   "outputs": [],
   "source": []
  }
 ],
 "metadata": {
  "kernelspec": {
   "display_name": "Python 3 (ipykernel)",
   "language": "python",
   "name": "python3"
  },
  "language_info": {
   "codemirror_mode": {
    "name": "ipython",
    "version": 3
   },
   "file_extension": ".py",
   "mimetype": "text/x-python",
   "name": "python",
   "nbconvert_exporter": "python",
   "pygments_lexer": "ipython3",
   "version": "3.9.7"
  }
 },
 "nbformat": 4,
 "nbformat_minor": 5
}
